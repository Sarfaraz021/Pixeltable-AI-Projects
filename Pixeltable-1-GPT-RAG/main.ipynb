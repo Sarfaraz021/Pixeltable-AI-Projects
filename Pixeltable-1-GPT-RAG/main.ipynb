{
 "cells": [
  {
   "cell_type": "code",
   "execution_count": 1,
   "metadata": {},
   "outputs": [],
   "source": [
    "from pixeltable.iterators.document import DocumentSplitter\n",
    "from pixeltable.functions.huggingface import sentence_transformer\n",
    "import pixeltable as pxt\n",
    "import numpy as np\n",
    "import urllib.request\n",
    "import tiktoken"
   ]
  },
  {
   "cell_type": "code",
   "execution_count": 5,
   "metadata": {},
   "outputs": [],
   "source": [
    "# Make sure we start with a clean slate\n",
    "pxt.drop_table('rag_demo2.chunks', ignore_errors=True)\n",
    "pxt.drop_table('rag_demo2.documents', ignore_errors=True)\n",
    "pxt.drop_table('rag_demo2.queries', ignore_errors=True, force=True)\n",
    "pxt.drop_table('rag_demo2.docs', ignore_errors=True)"
   ]
  },
  {
   "cell_type": "code",
   "execution_count": 6,
   "metadata": {},
   "outputs": [
    {
     "ename": "AssertionError",
     "evalue": "",
     "output_type": "error",
     "traceback": [
      "\u001b[1;31m---------------------------------------------------------------------------\u001b[0m",
      "\u001b[1;31mAssertionError\u001b[0m                            Traceback (most recent call last)",
      "Cell \u001b[1;32mIn[6], line 2\u001b[0m\n\u001b[0;32m      1\u001b[0m \u001b[38;5;66;03m# Create the Pixeltable workspace\u001b[39;00m\n\u001b[1;32m----> 2\u001b[0m \u001b[43mpxt\u001b[49m\u001b[38;5;241;43m.\u001b[39;49m\u001b[43mcreate_dir\u001b[49m\u001b[43m(\u001b[49m\u001b[38;5;124;43m'\u001b[39;49m\u001b[38;5;124;43mrag_demo2\u001b[39;49m\u001b[38;5;124;43m'\u001b[39;49m\u001b[43m,\u001b[49m\u001b[43m \u001b[49m\u001b[43mignore_errors\u001b[49m\u001b[38;5;241;43m=\u001b[39;49m\u001b[38;5;28;43;01mTrue\u001b[39;49;00m\u001b[43m)\u001b[49m\n\u001b[0;32m      3\u001b[0m \u001b[38;5;66;03m# pxt.create_dir('demo', ignore_errors=True)\u001b[39;00m\n",
      "File \u001b[1;32md:\\Pixeltable-AI-Projects\\.venv\\Lib\\site-packages\\pixeltable\\globals.py:300\u001b[0m, in \u001b[0;36mcreate_dir\u001b[1;34m(path_str, ignore_errors)\u001b[0m\n\u001b[0;32m    298\u001b[0m \u001b[38;5;28;01mtry\u001b[39;00m:\n\u001b[0;32m    299\u001b[0m     path \u001b[38;5;241m=\u001b[39m catalog\u001b[38;5;241m.\u001b[39mPath(path_str)\n\u001b[1;32m--> 300\u001b[0m     \u001b[43mCatalog\u001b[49m\u001b[38;5;241;43m.\u001b[39;49m\u001b[43mget\u001b[49m\u001b[43m(\u001b[49m\u001b[43m)\u001b[49m\u001b[38;5;241m.\u001b[39mpaths\u001b[38;5;241m.\u001b[39mcheck_is_valid(path, expected\u001b[38;5;241m=\u001b[39m\u001b[38;5;28;01mNone\u001b[39;00m)\n\u001b[0;32m    301\u001b[0m     parent \u001b[38;5;241m=\u001b[39m Catalog\u001b[38;5;241m.\u001b[39mget()\u001b[38;5;241m.\u001b[39mpaths[path\u001b[38;5;241m.\u001b[39mparent]\n\u001b[0;32m    302\u001b[0m     \u001b[38;5;28;01massert\u001b[39;00m parent \u001b[38;5;129;01mis\u001b[39;00m \u001b[38;5;129;01mnot\u001b[39;00m \u001b[38;5;28;01mNone\u001b[39;00m\n",
      "File \u001b[1;32md:\\Pixeltable-AI-Projects\\.venv\\Lib\\site-packages\\pixeltable\\catalog\\catalog.py:27\u001b[0m, in \u001b[0;36mCatalog.get\u001b[1;34m(cls)\u001b[0m\n\u001b[0;32m     24\u001b[0m \u001b[38;5;129m@classmethod\u001b[39m\n\u001b[0;32m     25\u001b[0m \u001b[38;5;28;01mdef\u001b[39;00m \u001b[38;5;21mget\u001b[39m(\u001b[38;5;28mcls\u001b[39m) \u001b[38;5;241m-\u001b[39m\u001b[38;5;241m>\u001b[39m Catalog:\n\u001b[0;32m     26\u001b[0m     \u001b[38;5;28;01mif\u001b[39;00m \u001b[38;5;28mcls\u001b[39m\u001b[38;5;241m.\u001b[39m_instance \u001b[38;5;129;01mis\u001b[39;00m \u001b[38;5;28;01mNone\u001b[39;00m:\n\u001b[1;32m---> 27\u001b[0m         \u001b[38;5;28mcls\u001b[39m\u001b[38;5;241m.\u001b[39m_instance \u001b[38;5;241m=\u001b[39m \u001b[38;5;28;43mcls\u001b[39;49m\u001b[43m(\u001b[49m\u001b[43m)\u001b[49m\n\u001b[0;32m     28\u001b[0m         \u001b[38;5;28;01mwith\u001b[39;00m orm\u001b[38;5;241m.\u001b[39mSession(env\u001b[38;5;241m.\u001b[39mEnv\u001b[38;5;241m.\u001b[39mget()\u001b[38;5;241m.\u001b[39mengine, future\u001b[38;5;241m=\u001b[39m\u001b[38;5;28;01mTrue\u001b[39;00m) \u001b[38;5;28;01mas\u001b[39;00m session:\n\u001b[0;32m     29\u001b[0m             \u001b[38;5;28mcls\u001b[39m\u001b[38;5;241m.\u001b[39m_instance\u001b[38;5;241m.\u001b[39m_load_table_versions(session)\n",
      "File \u001b[1;32md:\\Pixeltable-AI-Projects\\.venv\\Lib\\site-packages\\pixeltable\\catalog\\catalog.py:47\u001b[0m, in \u001b[0;36mCatalog.__init__\u001b[1;34m(self)\u001b[0m\n\u001b[0;32m     44\u001b[0m \u001b[38;5;28mself\u001b[39m\u001b[38;5;241m.\u001b[39mtbls: Dict[UUID, Table] \u001b[38;5;241m=\u001b[39m {}  \u001b[38;5;66;03m# don't use a defaultdict here, it doesn't cooperate with the debugger\u001b[39;00m\n\u001b[0;32m     45\u001b[0m \u001b[38;5;28mself\u001b[39m\u001b[38;5;241m.\u001b[39mtbl_dependents: Dict[UUID, List[Table]] \u001b[38;5;241m=\u001b[39m {}\n\u001b[1;32m---> 47\u001b[0m \u001b[38;5;28;43mself\u001b[39;49m\u001b[38;5;241;43m.\u001b[39;49m\u001b[43m_init_store\u001b[49m\u001b[43m(\u001b[49m\u001b[43m)\u001b[49m\n\u001b[0;32m     48\u001b[0m \u001b[38;5;28mself\u001b[39m\u001b[38;5;241m.\u001b[39mpaths \u001b[38;5;241m=\u001b[39m PathDict()\n",
      "File \u001b[1;32md:\\Pixeltable-AI-Projects\\.venv\\Lib\\site-packages\\pixeltable\\catalog\\catalog.py:52\u001b[0m, in \u001b[0;36mCatalog._init_store\u001b[1;34m(self)\u001b[0m\n\u001b[0;32m     50\u001b[0m \u001b[38;5;28;01mdef\u001b[39;00m \u001b[38;5;21m_init_store\u001b[39m(\u001b[38;5;28mself\u001b[39m) \u001b[38;5;241m-\u001b[39m\u001b[38;5;241m>\u001b[39m \u001b[38;5;28;01mNone\u001b[39;00m:\n\u001b[0;32m     51\u001b[0m \u001b[38;5;250m    \u001b[39m\u001b[38;5;124;03m\"\"\"One-time initialization of the stored catalog. Idempotent.\"\"\"\u001b[39;00m\n\u001b[1;32m---> 52\u001b[0m     \u001b[38;5;28;01mwith\u001b[39;00m orm\u001b[38;5;241m.\u001b[39mSession(\u001b[43menv\u001b[49m\u001b[38;5;241;43m.\u001b[39;49m\u001b[43mEnv\u001b[49m\u001b[38;5;241;43m.\u001b[39;49m\u001b[43mget\u001b[49m\u001b[43m(\u001b[49m\u001b[43m)\u001b[49m\u001b[38;5;241m.\u001b[39mengine, future\u001b[38;5;241m=\u001b[39m\u001b[38;5;28;01mTrue\u001b[39;00m) \u001b[38;5;28;01mas\u001b[39;00m session:\n\u001b[0;32m     53\u001b[0m         \u001b[38;5;28;01mif\u001b[39;00m session\u001b[38;5;241m.\u001b[39mquery(sql\u001b[38;5;241m.\u001b[39mfunc\u001b[38;5;241m.\u001b[39mcount(schema\u001b[38;5;241m.\u001b[39mDir\u001b[38;5;241m.\u001b[39mid))\u001b[38;5;241m.\u001b[39mscalar() \u001b[38;5;241m>\u001b[39m \u001b[38;5;241m0\u001b[39m:\n\u001b[0;32m     54\u001b[0m             \u001b[38;5;28;01mreturn\u001b[39;00m\n",
      "File \u001b[1;32md:\\Pixeltable-AI-Projects\\.venv\\Lib\\site-packages\\pixeltable\\env.py:43\u001b[0m, in \u001b[0;36mEnv.get\u001b[1;34m(cls)\u001b[0m\n\u001b[0;32m     40\u001b[0m \u001b[38;5;129m@classmethod\u001b[39m\n\u001b[0;32m     41\u001b[0m \u001b[38;5;28;01mdef\u001b[39;00m \u001b[38;5;21mget\u001b[39m(\u001b[38;5;28mcls\u001b[39m) \u001b[38;5;241m-\u001b[39m\u001b[38;5;241m>\u001b[39m Env:\n\u001b[0;32m     42\u001b[0m     \u001b[38;5;28;01mif\u001b[39;00m \u001b[38;5;28mcls\u001b[39m\u001b[38;5;241m.\u001b[39m_instance \u001b[38;5;129;01mis\u001b[39;00m \u001b[38;5;28;01mNone\u001b[39;00m:\n\u001b[1;32m---> 43\u001b[0m         \u001b[38;5;28;43mcls\u001b[39;49m\u001b[38;5;241;43m.\u001b[39;49m\u001b[43m_init_env\u001b[49m\u001b[43m(\u001b[49m\u001b[43m)\u001b[49m\n\u001b[0;32m     44\u001b[0m     \u001b[38;5;28;01mreturn\u001b[39;00m \u001b[38;5;28mcls\u001b[39m\u001b[38;5;241m.\u001b[39m_instance\n",
      "File \u001b[1;32md:\\Pixeltable-AI-Projects\\.venv\\Lib\\site-packages\\pixeltable\\env.py:49\u001b[0m, in \u001b[0;36mEnv._init_env\u001b[1;34m(cls, reinit_db)\u001b[0m\n\u001b[0;32m     46\u001b[0m \u001b[38;5;129m@classmethod\u001b[39m\n\u001b[0;32m     47\u001b[0m \u001b[38;5;28;01mdef\u001b[39;00m \u001b[38;5;21m_init_env\u001b[39m(\u001b[38;5;28mcls\u001b[39m, reinit_db: \u001b[38;5;28mbool\u001b[39m \u001b[38;5;241m=\u001b[39m \u001b[38;5;28;01mFalse\u001b[39;00m) \u001b[38;5;241m-\u001b[39m\u001b[38;5;241m>\u001b[39m \u001b[38;5;28;01mNone\u001b[39;00m:\n\u001b[0;32m     48\u001b[0m     env \u001b[38;5;241m=\u001b[39m Env()\n\u001b[1;32m---> 49\u001b[0m     \u001b[43menv\u001b[49m\u001b[38;5;241;43m.\u001b[39;49m\u001b[43m_set_up\u001b[49m\u001b[43m(\u001b[49m\u001b[43mreinit_db\u001b[49m\u001b[38;5;241;43m=\u001b[39;49m\u001b[43mreinit_db\u001b[49m\u001b[43m)\u001b[49m\n\u001b[0;32m     50\u001b[0m     env\u001b[38;5;241m.\u001b[39m_upgrade_metadata()\n\u001b[0;32m     51\u001b[0m     \u001b[38;5;28mcls\u001b[39m\u001b[38;5;241m.\u001b[39m_instance \u001b[38;5;241m=\u001b[39m env\n",
      "File \u001b[1;32md:\\Pixeltable-AI-Projects\\.venv\\Lib\\site-packages\\pixeltable\\env.py:271\u001b[0m, in \u001b[0;36mEnv._set_up\u001b[1;34m(self, echo, reinit_db)\u001b[0m\n\u001b[0;32m    269\u001b[0m \u001b[38;5;66;03m# in pgserver.get_server(): cleanup_mode=None will leave db on for debugging purposes\u001b[39;00m\n\u001b[0;32m    270\u001b[0m \u001b[38;5;28mself\u001b[39m\u001b[38;5;241m.\u001b[39m_db_server \u001b[38;5;241m=\u001b[39m pgserver\u001b[38;5;241m.\u001b[39mget_server(\u001b[38;5;28mself\u001b[39m\u001b[38;5;241m.\u001b[39m_pgdata_dir, cleanup_mode\u001b[38;5;241m=\u001b[39m\u001b[38;5;28;01mNone\u001b[39;00m)\n\u001b[1;32m--> 271\u001b[0m \u001b[38;5;28mself\u001b[39m\u001b[38;5;241m.\u001b[39m_db_url \u001b[38;5;241m=\u001b[39m \u001b[38;5;28;43mself\u001b[39;49m\u001b[38;5;241;43m.\u001b[39;49m\u001b[43m_db_server\u001b[49m\u001b[38;5;241;43m.\u001b[39;49m\u001b[43mget_uri\u001b[49m\u001b[43m(\u001b[49m\u001b[43mdatabase\u001b[49m\u001b[38;5;241;43m=\u001b[39;49m\u001b[38;5;28;43mself\u001b[39;49m\u001b[38;5;241;43m.\u001b[39;49m\u001b[43m_db_name\u001b[49m\u001b[43m)\u001b[49m\n\u001b[0;32m    273\u001b[0m \u001b[38;5;28;01mif\u001b[39;00m reinit_db:\n\u001b[0;32m    274\u001b[0m     \u001b[38;5;28;01mif\u001b[39;00m \u001b[38;5;28mself\u001b[39m\u001b[38;5;241m.\u001b[39m_store_db_exists():\n",
      "File \u001b[1;32md:\\Pixeltable-AI-Projects\\.venv\\Lib\\site-packages\\pgserver\\postgres_server.py:81\u001b[0m, in \u001b[0;36mPostgresServer.get_uri\u001b[1;34m(self, database)\u001b[0m\n\u001b[0;32m     78\u001b[0m \u001b[38;5;28;01mdef\u001b[39;00m \u001b[38;5;21mget_uri\u001b[39m(\u001b[38;5;28mself\u001b[39m, database : Optional[\u001b[38;5;28mstr\u001b[39m] \u001b[38;5;241m=\u001b[39m \u001b[38;5;28;01mNone\u001b[39;00m) \u001b[38;5;241m-\u001b[39m\u001b[38;5;241m>\u001b[39m \u001b[38;5;28mstr\u001b[39m:\n\u001b[0;32m     79\u001b[0m \u001b[38;5;250m    \u001b[39m\u001b[38;5;124;03m\"\"\" Returns a connection string for the postgresql server.\u001b[39;00m\n\u001b[0;32m     80\u001b[0m \u001b[38;5;124;03m    \"\"\"\u001b[39;00m\n\u001b[1;32m---> 81\u001b[0m     \u001b[38;5;28;01mreturn\u001b[39;00m \u001b[38;5;28;43mself\u001b[39;49m\u001b[38;5;241;43m.\u001b[39;49m\u001b[43mget_postmaster_info\u001b[49m\u001b[43m(\u001b[49m\u001b[43m)\u001b[49m\u001b[38;5;241m.\u001b[39mget_uri(database\u001b[38;5;241m=\u001b[39mdatabase)\n",
      "File \u001b[1;32md:\\Pixeltable-AI-Projects\\.venv\\Lib\\site-packages\\pgserver\\postgres_server.py:68\u001b[0m, in \u001b[0;36mPostgresServer.get_postmaster_info\u001b[1;34m(self)\u001b[0m\n\u001b[0;32m     67\u001b[0m \u001b[38;5;28;01mdef\u001b[39;00m \u001b[38;5;21mget_postmaster_info\u001b[39m(\u001b[38;5;28mself\u001b[39m) \u001b[38;5;241m-\u001b[39m\u001b[38;5;241m>\u001b[39m PostmasterInfo:\n\u001b[1;32m---> 68\u001b[0m     \u001b[38;5;28;01massert\u001b[39;00m \u001b[38;5;28mself\u001b[39m\u001b[38;5;241m.\u001b[39m_postmaster_info \u001b[38;5;129;01mis\u001b[39;00m \u001b[38;5;129;01mnot\u001b[39;00m \u001b[38;5;28;01mNone\u001b[39;00m\n\u001b[0;32m     69\u001b[0m     \u001b[38;5;28;01mreturn\u001b[39;00m \u001b[38;5;28mself\u001b[39m\u001b[38;5;241m.\u001b[39m_postmaster_info\n",
      "\u001b[1;31mAssertionError\u001b[0m: "
     ]
    }
   ],
   "source": [
    "# Create the Pixeltable workspace\n",
    "pxt.create_dir('rag_demo2', ignore_errors=True)\n",
    "# pxt.create_dir('demo', ignore_errors=True)"
   ]
  }
 ],
 "metadata": {
  "kernelspec": {
   "display_name": ".venv",
   "language": "python",
   "name": "python3"
  },
  "language_info": {
   "codemirror_mode": {
    "name": "ipython",
    "version": 3
   },
   "file_extension": ".py",
   "mimetype": "text/x-python",
   "name": "python",
   "nbconvert_exporter": "python",
   "pygments_lexer": "ipython3",
   "version": "3.11.5"
  }
 },
 "nbformat": 4,
 "nbformat_minor": 2
}
