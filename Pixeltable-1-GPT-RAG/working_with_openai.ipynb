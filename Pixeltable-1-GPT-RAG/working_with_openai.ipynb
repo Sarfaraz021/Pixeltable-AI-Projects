{
  "cells": [
    {
      "cell_type": "markdown",
      "id": "3e777354",
      "metadata": {
        "id": "3e777354"
      },
      "source": [
        "[![Kaggle](https://kaggle.com/static/images/open-in-kaggle.svg)](https://kaggle.com/kernels/welcome?src=https://github.com/pixeltable/pixeltable/blob/master/docs/release/tutorials/working-with-openai.ipynb)&nbsp;&nbsp;\n",
        "[![Colab](https://colab.research.google.com/assets/colab-badge.svg)](https://colab.research.google.com/github/pixeltable/pixeltable/blob/master/docs/release/tutorials/working-with-openai.ipynb)\n",
        "\n",
        "# Working with OpenAI in Pixeltable\n",
        "\n",
        "Pixeltable unifies data and computation into a table interface. In the [Pixeltable Basics](https://pixeltable.github.io/pixeltable/tutorials/pixeltable-basics/) tutorial, we saw how OpenAI API calls can be incorporated into Pixeltable workflows. In this tutorial, we'll go into more depth on OpenAI integration. You'll need an OpenAI API key to run this demo.\n",
        "\n",
        "### Prerequisites\n",
        "- An OpenAI account with an API key (https://openai.com/index/openai-api/)\n",
        "\n",
        "### Important Notes\n",
        "\n",
        "- OpenAI usage may incur costs based on your OpenAI plan.\n",
        "- Be mindful of sensitive data and consider security measures when integrating with external services."
      ]
    },
    {
      "cell_type": "code",
      "execution_count": 1,
      "id": "d5288926-c278-4cbc-815c-cbc0433bbf49",
      "metadata": {
        "execution": {
          "iopub.execute_input": "2024-05-25T22:22:21.263699Z",
          "iopub.status.busy": "2024-05-25T22:22:21.263278Z",
          "iopub.status.idle": "2024-05-25T22:22:23.242840Z",
          "shell.execute_reply": "2024-05-25T22:22:23.242337Z"
        },
        "id": "d5288926-c278-4cbc-815c-cbc0433bbf49"
      },
      "outputs": [],
      "source": [
        "%pip install -q pixeltable openai tiktoken sentence-transformers"
      ]
    },
    {
      "cell_type": "code",
      "source": [
        "from pixeltable.iterators.document import DocumentSplitter\n",
        "from pixeltable.functions.huggingface import sentence_transformer\n",
        "import pixeltable as pxt\n",
        "import numpy as np\n",
        "import urllib.request\n",
        "import tiktoken"
      ],
      "metadata": {
        "id": "o8mQV8uleR13"
      },
      "id": "o8mQV8uleR13",
      "execution_count": 22,
      "outputs": []
    },
    {
      "cell_type": "code",
      "source": [
        "# Make sure we start with a clean slate\n",
        "pxt.drop_table('rag_demo1.chunks', ignore_errors=True)\n",
        "pxt.drop_table('rag_demo1.documents', ignore_errors=True)\n",
        "pxt.drop_table('rag_demo1.queries', ignore_errors=True, force=True)\n",
        "pxt.drop_table('rag_demo1.docs', ignore_errors=True)"
      ],
      "metadata": {
        "id": "fh3mHMcfeGXI"
      },
      "id": "fh3mHMcfeGXI",
      "execution_count": 23,
      "outputs": []
    },
    {
      "cell_type": "markdown",
      "id": "aa71d21e",
      "metadata": {
        "id": "aa71d21e"
      },
      "source": [
        "## Creating the Table\n",
        "\n",
        "First, we'll create a table and populate it with some sample data."
      ]
    },
    {
      "cell_type": "code",
      "source": [
        "# Create the Pixeltable workspace\n",
        "pxt.create_dir('rag_demo1', ignore_errors=True)"
      ],
      "metadata": {
        "id": "GipBTSrKdQR5"
      },
      "id": "GipBTSrKdQR5",
      "execution_count": 24,
      "outputs": []
    },
    {
      "cell_type": "code",
      "execution_count": 25,
      "id": "a6a7bd0d",
      "metadata": {
        "execution": {
          "iopub.execute_input": "2024-05-25T22:22:27.439964Z",
          "iopub.status.busy": "2024-05-25T22:22:27.439769Z",
          "iopub.status.idle": "2024-05-25T22:22:27.451230Z",
          "shell.execute_reply": "2024-05-25T22:22:27.450917Z"
        },
        "id": "a6a7bd0d",
        "outputId": "e975597d-5202-45e3-d0c3-06f07cc01882",
        "colab": {
          "base_uri": "https://localhost:8080/"
        }
      },
      "outputs": [
        {
          "output_type": "stream",
          "name": "stdout",
          "text": [
            "Created table `docs`.\n"
          ]
        }
      ],
      "source": [
        "# pxt.drop_table('demo.openai', ignore_errors=True)\n",
        "# t = pxt.create_table('demo.openai', {'id': pxt.IntType(), 'input': pxt.StringType()})\n",
        "pxt.drop_table('rag_demo1.docs', ignore_errors=True)\n",
        "docs = pxt.create_table('rag_demo1.docs', {\n",
        "    'source_doc': pxt.DocumentType()\n",
        "})"
      ]
    },
    {
      "cell_type": "code",
      "source": [
        "import pixeltable as pxt\n",
        "import urllib\n",
        "\n",
        "# Local file path of the single PDF file\n",
        "file_path = r\"/content/data.pdf\"\n",
        "\n",
        "# Create a table to store the document\n",
        "documents_t = pxt.create_table(\n",
        "    'rag_demo1.documents', {'document': pxt.DocumentType()}\n",
        ")\n",
        "\n",
        "# Insert the single PDF document into the table\n",
        "try:\n",
        "    documents_t.insert([{'document': file_path}])\n",
        "    print(\"Document inserted successfully.\")\n",
        "except pxt.exceptions.Error as e:\n",
        "    print(f\"Error inserting document: {e}\")\n"
      ],
      "metadata": {
        "id": "iy5N9ioIdavk",
        "outputId": "8f6b984b-3174-4a08-f65e-fe85cf0fa953",
        "colab": {
          "base_uri": "https://localhost:8080/"
        }
      },
      "id": "iy5N9ioIdavk",
      "execution_count": 26,
      "outputs": [
        {
          "output_type": "stream",
          "name": "stdout",
          "text": [
            "Created table `documents`.\n",
            "Inserting rows into `documents`: 1 rows [00:00, 101.93 rows/s]\n",
            "Inserted 1 row with 0 errors.\n",
            "Document inserted successfully.\n"
          ]
        }
      ]
    },
    {
      "cell_type": "code",
      "source": [
        "# Create a view to split documents into chunks\n",
        "chunks_t = pxt.create_view(\n",
        "    'rag_demo1.chunks',\n",
        "    documents_t,\n",
        "    iterator=DocumentSplitter.create(\n",
        "        document=documents_t.document,\n",
        "        separators='token_limit', limit=300\n",
        "    )\n",
        ")\n",
        "\n"
      ],
      "metadata": {
        "id": "tNhzCAfPfLq0",
        "outputId": "6820ddb1-4f5c-4850-e3a2-19df08240075",
        "colab": {
          "base_uri": "https://localhost:8080/"
        }
      },
      "id": "tNhzCAfPfLq0",
      "execution_count": 27,
      "outputs": [
        {
          "output_type": "stream",
          "name": "stdout",
          "text": [
            "Inserting rows into `chunks`: 23 rows [00:00, 1552.57 rows/s]\n",
            "Created view `chunks` with 23 rows, 0 exceptions.\n"
          ]
        }
      ]
    },
    {
      "cell_type": "code",
      "source": [
        "@pxt.expr_udf\n",
        "def e5_embed(text: str) -> np.ndarray:\n",
        "    return sentence_transformer(text, model_id='intfloat/e5-large-v2')\n",
        "\n",
        "chunks_t.add_embedding_index('text', text_embed=e5_embed)"
      ],
      "metadata": {
        "id": "-IbT5WeCpQ15",
        "outputId": "9a0025dd-c312-4a16-9c3e-e5383239a07f",
        "colab": {
          "base_uri": "https://localhost:8080/",
          "height": 411,
          "referenced_widgets": [
            "56373e2c4c9c42b5820aeff6260d8001",
            "74a984648f3e4591b555881eaee0729f",
            "d7b062534cdd44629df8f33998db72ab",
            "6b9ebff033814f268cdd26a7d6e2448b",
            "92375af2489c4aca8a3990d7c1945fe0",
            "67e687e15bcd467687f09fd3d71b3400",
            "9eb74ce9d96d43adb17550afbfdfee49",
            "cb079db34bc94a7fbc4d1a201fded3e5",
            "7b827ba2f233470da36750b1e5a75995",
            "77d1a91e4cab4007b9d9f887bf19d401",
            "c764aa5652d34a9889c85aacaa6e3c22",
            "bfb4c6a97f3044beb0865a6a0b632cec",
            "aaed4eafda004ade9d1e1fad6271b7e9",
            "fd939586221e442a9cb4258b4ffb901d",
            "7279d185433144f9840118069e015415",
            "cf8a233a4a414cd989019d0c2d537271",
            "d7912c5c68574e13ab06b7bf0a1cea50",
            "ca85464c99924ac3a75e389888c76eae",
            "2efc35e7a7fd4d308a2e62391c74a94b",
            "5f56b0f065494477bff88d71bcb6a026",
            "7b56e051347047b2a09b952b485bfa5c",
            "80d7d96185f840a4953822e54e9481be",
            "39bbd9a457e845c4a26d4578a7995014",
            "b0a9427b7cd546f19bc2dfb03722f807",
            "ebfe1d30cd2f4556918ee65fec86fa45",
            "ca3c4de653394e9ca9b42ac8a800a601",
            "a36cb9a59bb34fb48d4571248f158d00",
            "2f174776a5b846998e06b1e9dac68baa",
            "e5dcf87cb6964ae3aac78a286a7e94c6",
            "788dda2b0d104e98ba633465113d96b0",
            "5caae28b068241c0be06a74187c20fcf",
            "ddf9d9f439f14c46b54e7c830825d3f6",
            "ff1d538febba432db38bed61140eac88",
            "af82a77668034f888679257a7c706db4",
            "9ef7d903111b4322aa657956a86fdc39",
            "7b1c365b7482488a88707c8583ce0438",
            "7910b1ce02b74c0aa2b0544d1ff0cf86",
            "c6e101edf2694441a90e11c1211bba59",
            "5d560e05de4c40f39c0cc6bbba18940c",
            "f8ca197f25f84c438bd95e27dee606a0",
            "d9826a7941194195a6a005f68e3ae161",
            "c196c0dc904e4b21b5a60bfd77a4ba91",
            "75133083ebd6462f9e9731a0944c6ac0",
            "624bf2104e07416aa09d44b90d8bdac8",
            "56b6bece901640b386a0245fcdedbffa",
            "83f71d39f098401fadc4414812578247",
            "b66b1829bded43babdc1f935cb0778cb",
            "dbdef7110eb942b9b62d0f3c5a08184d",
            "6f9bf7d4c28e43b7a9859d4395e242ac",
            "d3f7101a8d9a40bd8c9edb31ffa7db2d",
            "a5c405b093084f6a80820f5c9b2b9de7",
            "3eb84cbd4db249649a226432ae8dc633",
            "85961f9462b245e9b3c0117df914587f",
            "f0df1bfe17f64faeb5118673b598d79a",
            "76ea0be3671a49c882d7f776a18c8585",
            "ad87c4dd72894eaf90c20d983b1ba6a2",
            "9fb29e8bbe964e279fa0ce6f8773a684",
            "8003033601474cbeaab27e956ee609e2",
            "88b0dfb3ae6845959c47f1b2a74c38fb",
            "e29f6c2ecdd945afb95f3ba803a818f1",
            "7f57b772b7a148f89fb98aedb8c687b2",
            "c16bc00e24aa42beba6711abaaed7b2e",
            "679e4b21d43f4124b59e2e902a2252c4",
            "eac85cfe85fd4f8f80680ba7b5f78624",
            "8fa394a6bc1d47589d93a90f84d857f4",
            "93eb66a0a6bf4950b9cbea178ab03012",
            "5282251e46c8480eae662114c900d5ff",
            "c64a8d03873d4b1aaa93736efc13630f",
            "9efb6f7a51cb4b728b085a1233961087",
            "e69b24afb7ab43eeb98df49a12a465d8",
            "4fdd9367281b4700b65290661157add7",
            "fd6dfb9f5a7b4dcd8adc989665a14614",
            "0be4b03156094d329de5cd7ae108bb1a",
            "ecc3c006dc6844c589d1ffcc8d36a19e",
            "46c66857f20b4a62b53f24eab0600549",
            "ef888b2667c542e0b8903af351f3c4d9",
            "dcf847996bb14b7b96b722c82c801b0b",
            "62686c86e1ce4582bd6d8fcad8feb9a7",
            "a0449319bb3644f6963d5dfcda602a80",
            "b72cfe947dd24de39e569ea8af1d1a67",
            "463854ed98c54d498f2027ede22d96bf",
            "d26079c2811544d0bb194993b23acb2d",
            "42f33f113e5540ad95e3d707bdb64331",
            "b847761b59a340c19ad710db4f5fde6f",
            "748dc5f33a134282a8f6b624507a3182",
            "169a58f4d9d64a73a21bab99593a191a",
            "6d64847263954bb9825f88da23374f79",
            "33369a532f7d4fea900a0df9130331e5",
            "bcb3f44c4fd9494aab3f22c49589dd78",
            "4ef8b2fc10eb4e0686fc43e05c28de31",
            "11f57d574fe24298b5d954b1eeeb733a",
            "7a2e1029e5664eb48a154e27207b7dae",
            "23e45797d3da4cb3aa430932d1790f04",
            "9787469f60014fde8ca8cd91c3c75d91",
            "26b0fc8652a3446a9cb004f3f987530b",
            "8284df41f8f34b66b80aac1c4f525e8b",
            "9e02c4cdd37d402f85c58a0b3953d072",
            "c29366cd943b4424bf5541bda2f231e3",
            "fd300ee73b39408ba1a07a5632e85cf9",
            "b664f0c92a0840df952e8ae669696ef7",
            "9daa9eaecd9047218c0562f3572ec06f",
            "c7028239acf04d479b79f7b3a620e5b4",
            "94bf83978a8b43c48cfcffd8aecd08af",
            "45f441b9cfec4c439de9dca1ad584def",
            "c41c618e42d64bb58a165e877856878d",
            "f0b837dd56e64c0893a3ed73756b7374",
            "3576c1bbf20543aa9aa346ba67d50174",
            "d545324e15014ba588f553fcebea51b3",
            "c1a27be0c8d84d7fa947e24d5efafff3",
            "6fdb1dcb98ef4223ad40c998d1c66ae0"
          ]
        }
      },
      "id": "-IbT5WeCpQ15",
      "execution_count": 31,
      "outputs": [
        {
          "output_type": "display_data",
          "data": {
            "text/plain": [
              "modules.json:   0%|          | 0.00/387 [00:00<?, ?B/s]"
            ],
            "application/vnd.jupyter.widget-view+json": {
              "version_major": 2,
              "version_minor": 0,
              "model_id": "56373e2c4c9c42b5820aeff6260d8001"
            }
          },
          "metadata": {}
        },
        {
          "output_type": "display_data",
          "data": {
            "text/plain": [
              "README.md:   0%|          | 0.00/67.8k [00:00<?, ?B/s]"
            ],
            "application/vnd.jupyter.widget-view+json": {
              "version_major": 2,
              "version_minor": 0,
              "model_id": "bfb4c6a97f3044beb0865a6a0b632cec"
            }
          },
          "metadata": {}
        },
        {
          "output_type": "display_data",
          "data": {
            "text/plain": [
              "sentence_bert_config.json:   0%|          | 0.00/57.0 [00:00<?, ?B/s]"
            ],
            "application/vnd.jupyter.widget-view+json": {
              "version_major": 2,
              "version_minor": 0,
              "model_id": "39bbd9a457e845c4a26d4578a7995014"
            }
          },
          "metadata": {}
        },
        {
          "output_type": "stream",
          "name": "stderr",
          "text": [
            "/usr/local/lib/python3.10/dist-packages/huggingface_hub/file_download.py:1132: FutureWarning: `resume_download` is deprecated and will be removed in version 1.0.0. Downloads always resume when possible. If you want to force a new download, use `force_download=True`.\n",
            "  warnings.warn(\n"
          ]
        },
        {
          "output_type": "display_data",
          "data": {
            "text/plain": [
              "config.json:   0%|          | 0.00/616 [00:00<?, ?B/s]"
            ],
            "application/vnd.jupyter.widget-view+json": {
              "version_major": 2,
              "version_minor": 0,
              "model_id": "af82a77668034f888679257a7c706db4"
            }
          },
          "metadata": {}
        },
        {
          "output_type": "display_data",
          "data": {
            "text/plain": [
              "model.safetensors:   0%|          | 0.00/1.34G [00:00<?, ?B/s]"
            ],
            "application/vnd.jupyter.widget-view+json": {
              "version_major": 2,
              "version_minor": 0,
              "model_id": "56b6bece901640b386a0245fcdedbffa"
            }
          },
          "metadata": {}
        },
        {
          "output_type": "display_data",
          "data": {
            "text/plain": [
              "tokenizer_config.json:   0%|          | 0.00/314 [00:00<?, ?B/s]"
            ],
            "application/vnd.jupyter.widget-view+json": {
              "version_major": 2,
              "version_minor": 0,
              "model_id": "ad87c4dd72894eaf90c20d983b1ba6a2"
            }
          },
          "metadata": {}
        },
        {
          "output_type": "display_data",
          "data": {
            "text/plain": [
              "vocab.txt:   0%|          | 0.00/232k [00:00<?, ?B/s]"
            ],
            "application/vnd.jupyter.widget-view+json": {
              "version_major": 2,
              "version_minor": 0,
              "model_id": "5282251e46c8480eae662114c900d5ff"
            }
          },
          "metadata": {}
        },
        {
          "output_type": "display_data",
          "data": {
            "text/plain": [
              "tokenizer.json:   0%|          | 0.00/711k [00:00<?, ?B/s]"
            ],
            "application/vnd.jupyter.widget-view+json": {
              "version_major": 2,
              "version_minor": 0,
              "model_id": "62686c86e1ce4582bd6d8fcad8feb9a7"
            }
          },
          "metadata": {}
        },
        {
          "output_type": "display_data",
          "data": {
            "text/plain": [
              "special_tokens_map.json:   0%|          | 0.00/125 [00:00<?, ?B/s]"
            ],
            "application/vnd.jupyter.widget-view+json": {
              "version_major": 2,
              "version_minor": 0,
              "model_id": "bcb3f44c4fd9494aab3f22c49589dd78"
            }
          },
          "metadata": {}
        },
        {
          "output_type": "display_data",
          "data": {
            "text/plain": [
              "1_Pooling/config.json:   0%|          | 0.00/201 [00:00<?, ?B/s]"
            ],
            "application/vnd.jupyter.widget-view+json": {
              "version_major": 2,
              "version_minor": 0,
              "model_id": "b664f0c92a0840df952e8ae669696ef7"
            }
          },
          "metadata": {}
        },
        {
          "output_type": "stream",
          "name": "stdout",
          "text": [
            "Computing cells: 100%|██████████████████████████████████████████| 23/23 [03:17<00:00,  8.58s/ cells]\n"
          ]
        }
      ]
    },
    {
      "cell_type": "code",
      "source": [
        "# chunks_t['new'] =sentence_transformer(chunks_t.text, model_id='paraphrase-MiniLM-L6-v2')"
      ],
      "metadata": {
        "id": "e37uEt65hejq"
      },
      "id": "e37uEt65hejq",
      "execution_count": 32,
      "outputs": []
    },
    {
      "cell_type": "code",
      "source": [
        "chunks_t.head(1)"
      ],
      "metadata": {
        "id": "4H0QULbFmlpe",
        "outputId": "d032b764-0872-4896-fe36-36c8ea7732a8",
        "colab": {
          "base_uri": "https://localhost:8080/",
          "height": 931
        }
      },
      "id": "4H0QULbFmlpe",
      "execution_count": 33,
      "outputs": [
        {
          "output_type": "execute_result",
          "data": {
            "text/plain": [
              "   pos                                               text  \\\n",
              "0    0  PROMPT OPTIMIZATION ENGINE: Overcoming \\nHallu...   \n",
              "\n",
              "                                        minilm_embed  \\\n",
              "0  [-0.5824147, 0.2235151, -0.1734538, -0.4407066...   \n",
              "\n",
              "                                                 new           document  \n",
              "0  [-0.5824147, 0.2235151, -0.1734538, -0.4407066...  /content/data.pdf  "
            ],
            "text/html": [
              "<table border=\"1\" class=\"dataframe\">\n",
              "  <thead>\n",
              "    <tr style=\"text-align: right;\">\n",
              "      <th>pos</th>\n",
              "      <th>text</th>\n",
              "      <th>minilm_embed</th>\n",
              "      <th>new</th>\n",
              "      <th>document</th>\n",
              "    </tr>\n",
              "  </thead>\n",
              "  <tbody>\n",
              "    <tr>\n",
              "      <td>0</td>\n",
              "      <td>PROMPT OPTIMIZATION ENGINE: Overcoming \\nHallucinations in LLMs through Prompt Engineering \\nSarfaraz Ahmed \\nDepartment of Computer Systems \\nEngineering \\nMehran University of Engineering \\nand Technology \\nJamshoro, Pakistan  \\nsarfarazahmedbehan2@gmail.com \\nAbdul Qadir \\nDepartment of Computer Systems \\nEngineering \\nMehran University of Engineering \\nand Technology \\nJamshoro, Pakistan \\nabdulqadirrmagssii@gmail.com \\nMuhammad Areeb \\nDepartment of Computer \\nSystems Engineering \\nMehran University of \\nEngineering and Technology \\nJamshoro, Pakistan \\nsyedareebali795@gmail.com \\nHuzaifa Saeed \\nDepartment of Computer Systems \\nEngineering \\nMehran University of Engineering \\nand Technology \\nJamshoro, Pakistan  \\nhuzai.exe@gmail.com \\nSanam Narejo \\nDepartment of Computer Systems \\nEngineering \\nMehran University of Engineering \\nand Technology \\nJamshoro, Pakistan  \\nSanam.narejo@faculty.muet.edu.pk \\nBhawani Shankar Chowdhry  \\nExecutive Head, National Centre \\nfor Robotics, Automation and AI \\n(NCRAAI), Mehran University \\nof Engineering & Technology, \\nJamshoro, Pakistan \\nbhawani.chowdhry@faculty.muet \\n.edu.pk \\n \\nABSTRACT \\nIn an era dominated by Generative AI, the significance of efficiently interacting with Large Language \\nModels (</td>\n",
              "      <td>[-0.5824147, 0.2235151, -0.1734538, -0.44070667, -0.22663829, -0.027024034, 0.014970129, -0.16333339, -0.020586066, 0.081003994, -0.18533118, 0.16269538, 0.5308771, -0.4333089, 0.08958122, 0.0916405, 0.09296043, -0.068504, 0.16577008, -0.4405447, -0.12290316, -0.55149865, 0.057357322, -0.19765583, -0.044204928, 0.17673607, 0.2434942, 0.062247142, -0.09950496, -0.004613444, 0.13860431, -0.07189898, 0.5669384, -0.029829677, -0.13040107, 0.37277788, -0.03665312, 0.014725897, 0.08064056, -0.34140456, -0.30709147, 0.00021182536, 0.069134414, -0.27827692, 0.29075515, -0.20770958, -0.13711709, 0.08371833, -0.22300686, -0.028909668, -0.05778163, 0.025445458, 0.0026810395, -0.13394293, 0.036253255, -0.21893485, 0.22213398, 0.21834406, -0.2963248, -0.34799796, -0.12220154, -0.20477034, 0.0421481, 0.061942063, 0.2633578, 0.18239583, 0.05403911, 0.35215822, 0.36422047, 0.068113685, -0.033817053, -0.096097045, -0.54337126, -0.09916494, 0.06483145, -0.25615254, -0.28081772, -0.007862332, -0.038916625, -0.2948862, 0.08803503, -0.026646048, -0.24020806, -0.07407079, -0.122876935, -0.01791397, 0.30270442, 0.062345266, 0.446906, -0.20728374, 0.25861603, -0.28289893, -0.04319671, 0.22774184, 0.42408818, -0.015642427, 0.1881712, -0.5867055, -0.21187317, 0.18726423, ...]</td>\n",
              "      <td>[-0.5824147, 0.2235151, -0.1734538, -0.44070667, -0.22663829, -0.027024034, 0.014970129, -0.16333339, -0.020586066, 0.081003994, -0.18533118, 0.16269538, 0.5308771, -0.4333089, 0.08958122, 0.0916405, 0.09296043, -0.068504, 0.16577008, -0.4405447, -0.12290316, -0.55149865, 0.057357322, -0.19765583, -0.044204928, 0.17673607, 0.2434942, 0.062247142, -0.09950496, -0.004613444, 0.13860431, -0.07189898, 0.5669384, -0.029829677, -0.13040107, 0.37277788, -0.03665312, 0.014725897, 0.08064056, -0.34140456, -0.30709147, 0.00021182536, 0.069134414, -0.27827692, 0.29075515, -0.20770958, -0.13711709, 0.08371833, -0.22300686, -0.028909668, -0.05778163, 0.025445458, 0.0026810395, -0.13394293, 0.036253255, -0.21893485, 0.22213398, 0.21834406, -0.2963248, -0.34799796, -0.12220154, -0.20477034, 0.0421481, 0.061942063, 0.2633578, 0.18239583, 0.05403911, 0.35215822, 0.36422047, 0.068113685, -0.033817053, -0.096097045, -0.54337126, -0.09916494, 0.06483145, -0.25615254, -0.28081772, -0.007862332, -0.038916625, -0.2948862, 0.08803503, -0.026646048, -0.24020806, -0.07407079, -0.122876935, -0.01791397, 0.30270442, 0.062345266, 0.446906, -0.20728374, 0.25861603, -0.28289893, -0.04319671, 0.22774184, 0.42408818, -0.015642427, 0.1881712, -0.5867055, -0.21187317, 0.18726423, ...]</td>\n",
              "      <td><div class=\"pxt_document\" style=\"width:320px;\">\n",
              "            <a href=\"http://127.0.0.1:43581/content/data.pdf\">\n",
              "                \n",
              "                    <img style=\"object-fit: contain; border: 1px solid black;\" src=\"data:image/jpeg;base64,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\" />\n",
              "                \n",
              "            </a>\n",
              "        </div></td>\n",
              "    </tr>\n",
              "  </tbody>\n",
              "</table>"
            ]
          },
          "metadata": {},
          "execution_count": 33
        }
      ]
    },
    {
      "cell_type": "code",
      "source": [
        "query_text = \"What is Chain of Thought?\""
      ],
      "metadata": {
        "id": "IDk6XvapnIya"
      },
      "id": "IDk6XvapnIya",
      "execution_count": 34,
      "outputs": []
    },
    {
      "cell_type": "code",
      "source": [
        "sim = chunks_t.text.similarity(query_text)\n",
        "nvidia_eps_query = (\n",
        "            chunks_t.order_by(sim, asc=False)\n",
        "            .select(similarity=sim, text=chunks_t.text)\n",
        "            .limit(5)\n",
        "        )\n",
        "print(nvidia_eps_query.collect())"
      ],
      "metadata": {
        "id": "IB3453rMm09s",
        "outputId": "1d310348-d085-43fe-8333-f033132991e7",
        "colab": {
          "base_uri": "https://localhost:8080/"
        }
      },
      "id": "IB3453rMm09s",
      "execution_count": 35,
      "outputs": [
        {
          "output_type": "stream",
          "name": "stdout",
          "text": [
            "   similarity                                                                                                                                                                                                                                                                                                                                                                                                                                                                                                                                                                                                                                                                                                                                                                                                                                                                                                                                                                                                                                                                                                                                                                                                                                                                                                                                                                                                                                                                            text\n",
            "0    0.801636  . This model \\nis adept at understanding and responding to user \\ninputs, making it a powerful engine for prompt \\ngeneration. The synergy between the user-\\ndefined parameters and the OpenAI's model \\nensures that the prompts generated are not only \\ncontext-aware but also linguistically sound and \\ncoherent. \\n3.1.3 Prompt Templates \\nTo further enhance the flexibility and \\nadaptability of the framework, a repertoire of \\nprompt templates is employed. These templates \\nserve as the foundational elements for prompt \\ngeneration, covering a spectrum of linguistic \\nscenarios.  \\n \\n \\n \\n \\n \\nFigure 1: Workflow diagram of POE \\n \\n3.2 Prompt Engineering Techniques \\n3.2.1 Chain of Thought (CoT) \\nChain of Thought (CoT) is a reasoning \\ntechnique used to enhance the interpretability \\nand accuracy of LLMs by encouraging them to \\nbreak down complex problems into a series of \\nintermediate steps. This technique helps models \\ntackle intricate problems by making the \\nreasoning process more transparent and \\nunderstandable. \\n3.2.2 Few-Shot Prompting \\nFew-shot prompting involves providing the \\nmodel with a few examples of the task at hand \\nto guide its responses. This technique improves \\nthe model's ability to generalize from a small \\nnumber of examples, thereby enhancing its \\nperformance on specific tasks. \\n \\n \\n \\n \\nFigure 2: Internal Architecture of POE \\n \\n4. Results and Discussion \\n4.\n",
            "1    0.792939                                                                                                                                                                                                                                         unclear/inefficient user prompts [4]. \\n \\n \\n2.1.2. Existing Methods for Prompt \\nEngineering: \\nWe have reviewed various papers discussing \\ntechniques for overcoming hallucinations in \\nLarge Language Models (LLMs). Our primary \\nfocus \\nhas \\nbeen \\non \\nadvanced \\nprompt \\nengineering techniques, including Chain of \\nThought (CoT), Tree of Thought (ToT), Tools, \\nConnectors, and Skills, Automatic Multi-step \\nReasoning and Tool-use (ART), Enhancing \\nReliability \\nthrough \\nSelf-Consistency, \\nReflection, Expert Prompting, Streamlining \\nComplex Tasks with Chains, Guiding LLM \\nOutputs with Rails, and Streamlining Prompt \\nDesign with Automatic Prompt Engineering \\n[5]. \\n \\n \\n \\n \\n2.1.3. Critical Evaluation: \\nTalking about hallucination, there are several types of hallucination which are discussed in Table 1. \\nTable 1: Types of Hallucinations in LLMs \\nModels \\nPrompts \\nType of \\nHallucination \\nResult \\nGPT 3.5 \\nTurbo \\nA 6th man is standing on top of a 100th \\nbuilding. He is 5ft11, and is about to \\nparachute off, but doesn't know if he'll \\nhave time to deploy the parachute, as the \\nbuilding is only 100th high. So, when, \\nduring this 200th jump should the\n",
            "2    0.790952                                                                    . \\n \\n2.3. Synthesis and Integration: \\nPrompt engineering holds significant potential \\nfor reducing hallucinations in LLMs [1, 2, 3, 4, \\n9, 12], but the effectiveness of specific \\ntechniques varies widely. \\nIntegrating insights from various studies \\nsuggests that a hybrid approach, combining \\nmultiple optimization strategies, may offer the \\nbest results. \\nA holistic approach to prompt engineering is \\nnecessary, considering both the strengths and \\nlimitations of individual techniques. \\n2.4. Conclusion and Research Gaps: \\nWe have reviewed the papers discussing \\nvarious techniques to mitigate hallucinations in \\nLarge Language Models (LLMs) [1, 2, 3, 4, 8, \\n12], with a particular emphasis on advanced \\nprompt engineering methods. These methods \\ninclude Chain of Thought (CoT), Tree of \\nThought (ToT), Tools, Connectors, and Skills, \\nAutomatic Multi-step Reasoning and Tool-use \\n(ART), Enhancing Reliability through Self-\\nConsistency, Reflection, Expert Prompting, \\nStreamlining Complex Tasks with Chains, \\nGuiding LLM Outputs with Rails, and \\nStreamlining Prompt Design with Automatic \\nPrompt \\nEngineering \\n[5], \\nWhile \\nthese \\ntechniques focus primarily on post hoc \\nmeasures to address hallucinations that was the \\nmajor gap in their research, our research centers \\non preemptive strategies by optimizing prompts \\n\n",
            "3    0.790142                                                                                                                                                                       10,] and Few-\\nShot Prompting [5, 7, 9, 10, 11] have shown \\npromise in improving the accuracy and \\ncomprehensibility of AI responses. What was \\nonce considered an artistic skill in crafting \\nprompts has now become a strategic necessity \\nto unlock the full potential of these language \\nmodels. \\nTo address the issue of hallucinations, The \\npaper proposes a system designed to improve \\nthe prompts given to LLMs, ensuring that the \\nresponses generated closely match user \\nintentions. Our approach involves asking users \\nfour key questions to tailor the LLM's \\nbehavior, focusing on the user's role, the \\ncontext or reason for the prompt, the desired \\ntone of the recommended prompt, and the \\nresponse length (or word limit). This user-\\ncentric method aims to create prompts that align \\nperfectly with user expectations, thereby \\nreducing the risk of hallucinations and \\nenhancing the overall user experience. \\nThe field of natural language processing is \\ncontinuously evolving, with new advancements \\nbeing made regularly. This underscores the \\nimportance \\nof \\nwell-crafted \\nprompts \\nin \\nmaximizing the performance of LLMs [4]. \\nTechniques like Chain of Thought (CoT) [5, 7, \\n10,] and Few-Shot Prompting [5, 7, 9, 10, 11] \\nhave\n",
            "4    0.781477                                                                                                                               , despite their impressive \\ncapabilities, these models are not without flaws. \\nOne \\nsignificant \\nissue \\nthey \\nface \\nis \\n\"hallucinations,\" [1, 2] where the LLMs \\ngenerate information that is incorrect or \\nfabricated. This can be particularly problematic \\nin high-stakes domains such as healthcare or \\nfinance, where accuracy is paramount. \\nHallucinations can occur for two primary \\nreasons: the AI model may be trained on \\nincorrect or insufficient data [3], or the prompts \\nprovided by users may be unclear or inefficient \\n[4]. Our research focuses on the latter—\\noptimizing user prompts to reduce the \\noccurrence of hallucinations. Studies have \\ndemonstrated that domain-specific prompts can \\nsignificantly \\nreduce \\nthe \\nincidence \\nof \\nhallucinations, highlighting the critical role of \\nprompt clarity and precision. \\nPrompt engineering is essential in optimizing \\nthe outputs of LLMs [4, 5, 6, 7, 8, 9]. Effective \\nprompt engineering involves crafting clear and \\nspecific prompts that guide the LLMs to \\nproduce accurate and relevant responses. Y [4] \\nTechniques \\nsuch \\nas \\npredefined \\nprompt \\ntemplates, \\nfine-tuning, \\nand \\ncontextual \\nadjustments have been explored to enhance \\nLLM's performance. Advanced methods like \\nChain of Thought (CoT) [5, 7,\n"
          ]
        }
      ]
    },
    {
      "cell_type": "markdown",
      "source": [
        "<h1>Above My Work"
      ],
      "metadata": {
        "id": "fOrahquZmr8a"
      },
      "id": "fOrahquZmr8a"
    },
    {
      "cell_type": "code",
      "execution_count": 4,
      "id": "342407c1",
      "metadata": {
        "execution": {
          "iopub.execute_input": "2024-05-25T22:22:27.452865Z",
          "iopub.status.busy": "2024-05-25T22:22:27.452760Z",
          "iopub.status.idle": "2024-05-25T22:22:27.455377Z",
          "shell.execute_reply": "2024-05-25T22:22:27.454916Z"
        },
        "id": "342407c1"
      },
      "outputs": [],
      "source": [
        "# text from https://en.wikipedia.org/wiki/Global_financial_crisis_in_September_2008\n",
        "\n",
        "wikipedia_text = '''On Sunday, September 14, it was announced that Lehman Brothers would file for bankruptcy after the Federal Reserve Bank declined to participate in creating a financial support facility for Lehman Brothers.\n",
        "The significance of the Lehman Brothers bankruptcy is disputed with some assigning it a pivotal role in the unfolding of subsequent events.\n",
        "The principals involved, Ben Bernanke and Henry Paulson, dispute this view, citing a volume of toxic assets at Lehman which made a rescue impossible.[16][17] Immediately following the bankruptcy, JPMorgan Chase provided the broker dealer unit of Lehman Brothers with $138 billion to \"settle securities transactions with customers of Lehman and its clearance parties\" according to a statement made in a New York City Bankruptcy court filing.[18]\n",
        "The same day, the sale of Merrill Lynch to Bank of America was announced.[19] The beginning of the week was marked by extreme instability in global stock markets, with dramatic drops in market values on Monday, September 15, and Wednesday, September 17.\n",
        "On September 16, the large insurer American International Group (AIG), a significant participant in the credit default swaps markets, suffered a liquidity crisis following the downgrade of its credit rating.\n",
        "The Federal Reserve, at AIG's request, and after AIG had shown that it could not find lenders willing to save it from insolvency, created a credit facility for up to US$85 billion in exchange for a 79.9% equity interest, and the right to suspend dividends to previously issued common and preferred stock.[20]'''\n",
        "\n",
        "sample_inputs = wikipedia_text.split('\\n')"
      ]
    },
    {
      "cell_type": "code",
      "execution_count": 5,
      "id": "c5f0b862",
      "metadata": {
        "execution": {
          "iopub.execute_input": "2024-05-25T22:22:27.457121Z",
          "iopub.status.busy": "2024-05-25T22:22:27.456995Z",
          "iopub.status.idle": "2024-05-25T22:22:27.468881Z",
          "shell.execute_reply": "2024-05-25T22:22:27.468592Z"
        },
        "id": "c5f0b862",
        "outputId": "28ac36e5-b3d5-46b5-cc0e-522a743d60ec",
        "colab": {
          "base_uri": "https://localhost:8080/",
          "height": 170
        }
      },
      "outputs": [
        {
          "output_type": "stream",
          "name": "stdout",
          "text": [
            "Computing cells:   0%|                                                    | 0/1 [00:00<?, ? cells/s]\n",
            "Inserting rows into `openai`: 1 rows [00:00, 124.15 rows/s]\n",
            "Computing cells: 100%|████████████████████████████████████████████| 1/1 [00:00<00:00, 60.28 cells/s]\n",
            "Inserted 1 row with 0 errors.\n"
          ]
        },
        {
          "output_type": "execute_result",
          "data": {
            "text/plain": [
              "   id                                              input\n",
              "0   0  On Sunday, September 14, it was announced that..."
            ],
            "text/html": [
              "<table border=\"1\" class=\"dataframe\">\n",
              "  <thead>\n",
              "    <tr style=\"text-align: right;\">\n",
              "      <th>id</th>\n",
              "      <th>input</th>\n",
              "    </tr>\n",
              "  </thead>\n",
              "  <tbody>\n",
              "    <tr>\n",
              "      <td>0</td>\n",
              "      <td>On Sunday, September 14, it was announced that Lehman Brothers would file for bankruptcy after the Federal Reserve Bank declined to participate in creating a financial support facility for Lehman Brothers.</td>\n",
              "    </tr>\n",
              "  </tbody>\n",
              "</table>"
            ]
          },
          "metadata": {},
          "execution_count": 5
        }
      ],
      "source": [
        "# Insert a single sample row into the table\n",
        "t.insert(id=0, input=sample_inputs[0])\n",
        "t.show()"
      ]
    },
    {
      "cell_type": "markdown",
      "id": "8b08ecc3",
      "metadata": {
        "id": "8b08ecc3"
      },
      "source": [
        "## Making OpenAI API calls\n",
        "\n",
        "Calling OpenAI API endpoints involves constructing a message object, which we can express in Pixeltable by adding a new computed column."
      ]
    },
    {
      "cell_type": "code",
      "execution_count": 6,
      "id": "12197f4e",
      "metadata": {
        "execution": {
          "iopub.execute_input": "2024-05-25T22:22:27.470524Z",
          "iopub.status.busy": "2024-05-25T22:22:27.470418Z",
          "iopub.status.idle": "2024-05-25T22:22:27.479963Z",
          "shell.execute_reply": "2024-05-25T22:22:27.479568Z"
        },
        "id": "12197f4e",
        "outputId": "a8e6961a-280c-413a-cea9-9535919ee7a3",
        "colab": {
          "base_uri": "https://localhost:8080/"
        }
      },
      "outputs": [
        {
          "output_type": "stream",
          "name": "stdout",
          "text": [
            "Computing cells: 100%|████████████████████████████████████████████| 1/1 [00:00<00:00, 64.44 cells/s]\n",
            "Added 1 column value with 0 errors.\n"
          ]
        },
        {
          "output_type": "execute_result",
          "data": {
            "text/plain": [
              "UpdateStatus(num_rows=1, num_computed_values=1, num_excs=0, updated_cols=[], cols_with_excs=[])"
            ]
          },
          "metadata": {},
          "execution_count": 6
        }
      ],
      "source": [
        "prompt = \"For the following sentence, extract all company names from the text.\"\n",
        "\n",
        "msgs = [\n",
        "    { \"role\": \"system\", \"content\": prompt },\n",
        "    { \"role\": \"user\", \"content\": t.input }\n",
        "]\n",
        "\n",
        "t.add_column(input_msgs=msgs)"
      ]
    },
    {
      "cell_type": "markdown",
      "id": "92068113",
      "metadata": {
        "id": "92068113"
      },
      "source": [
        "Unlike the values of the`input` column, which users provide, the `t.input_msgs` column is computed automatically from the `t.input` column values:"
      ]
    },
    {
      "cell_type": "code",
      "execution_count": 7,
      "id": "249592fc",
      "metadata": {
        "execution": {
          "iopub.execute_input": "2024-05-25T22:22:27.481639Z",
          "iopub.status.busy": "2024-05-25T22:22:27.481523Z",
          "iopub.status.idle": "2024-05-25T22:22:27.486888Z",
          "shell.execute_reply": "2024-05-25T22:22:27.486578Z"
        },
        "id": "249592fc",
        "outputId": "e9af46d5-d0ed-4528-bee6-e68973fe9197",
        "colab": {
          "base_uri": "https://localhost:8080/",
          "height": 133
        }
      },
      "outputs": [
        {
          "output_type": "execute_result",
          "data": {
            "text/plain": [
              "   id                                              input  \\\n",
              "0   0  On Sunday, September 14, it was announced that...   \n",
              "\n",
              "                                          input_msgs  \n",
              "0  [{'role': 'system', 'content': 'For the follow...  "
            ],
            "text/html": [
              "<table border=\"1\" class=\"dataframe\">\n",
              "  <thead>\n",
              "    <tr style=\"text-align: right;\">\n",
              "      <th>id</th>\n",
              "      <th>input</th>\n",
              "      <th>input_msgs</th>\n",
              "    </tr>\n",
              "  </thead>\n",
              "  <tbody>\n",
              "    <tr>\n",
              "      <td>0</td>\n",
              "      <td>On Sunday, September 14, it was announced that Lehman Brothers would file for bankruptcy after the Federal Reserve Bank declined to participate in creating a financial support facility for Lehman Brothers.</td>\n",
              "      <td>[{'role': 'system', 'content': 'For the following sentence, extract all company names from the text.'}, {'role': 'user', 'content': 'On Sunday, September 14, it was announced that Lehman Brothers would file for bankruptcy after the Federal Reserve Bank declined to participate in creating a financial support facility for Lehman Brothers.'}]</td>\n",
              "    </tr>\n",
              "  </tbody>\n",
              "</table>"
            ]
          },
          "metadata": {},
          "execution_count": 7
        }
      ],
      "source": [
        "t.show()"
      ]
    },
    {
      "cell_type": "markdown",
      "id": "7cea0186",
      "metadata": {
        "id": "7cea0186"
      },
      "source": [
        "In Pixeltable, OpenAI API calls are exposed as Pixeltable functions, which can be used to create computed columns. You'll need to enter your OpenAI API key now."
      ]
    },
    {
      "cell_type": "code",
      "execution_count": 8,
      "id": "fb53de89-a529-4fa8-b0b1-65992d281af1",
      "metadata": {
        "execution": {
          "iopub.execute_input": "2024-05-25T22:22:27.488559Z",
          "iopub.status.busy": "2024-05-25T22:22:27.488446Z",
          "iopub.status.idle": "2024-05-25T22:22:27.490437Z",
          "shell.execute_reply": "2024-05-25T22:22:27.490100Z"
        },
        "id": "fb53de89-a529-4fa8-b0b1-65992d281af1"
      },
      "outputs": [],
      "source": [
        "import os\n",
        "os.environ['OPENAI_API_KEY'] = \"sk-proj-lPoqX8DjLpfp56GjykkMT3BlbkFJDT8dYbKFqUuZpYp9DAhe\""
      ]
    },
    {
      "cell_type": "markdown",
      "id": "22e77b33-86ee-4cd8-9ec5-8905f6bb973c",
      "metadata": {
        "id": "22e77b33-86ee-4cd8-9ec5-8905f6bb973c"
      },
      "source": [
        "Now we can run the prompt against our input data using OpenAI's `chat_completions` API."
      ]
    },
    {
      "cell_type": "code",
      "execution_count": 9,
      "id": "d0aaed0e",
      "metadata": {
        "execution": {
          "iopub.execute_input": "2024-05-25T22:22:27.492227Z",
          "iopub.status.busy": "2024-05-25T22:22:27.492111Z",
          "iopub.status.idle": "2024-05-25T22:22:28.181325Z",
          "shell.execute_reply": "2024-05-25T22:22:28.180913Z"
        },
        "id": "d0aaed0e",
        "outputId": "91312a2d-9233-405c-ec11-c583fec72955",
        "colab": {
          "base_uri": "https://localhost:8080/",
          "height": 238
        }
      },
      "outputs": [
        {
          "output_type": "stream",
          "name": "stdout",
          "text": [
            "Computing cells: 100%|████████████████████████████████████████████| 1/1 [00:01<00:00,  1.77s/ cells]\n",
            "Added 1 column value with 0 errors.\n"
          ]
        },
        {
          "output_type": "execute_result",
          "data": {
            "text/plain": [
              "   id                                              input  \\\n",
              "0   0  On Sunday, September 14, it was announced that...   \n",
              "\n",
              "                                          input_msgs  \\\n",
              "0  [{'role': 'system', 'content': 'For the follow...   \n",
              "\n",
              "                                         chat_output  \n",
              "0  {'id': 'chatcmpl-9ehUWCxxKSPR2yxNVccWm0tQUCvH8...  "
            ],
            "text/html": [
              "<table border=\"1\" class=\"dataframe\">\n",
              "  <thead>\n",
              "    <tr style=\"text-align: right;\">\n",
              "      <th>id</th>\n",
              "      <th>input</th>\n",
              "      <th>input_msgs</th>\n",
              "      <th>chat_output</th>\n",
              "    </tr>\n",
              "  </thead>\n",
              "  <tbody>\n",
              "    <tr>\n",
              "      <td>0</td>\n",
              "      <td>On Sunday, September 14, it was announced that Lehman Brothers would file for bankruptcy after the Federal Reserve Bank declined to participate in creating a financial support facility for Lehman Brothers.</td>\n",
              "      <td>[{'role': 'system', 'content': 'For the following sentence, extract all company names from the text.'}, {'role': 'user', 'content': 'On Sunday, September 14, it was announced that Lehman Brothers would file for bankruptcy after the Federal Reserve Bank declined to participate in creating a financial support facility for Lehman Brothers.'}]</td>\n",
              "      <td>{'id': 'chatcmpl-9ehUWCxxKSPR2yxNVccWm0tQUCvH8', 'model': 'gpt-4o-2024-05-13', 'usage': {'total_tokens': 70, 'prompt_tokens': 61, 'completion_tokens': 9}, 'object': 'chat.completion', 'choices': [{'index': 0, 'message': {'role': 'assistant', 'content': '- Lehman Brothers\\n- Federal Reserve Bank', 'tool_calls': None, 'function_call': None}, 'logprobs': None, 'finish_reason': 'stop'}], 'created': 1719487328, 'service_tier': None, 'system_fingerprint': 'fp_ce0793330f'}</td>\n",
              "    </tr>\n",
              "  </tbody>\n",
              "</table>"
            ]
          },
          "metadata": {},
          "execution_count": 9
        }
      ],
      "source": [
        "from pixeltable.functions import openai\n",
        "\n",
        "t['chat_output'] = openai.chat_completions(model='gpt-4o', messages=t.input_msgs)\n",
        "t.show()"
      ]
    },
    {
      "cell_type": "markdown",
      "id": "004723a6",
      "metadata": {
        "id": "004723a6"
      },
      "source": [
        "The output of the OpenAI API calls are generally complex JSON structures, which require some navigation to extract the response. We can express this as JSON path expressions and create another computed column:"
      ]
    },
    {
      "cell_type": "code",
      "execution_count": 10,
      "id": "06e15905",
      "metadata": {
        "execution": {
          "iopub.execute_input": "2024-05-25T22:22:28.183351Z",
          "iopub.status.busy": "2024-05-25T22:22:28.183191Z",
          "iopub.status.idle": "2024-05-25T22:22:28.198975Z",
          "shell.execute_reply": "2024-05-25T22:22:28.198688Z"
        },
        "id": "06e15905",
        "outputId": "b8a9fd6a-24ed-4889-89de-e9fcc2eba71a",
        "colab": {
          "base_uri": "https://localhost:8080/",
          "height": 256
        }
      },
      "outputs": [
        {
          "output_type": "stream",
          "name": "stdout",
          "text": [
            "Computing cells: 100%|████████████████████████████████████████████| 1/1 [00:00<00:00, 65.38 cells/s]\n",
            "Added 1 column value with 0 errors.\n"
          ]
        },
        {
          "output_type": "execute_result",
          "data": {
            "text/plain": [
              "   id                                              input  \\\n",
              "0   0  On Sunday, September 14, it was announced that...   \n",
              "\n",
              "                                          input_msgs  \\\n",
              "0  [{'role': 'system', 'content': 'For the follow...   \n",
              "\n",
              "                                         chat_output  \\\n",
              "0  {'id': 'chatcmpl-9ehUWCxxKSPR2yxNVccWm0tQUCvH8...   \n",
              "\n",
              "                                    response  \n",
              "0  - Lehman Brothers\\n- Federal Reserve Bank  "
            ],
            "text/html": [
              "<table border=\"1\" class=\"dataframe\">\n",
              "  <thead>\n",
              "    <tr style=\"text-align: right;\">\n",
              "      <th>id</th>\n",
              "      <th>input</th>\n",
              "      <th>input_msgs</th>\n",
              "      <th>chat_output</th>\n",
              "      <th>response</th>\n",
              "    </tr>\n",
              "  </thead>\n",
              "  <tbody>\n",
              "    <tr>\n",
              "      <td>0</td>\n",
              "      <td>On Sunday, September 14, it was announced that Lehman Brothers would file for bankruptcy after the Federal Reserve Bank declined to participate in creating a financial support facility for Lehman Brothers.</td>\n",
              "      <td>[{'role': 'system', 'content': 'For the following sentence, extract all company names from the text.'}, {'role': 'user', 'content': 'On Sunday, September 14, it was announced that Lehman Brothers would file for bankruptcy after the Federal Reserve Bank declined to participate in creating a financial support facility for Lehman Brothers.'}]</td>\n",
              "      <td>{'id': 'chatcmpl-9ehUWCxxKSPR2yxNVccWm0tQUCvH8', 'model': 'gpt-4o-2024-05-13', 'usage': {'total_tokens': 70, 'prompt_tokens': 61, 'completion_tokens': 9}, 'object': 'chat.completion', 'choices': [{'index': 0, 'message': {'role': 'assistant', 'content': '- Lehman Brothers\\n- Federal Reserve Bank', 'tool_calls': None, 'function_call': None}, 'logprobs': None, 'finish_reason': 'stop'}], 'created': 1719487328, 'service_tier': None, 'system_fingerprint': 'fp_ce0793330f'}</td>\n",
              "      <td>- Lehman Brothers\\n- Federal Reserve Bank</td>\n",
              "    </tr>\n",
              "  </tbody>\n",
              "</table>"
            ]
          },
          "metadata": {},
          "execution_count": 10
        }
      ],
      "source": [
        "t['response'] = t.chat_output.choices[0].message.content\n",
        "t.show()"
      ]
    },
    {
      "cell_type": "markdown",
      "id": "96d19ca5",
      "metadata": {
        "id": "96d19ca5"
      },
      "source": [
        "Let's run a query to look only at the input and output:"
      ]
    },
    {
      "cell_type": "code",
      "execution_count": 11,
      "id": "4313dbb1",
      "metadata": {
        "execution": {
          "iopub.execute_input": "2024-05-25T22:22:28.200925Z",
          "iopub.status.busy": "2024-05-25T22:22:28.200801Z",
          "iopub.status.idle": "2024-05-25T22:22:28.205817Z",
          "shell.execute_reply": "2024-05-25T22:22:28.205543Z"
        },
        "id": "4313dbb1",
        "outputId": "b3f49870-1dce-487f-f7b2-57d472f663b2",
        "colab": {
          "base_uri": "https://localhost:8080/",
          "height": 98
        }
      },
      "outputs": [
        {
          "output_type": "execute_result",
          "data": {
            "text/plain": [
              "                                               input  \\\n",
              "0  On Sunday, September 14, it was announced that...   \n",
              "\n",
              "                                    response  \n",
              "0  - Lehman Brothers\\n- Federal Reserve Bank  "
            ],
            "text/html": [
              "<table border=\"1\" class=\"dataframe\">\n",
              "  <thead>\n",
              "    <tr style=\"text-align: right;\">\n",
              "      <th>input</th>\n",
              "      <th>response</th>\n",
              "    </tr>\n",
              "  </thead>\n",
              "  <tbody>\n",
              "    <tr>\n",
              "      <td>On Sunday, September 14, it was announced that Lehman Brothers would file for bankruptcy after the Federal Reserve Bank declined to participate in creating a financial support facility for Lehman Brothers.</td>\n",
              "      <td>- Lehman Brothers\\n- Federal Reserve Bank</td>\n",
              "    </tr>\n",
              "  </tbody>\n",
              "</table>"
            ]
          },
          "metadata": {},
          "execution_count": 11
        }
      ],
      "source": [
        "t.select(t.input, t.response).show()"
      ]
    },
    {
      "cell_type": "markdown",
      "id": "3ae2854d",
      "metadata": {
        "id": "3ae2854d"
      },
      "source": [
        "Once we have defined these computed columns, much like with a spreadsheet, newly inserted `t.input` values trigger computation of all derived columns, such as `t.response`. Let's insert the rest of our data and see how this works."
      ]
    },
    {
      "cell_type": "code",
      "execution_count": 12,
      "id": "d5144a35",
      "metadata": {
        "execution": {
          "iopub.execute_input": "2024-05-25T22:22:28.207312Z",
          "iopub.status.busy": "2024-05-25T22:22:28.207200Z",
          "iopub.status.idle": "2024-05-25T22:22:31.024075Z",
          "shell.execute_reply": "2024-05-25T22:22:31.023684Z"
        },
        "id": "d5144a35",
        "outputId": "1fd326fa-7125-4e99-d6d5-edc5f2cd922c",
        "colab": {
          "base_uri": "https://localhost:8080/"
        }
      },
      "outputs": [
        {
          "output_type": "stream",
          "name": "stdout",
          "text": [
            "Computing cells: 100%|██████████████████████████████████████████| 20/20 [00:02<00:00,  6.78 cells/s]\n",
            "Inserting rows into `openai`: 5 rows [00:00, 468.12 rows/s]\n",
            "Computing cells: 100%|██████████████████████████████████████████| 20/20 [00:02<00:00,  6.72 cells/s]\n",
            "Inserted 5 rows with 0 errors.\n"
          ]
        },
        {
          "output_type": "execute_result",
          "data": {
            "text/plain": [
              "UpdateStatus(num_rows=5, num_computed_values=20, num_excs=0, updated_cols=[], cols_with_excs=[])"
            ]
          },
          "metadata": {},
          "execution_count": 12
        }
      ],
      "source": [
        "t.insert({'id': i, 'input': sample_inputs[i]} for i in range(1, len(sample_inputs)))"
      ]
    },
    {
      "cell_type": "code",
      "execution_count": 13,
      "id": "729713aa",
      "metadata": {
        "execution": {
          "iopub.execute_input": "2024-05-25T22:22:31.026540Z",
          "iopub.status.busy": "2024-05-25T22:22:31.026361Z",
          "iopub.status.idle": "2024-05-25T22:22:31.034748Z",
          "shell.execute_reply": "2024-05-25T22:22:31.034412Z"
        },
        "id": "729713aa",
        "outputId": "38b13318-73c3-4450-e7f0-aa2c36569360",
        "colab": {
          "base_uri": "https://localhost:8080/",
          "height": 359
        }
      },
      "outputs": [
        {
          "output_type": "execute_result",
          "data": {
            "text/plain": [
              "                                               input  \\\n",
              "0  On Sunday, September 14, it was announced that...   \n",
              "1  The significance of the Lehman Brothers bankru...   \n",
              "2  The principals involved, Ben Bernanke and Henr...   \n",
              "3  The same day, the sale of Merrill Lynch to Ban...   \n",
              "4  On September 16, the large insurer American In...   \n",
              "5  The Federal Reserve, at AIG's request, and aft...   \n",
              "\n",
              "                                    response  \n",
              "0  - Lehman Brothers\\n- Federal Reserve Bank  \n",
              "1                            Lehman Brothers  \n",
              "2        - Lehman Brothers\\n- JPMorgan Chase  \n",
              "3             Merrill Lynch, Bank of America  \n",
              "4         American International Group (AIG)  \n",
              "5               - The Federal Reserve\\n- AIG  "
            ],
            "text/html": [
              "<table border=\"1\" class=\"dataframe\">\n",
              "  <thead>\n",
              "    <tr style=\"text-align: right;\">\n",
              "      <th>input</th>\n",
              "      <th>response</th>\n",
              "    </tr>\n",
              "  </thead>\n",
              "  <tbody>\n",
              "    <tr>\n",
              "      <td>On Sunday, September 14, it was announced that Lehman Brothers would file for bankruptcy after the Federal Reserve Bank declined to participate in creating a financial support facility for Lehman Brothers.</td>\n",
              "      <td>- Lehman Brothers\\n- Federal Reserve Bank</td>\n",
              "    </tr>\n",
              "    <tr>\n",
              "      <td>The significance of the Lehman Brothers bankruptcy is disputed with some assigning it a pivotal role in the unfolding of subsequent events.</td>\n",
              "      <td>Lehman Brothers</td>\n",
              "    </tr>\n",
              "    <tr>\n",
              "      <td>The principals involved, Ben Bernanke and Henry Paulson, dispute this view, citing a volume of toxic assets at Lehman which made a rescue impossible.[16][17] Immediately following the bankruptcy, JPMorgan Chase provided the broker dealer unit of Lehman Brothers with $138 billion to \"settle securities transactions with customers of Lehman and its clearance parties\" according to a statement made in a New York City Bankruptcy court filing.[18]</td>\n",
              "      <td>- Lehman Brothers\\n- JPMorgan Chase</td>\n",
              "    </tr>\n",
              "    <tr>\n",
              "      <td>The same day, the sale of Merrill Lynch to Bank of America was announced.[19] The beginning of the week was marked by extreme instability in global stock markets, with dramatic drops in market values on Monday, September 15, and Wednesday, September 17.</td>\n",
              "      <td>Merrill Lynch, Bank of America</td>\n",
              "    </tr>\n",
              "    <tr>\n",
              "      <td>On September 16, the large insurer American International Group (AIG), a significant participant in the credit default swaps markets, suffered a liquidity crisis following the downgrade of its credit rating.</td>\n",
              "      <td>American International Group (AIG)</td>\n",
              "    </tr>\n",
              "    <tr>\n",
              "      <td>The Federal Reserve, at AIG's request, and after AIG had shown that it could not find lenders willing to save it from insolvency, created a credit facility for up to US$85 billion in exchange for a 79.9% equity interest, and the right to suspend dividends to previously issued common and preferred stock.[20]</td>\n",
              "      <td>- The Federal Reserve\\n- AIG</td>\n",
              "    </tr>\n",
              "  </tbody>\n",
              "</table>"
            ]
          },
          "metadata": {},
          "execution_count": 13
        }
      ],
      "source": [
        "t.select(t.input, t.response).show()"
      ]
    },
    {
      "cell_type": "markdown",
      "id": "a0cfe126",
      "metadata": {
        "id": "a0cfe126"
      },
      "source": [
        "## Adding Ground Truth Data\n",
        "\n",
        "Now let's see how Pixeltable can be used to evaluate a model against ground truth data. We'll start by manually populating a `ground_truth` column in our table."
      ]
    },
    {
      "cell_type": "code",
      "execution_count": 14,
      "id": "6d4f8611",
      "metadata": {
        "execution": {
          "iopub.execute_input": "2024-05-25T22:22:31.036769Z",
          "iopub.status.busy": "2024-05-25T22:22:31.036595Z",
          "iopub.status.idle": "2024-05-25T22:22:31.076388Z",
          "shell.execute_reply": "2024-05-25T22:22:31.076136Z"
        },
        "id": "6d4f8611",
        "outputId": "8b8d36e4-edde-4814-ca46-350bc0695b9f",
        "colab": {
          "base_uri": "https://localhost:8080/"
        }
      },
      "outputs": [
        {
          "output_type": "stream",
          "name": "stdout",
          "text": [
            "Computing cells: 100%|███████████████████████████████████████████| 6/6 [00:00<00:00, 164.99 cells/s]\n",
            "Added 6 column values with 0 errors.\n",
            "Inserting rows into `openai`: 1 rows [00:00, 186.26 rows/s]\n",
            "Inserting rows into `openai`: 1 rows [00:00, 188.63 rows/s]\n",
            "Inserting rows into `openai`: 1 rows [00:00, 233.87 rows/s]\n",
            "Inserting rows into `openai`: 1 rows [00:00, 226.94 rows/s]\n",
            "Inserting rows into `openai`: 1 rows [00:00, 178.44 rows/s]\n",
            "Inserting rows into `openai`: 1 rows [00:00, 249.29 rows/s]\n"
          ]
        }
      ],
      "source": [
        "t['ground_truth'] = pxt.StringType(nullable=True)\n",
        "\n",
        "ground_truth = [\n",
        "    'Lehman Brothers',\n",
        "    'Lehman Brothers',\n",
        "    'JP Morgan Chase, Lehman Brothers',\n",
        "    'Merill Lynch, Bank of America',\n",
        "    'American International Group',\n",
        "    'American International Group',\n",
        "]\n",
        "\n",
        "for i, gt in enumerate(ground_truth):\n",
        "    t.update({'ground_truth': gt}, where=(t.id == i))"
      ]
    },
    {
      "cell_type": "markdown",
      "id": "17406f13",
      "metadata": {
        "id": "17406f13"
      },
      "source": [
        "And this is what we have so far:"
      ]
    },
    {
      "cell_type": "code",
      "execution_count": 15,
      "id": "72457011",
      "metadata": {
        "execution": {
          "iopub.execute_input": "2024-05-25T22:22:31.077855Z",
          "iopub.status.busy": "2024-05-25T22:22:31.077745Z",
          "iopub.status.idle": "2024-05-25T22:22:31.082950Z",
          "shell.execute_reply": "2024-05-25T22:22:31.082691Z"
        },
        "id": "72457011",
        "outputId": "e6c54c99-2faf-41c1-ab6b-18bf5eddc8b6",
        "colab": {
          "base_uri": "https://localhost:8080/",
          "height": 428
        }
      },
      "outputs": [
        {
          "output_type": "execute_result",
          "data": {
            "text/plain": [
              "                                               input  \\\n",
              "0  On Sunday, September 14, it was announced that...   \n",
              "1  The significance of the Lehman Brothers bankru...   \n",
              "2  The principals involved, Ben Bernanke and Henr...   \n",
              "3  The same day, the sale of Merrill Lynch to Ban...   \n",
              "4  On September 16, the large insurer American In...   \n",
              "5  The Federal Reserve, at AIG's request, and aft...   \n",
              "\n",
              "                                    response                      ground_truth  \n",
              "0  - Lehman Brothers\\n- Federal Reserve Bank                   Lehman Brothers  \n",
              "1                            Lehman Brothers                   Lehman Brothers  \n",
              "2        - Lehman Brothers\\n- JPMorgan Chase  JP Morgan Chase, Lehman Brothers  \n",
              "3             Merrill Lynch, Bank of America     Merill Lynch, Bank of America  \n",
              "4         American International Group (AIG)      American International Group  \n",
              "5               - The Federal Reserve\\n- AIG      American International Group  "
            ],
            "text/html": [
              "<table border=\"1\" class=\"dataframe\">\n",
              "  <thead>\n",
              "    <tr style=\"text-align: right;\">\n",
              "      <th>input</th>\n",
              "      <th>response</th>\n",
              "      <th>ground_truth</th>\n",
              "    </tr>\n",
              "  </thead>\n",
              "  <tbody>\n",
              "    <tr>\n",
              "      <td>On Sunday, September 14, it was announced that Lehman Brothers would file for bankruptcy after the Federal Reserve Bank declined to participate in creating a financial support facility for Lehman Brothers.</td>\n",
              "      <td>- Lehman Brothers\\n- Federal Reserve Bank</td>\n",
              "      <td>Lehman Brothers</td>\n",
              "    </tr>\n",
              "    <tr>\n",
              "      <td>The significance of the Lehman Brothers bankruptcy is disputed with some assigning it a pivotal role in the unfolding of subsequent events.</td>\n",
              "      <td>Lehman Brothers</td>\n",
              "      <td>Lehman Brothers</td>\n",
              "    </tr>\n",
              "    <tr>\n",
              "      <td>The principals involved, Ben Bernanke and Henry Paulson, dispute this view, citing a volume of toxic assets at Lehman which made a rescue impossible.[16][17] Immediately following the bankruptcy, JPMorgan Chase provided the broker dealer unit of Lehman Brothers with $138 billion to \"settle securities transactions with customers of Lehman and its clearance parties\" according to a statement made in a New York City Bankruptcy court filing.[18]</td>\n",
              "      <td>- Lehman Brothers\\n- JPMorgan Chase</td>\n",
              "      <td>JP Morgan Chase, Lehman Brothers</td>\n",
              "    </tr>\n",
              "    <tr>\n",
              "      <td>The same day, the sale of Merrill Lynch to Bank of America was announced.[19] The beginning of the week was marked by extreme instability in global stock markets, with dramatic drops in market values on Monday, September 15, and Wednesday, September 17.</td>\n",
              "      <td>Merrill Lynch, Bank of America</td>\n",
              "      <td>Merill Lynch, Bank of America</td>\n",
              "    </tr>\n",
              "    <tr>\n",
              "      <td>On September 16, the large insurer American International Group (AIG), a significant participant in the credit default swaps markets, suffered a liquidity crisis following the downgrade of its credit rating.</td>\n",
              "      <td>American International Group (AIG)</td>\n",
              "      <td>American International Group</td>\n",
              "    </tr>\n",
              "    <tr>\n",
              "      <td>The Federal Reserve, at AIG's request, and after AIG had shown that it could not find lenders willing to save it from insolvency, created a credit facility for up to US$85 billion in exchange for a 79.9% equity interest, and the right to suspend dividends to previously issued common and preferred stock.[20]</td>\n",
              "      <td>- The Federal Reserve\\n- AIG</td>\n",
              "      <td>American International Group</td>\n",
              "    </tr>\n",
              "  </tbody>\n",
              "</table>"
            ]
          },
          "metadata": {},
          "execution_count": 15
        }
      ],
      "source": [
        "t.select(t.input, t.response, t.ground_truth).show()"
      ]
    },
    {
      "cell_type": "markdown",
      "id": "ce291c35",
      "metadata": {
        "id": "ce291c35"
      },
      "source": [
        "## Evaluation\n",
        "\n",
        "Now that we have some ground truth available, we can carry out basic evaluations of the GPT outputs, in this case by asking ChatGPT to decide whether the two are equivalent.\n",
        "\n",
        "To start with, we'll create an evaluation prompt. In this case, the prompt requires some bespoke string substitution, so it's easiest to do using a UDF. (See the [Pixeltable Basics](https://pixeltable.github.io/pixeltable/tutorials/pixeltable-basics/) tutorial and the [UDFs in Pixeltable](https://pixeltable.github.io/pixeltable/howto/udfs-in-pixeltable/) guide for more details on UDFs.)"
      ]
    },
    {
      "cell_type": "code",
      "execution_count": 16,
      "id": "c49ea5b7",
      "metadata": {
        "execution": {
          "iopub.execute_input": "2024-05-25T22:22:31.084354Z",
          "iopub.status.busy": "2024-05-25T22:22:31.084249Z",
          "iopub.status.idle": "2024-05-25T22:22:31.095854Z",
          "shell.execute_reply": "2024-05-25T22:22:31.095601Z"
        },
        "id": "c49ea5b7",
        "outputId": "c6474191-ad2f-4757-d218-270f75f133c5",
        "colab": {
          "base_uri": "https://localhost:8080/"
        }
      },
      "outputs": [
        {
          "output_type": "stream",
          "name": "stdout",
          "text": [
            "Computing cells: 100%|███████████████████████████████████████████| 6/6 [00:00<00:00, 135.02 cells/s]\n",
            "Added 6 column values with 0 errors.\n"
          ]
        }
      ],
      "source": [
        "system_prompt = '''\n",
        "Compare the following listA and listB of entities, and check if they contain the same entities.\n",
        "Return a JSON object with the following format:\n",
        "{\"reasoning\": explaining your reasoning, \"decision\": 1 if the lists matched, 0 otherwise}\n",
        "'''\n",
        "\n",
        "@pxt.udf\n",
        "def eval_prompt(listA: str, listB: str) -> list[dict]:\n",
        "    return [\n",
        "        {'role': 'system', 'content': system_prompt},\n",
        "        {'role': 'user', 'content': f'listA: \"{listA}\" \\n listB: \"{listB}\"'}\n",
        "    ]\n",
        "\n",
        "t['eval_prompt'] = eval_prompt(t.response, t.ground_truth)"
      ]
    },
    {
      "cell_type": "code",
      "execution_count": 17,
      "id": "08445095",
      "metadata": {
        "execution": {
          "iopub.execute_input": "2024-05-25T22:22:31.097100Z",
          "iopub.status.busy": "2024-05-25T22:22:31.097002Z",
          "iopub.status.idle": "2024-05-25T22:22:31.102949Z",
          "shell.execute_reply": "2024-05-25T22:22:31.102719Z"
        },
        "id": "08445095",
        "outputId": "46a41a0b-606d-40f6-f316-1a281d228a94",
        "colab": {
          "base_uri": "https://localhost:8080/",
          "height": 428
        }
      },
      "outputs": [
        {
          "output_type": "execute_result",
          "data": {
            "text/plain": [
              "                                         eval_prompt\n",
              "0  [{'role': 'system', 'content': '\n",
              "Compare the f...\n",
              "1  [{'role': 'system', 'content': '\n",
              "Compare the f...\n",
              "2  [{'role': 'system', 'content': '\n",
              "Compare the f...\n",
              "3  [{'role': 'system', 'content': '\n",
              "Compare the f...\n",
              "4  [{'role': 'system', 'content': '\n",
              "Compare the f...\n",
              "5  [{'role': 'system', 'content': '\n",
              "Compare the f..."
            ],
            "text/html": [
              "<table border=\"1\" class=\"dataframe\">\n",
              "  <thead>\n",
              "    <tr style=\"text-align: right;\">\n",
              "      <th>eval_prompt</th>\n",
              "    </tr>\n",
              "  </thead>\n",
              "  <tbody>\n",
              "    <tr>\n",
              "      <td>[{'role': 'system', 'content': '\n",
              "Compare the following listA and listB of entities, and check if they contain the same entities.\n",
              "Return a JSON object with the following format:\n",
              "{\"reasoning\": explaining your reasoning, \"decision\": 1 if the lists matched, 0 otherwise}\n",
              "'}, {'role': 'user', 'content': 'listA: \"Lehman Brothers\" \n",
              " listB: \"Lehman Brothers\"'}]</td>\n",
              "    </tr>\n",
              "    <tr>\n",
              "      <td>[{'role': 'system', 'content': '\n",
              "Compare the following listA and listB of entities, and check if they contain the same entities.\n",
              "Return a JSON object with the following format:\n",
              "{\"reasoning\": explaining your reasoning, \"decision\": 1 if the lists matched, 0 otherwise}\n",
              "'}, {'role': 'user', 'content': 'listA: \"Merrill Lynch, Bank of America\" \n",
              " listB: \"Merill Lynch, Bank of America\"'}]</td>\n",
              "    </tr>\n",
              "    <tr>\n",
              "      <td>[{'role': 'system', 'content': '\n",
              "Compare the following listA and listB of entities, and check if they contain the same entities.\n",
              "Return a JSON object with the following format:\n",
              "{\"reasoning\": explaining your reasoning, \"decision\": 1 if the lists matched, 0 otherwise}\n",
              "'}, {'role': 'user', 'content': 'listA: \"- The Federal Reserve\n",
              "- AIG\" \n",
              " listB: \"American International Group\"'}]</td>\n",
              "    </tr>\n",
              "    <tr>\n",
              "      <td>[{'role': 'system', 'content': '\n",
              "Compare the following listA and listB of entities, and check if they contain the same entities.\n",
              "Return a JSON object with the following format:\n",
              "{\"reasoning\": explaining your reasoning, \"decision\": 1 if the lists matched, 0 otherwise}\n",
              "'}, {'role': 'user', 'content': 'listA: \"- Lehman Brothers\n",
              "- Federal Reserve Bank\" \n",
              " listB: \"Lehman Brothers\"'}]</td>\n",
              "    </tr>\n",
              "    <tr>\n",
              "      <td>[{'role': 'system', 'content': '\n",
              "Compare the following listA and listB of entities, and check if they contain the same entities.\n",
              "Return a JSON object with the following format:\n",
              "{\"reasoning\": explaining your reasoning, \"decision\": 1 if the lists matched, 0 otherwise}\n",
              "'}, {'role': 'user', 'content': 'listA: \"- Lehman Brothers\n",
              "- JPMorgan Chase\" \n",
              " listB: \"JP Morgan Chase, Lehman Brothers\"'}]</td>\n",
              "    </tr>\n",
              "    <tr>\n",
              "      <td>[{'role': 'system', 'content': '\n",
              "Compare the following listA and listB of entities, and check if they contain the same entities.\n",
              "Return a JSON object with the following format:\n",
              "{\"reasoning\": explaining your reasoning, \"decision\": 1 if the lists matched, 0 otherwise}\n",
              "'}, {'role': 'user', 'content': 'listA: \"American International Group (AIG)\" \n",
              " listB: \"American International Group\"'}]</td>\n",
              "    </tr>\n",
              "  </tbody>\n",
              "</table>"
            ]
          },
          "metadata": {},
          "execution_count": 17
        }
      ],
      "source": [
        "t.select(t.eval_prompt).show()"
      ]
    },
    {
      "cell_type": "markdown",
      "id": "0b8be46a",
      "metadata": {
        "id": "0b8be46a"
      },
      "source": [
        "The actual evaluation happens in another computed column. We can use OpenAI's handy `response_format` parameter to enforce that the output is properly formed JSON."
      ]
    },
    {
      "cell_type": "code",
      "execution_count": 18,
      "id": "43516050",
      "metadata": {
        "execution": {
          "iopub.execute_input": "2024-05-25T22:22:31.104224Z",
          "iopub.status.busy": "2024-05-25T22:22:31.104138Z",
          "iopub.status.idle": "2024-05-25T22:22:37.289980Z",
          "shell.execute_reply": "2024-05-25T22:22:37.289637Z"
        },
        "id": "43516050",
        "outputId": "0f4bcf85-03f7-4a24-80e0-b11d16305502",
        "colab": {
          "base_uri": "https://localhost:8080/"
        }
      },
      "outputs": [
        {
          "output_type": "stream",
          "name": "stdout",
          "text": [
            "Computing cells: 100%|████████████████████████████████████████████| 6/6 [00:08<00:00,  1.42s/ cells]\n",
            "Added 6 column values with 0 errors.\n",
            "Computing cells: 100%|███████████████████████████████████████████| 6/6 [00:00<00:00, 184.61 cells/s]\n",
            "Added 6 column values with 0 errors.\n"
          ]
        }
      ],
      "source": [
        "t['eval'] = openai.chat_completions(model='gpt-3.5-turbo', messages=t.eval_prompt, response_format={'type': 'json_object'})\n",
        "t['eval_output'] = t.eval.choices[0].message.content"
      ]
    },
    {
      "cell_type": "markdown",
      "id": "c72427a8",
      "metadata": {
        "id": "c72427a8"
      },
      "source": [
        "Let's take a look:"
      ]
    },
    {
      "cell_type": "code",
      "execution_count": 19,
      "id": "5ce36880",
      "metadata": {
        "execution": {
          "iopub.execute_input": "2024-05-25T22:22:37.291775Z",
          "iopub.status.busy": "2024-05-25T22:22:37.291625Z",
          "iopub.status.idle": "2024-05-25T22:22:37.298545Z",
          "shell.execute_reply": "2024-05-25T22:22:37.298250Z"
        },
        "id": "5ce36880",
        "outputId": "2dfdf36a-426c-42ad-9ce7-19257bd58dd6",
        "colab": {
          "base_uri": "https://localhost:8080/",
          "height": 359
        }
      },
      "outputs": [
        {
          "output_type": "execute_result",
          "data": {
            "text/plain": [
              "                                    response  \\\n",
              "0                            Lehman Brothers   \n",
              "1             Merrill Lynch, Bank of America   \n",
              "2  - Lehman Brothers\\n- Federal Reserve Bank   \n",
              "3        - Lehman Brothers\\n- JPMorgan Chase   \n",
              "4         American International Group (AIG)   \n",
              "5               - The Federal Reserve\\n- AIG   \n",
              "\n",
              "                       ground_truth  \\\n",
              "0                   Lehman Brothers   \n",
              "1     Merill Lynch, Bank of America   \n",
              "2                   Lehman Brothers   \n",
              "3  JP Morgan Chase, Lehman Brothers   \n",
              "4      American International Group   \n",
              "5      American International Group   \n",
              "\n",
              "                                         eval_output  \n",
              "0  {\"reasoning\": \"Both listA and listB contain th...  \n",
              "1  {\"reasoning\": \"The two lists differ in the spe...  \n",
              "2  {\\n    \"reasoning\": \"ListB contains only one e...  \n",
              "3  {\\n  \"reasoning\": \"The entities in listA are '...  \n",
              "4  {\"reasoning\": \"The entities in listA and listB...  \n",
              "5  {\"reasoning\": \"ListA contains 'AIG' as an abbr...  "
            ],
            "text/html": [
              "<table border=\"1\" class=\"dataframe\">\n",
              "  <thead>\n",
              "    <tr style=\"text-align: right;\">\n",
              "      <th>response</th>\n",
              "      <th>ground_truth</th>\n",
              "      <th>eval_output</th>\n",
              "    </tr>\n",
              "  </thead>\n",
              "  <tbody>\n",
              "    <tr>\n",
              "      <td>Lehman Brothers</td>\n",
              "      <td>Lehman Brothers</td>\n",
              "      <td>{\"reasoning\": \"Both listA and listB contain the same entity 'Lehman Brothers'.\", \"decision\": 1}</td>\n",
              "    </tr>\n",
              "    <tr>\n",
              "      <td>Merrill Lynch, Bank of America</td>\n",
              "      <td>Merill Lynch, Bank of America</td>\n",
              "      <td>{\"reasoning\": \"The two lists differ in the spelling of 'Merrill Lynch'. The first spelling in listA is 'Merrill Lynch' while the one in listB is 'Merill Lynch'. This suggests a typographical error in listB. The rest of the entities 'Bank of America' are the same in both lists.\", \"decision\": 0}</td>\n",
              "    </tr>\n",
              "    <tr>\n",
              "      <td>- Lehman Brothers\\n- Federal Reserve Bank</td>\n",
              "      <td>Lehman Brothers</td>\n",
              "      <td>{\\n    \"reasoning\": \"ListB contains only one entity, 'Lehman Brothers', which is also present in ListA. The other entity in ListA, 'Federal Reserve Bank', is not in ListB.\",\\n    \"decision\": 0\\n}</td>\n",
              "    </tr>\n",
              "    <tr>\n",
              "      <td>- Lehman Brothers\\n- JPMorgan Chase</td>\n",
              "      <td>JP Morgan Chase, Lehman Brothers</td>\n",
              "      <td>{\\n  \"reasoning\": \"The entities in listA are 'Lehman Brothers' and 'JPMorgan Chase', while the entities in listB are 'JP Morgan Chase' and 'Lehman Brothers'. Although there are some similarities between the two lists, the entities are not exactly the same due to the slight difference in naming.\",\\n  \"decision\": 0\\n}</td>\n",
              "    </tr>\n",
              "    <tr>\n",
              "      <td>American International Group (AIG)</td>\n",
              "      <td>American International Group</td>\n",
              "      <td>{\"reasoning\": \"The entities in listA and listB are variations of the same organization, with the only difference being the inclusion of the abbreviation 'AIG' in listA. Thus, the entities are considered to be the same.\", \"decision\": 1}</td>\n",
              "    </tr>\n",
              "    <tr>\n",
              "      <td>- The Federal Reserve\\n- AIG</td>\n",
              "      <td>American International Group</td>\n",
              "      <td>{\"reasoning\": \"ListA contains 'AIG' as an abbreviation, while listB has the full name 'American International Group'. Therefore, they refer to the same entity.\", \"decision\": 1}</td>\n",
              "    </tr>\n",
              "  </tbody>\n",
              "</table>"
            ]
          },
          "metadata": {},
          "execution_count": 19
        }
      ],
      "source": [
        "t.select(t.response, t.ground_truth, t.eval_output).show()"
      ]
    },
    {
      "cell_type": "markdown",
      "id": "1a61994b-a489-4fc9-b71e-ec08ea9d2b85",
      "metadata": {
        "id": "1a61994b-a489-4fc9-b71e-ec08ea9d2b85"
      },
      "source": [
        "Finally, it's time to pull the `decision` out of the JSON structs returned by OpenAI. There's just one complication: the `chat_completions` responses are strings, not JSON structs. We can resolve this with Pixeltable's handy `apply` method, which turns any Python function into a Pixeltable function. In this case, we'll apply the Python function `json.loads` to parse the string into a JSON struct."
      ]
    },
    {
      "cell_type": "code",
      "execution_count": 20,
      "id": "2283ef95-d344-4bae-a0e4-1a16bb190e9e",
      "metadata": {
        "execution": {
          "iopub.execute_input": "2024-05-25T22:22:37.300136Z",
          "iopub.status.busy": "2024-05-25T22:22:37.300006Z",
          "iopub.status.idle": "2024-05-25T22:22:37.314723Z",
          "shell.execute_reply": "2024-05-25T22:22:37.314435Z"
        },
        "id": "2283ef95-d344-4bae-a0e4-1a16bb190e9e",
        "outputId": "045d90e7-8b76-4ce6-922c-db9b298e9873",
        "colab": {
          "base_uri": "https://localhost:8080/"
        }
      },
      "outputs": [
        {
          "output_type": "stream",
          "name": "stdout",
          "text": [
            "Computing cells: 100%|███████████████████████████████████████████| 6/6 [00:00<00:00, 180.38 cells/s]\n",
            "Added 6 column values with 0 errors.\n"
          ]
        }
      ],
      "source": [
        "import json\n",
        "\n",
        "t['eval_decision'] = t.eval_output.apply(json.loads).decision"
      ]
    },
    {
      "cell_type": "code",
      "execution_count": 21,
      "id": "e6892c65-b104-4acd-93d8-242c70efbd76",
      "metadata": {
        "execution": {
          "iopub.execute_input": "2024-05-25T22:22:37.316369Z",
          "iopub.status.busy": "2024-05-25T22:22:37.316244Z",
          "iopub.status.idle": "2024-05-25T22:22:37.322572Z",
          "shell.execute_reply": "2024-05-25T22:22:37.322352Z"
        },
        "id": "e6892c65-b104-4acd-93d8-242c70efbd76",
        "outputId": "a85821a4-2f67-4573-ba3c-510a46c6de17",
        "colab": {
          "base_uri": "https://localhost:8080/",
          "height": 376
        }
      },
      "outputs": [
        {
          "output_type": "execute_result",
          "data": {
            "text/plain": [
              "                                    response  \\\n",
              "0  - Lehman Brothers\\n- Federal Reserve Bank   \n",
              "1         American International Group (AIG)   \n",
              "2               - The Federal Reserve\\n- AIG   \n",
              "3                            Lehman Brothers   \n",
              "4             Merrill Lynch, Bank of America   \n",
              "5        - Lehman Brothers\\n- JPMorgan Chase   \n",
              "\n",
              "                       ground_truth  \\\n",
              "0                   Lehman Brothers   \n",
              "1      American International Group   \n",
              "2      American International Group   \n",
              "3                   Lehman Brothers   \n",
              "4     Merill Lynch, Bank of America   \n",
              "5  JP Morgan Chase, Lehman Brothers   \n",
              "\n",
              "                                         eval_output  eval_decision  \n",
              "0  {\\n    \"reasoning\": \"ListB contains only one e...              0  \n",
              "1  {\"reasoning\": \"The entities in listA and listB...              1  \n",
              "2  {\"reasoning\": \"ListA contains 'AIG' as an abbr...              1  \n",
              "3  {\"reasoning\": \"Both listA and listB contain th...              1  \n",
              "4  {\"reasoning\": \"The two lists differ in the spe...              0  \n",
              "5  {\\n  \"reasoning\": \"The entities in listA are '...              0  "
            ],
            "text/html": [
              "<table border=\"1\" class=\"dataframe\">\n",
              "  <thead>\n",
              "    <tr style=\"text-align: right;\">\n",
              "      <th>response</th>\n",
              "      <th>ground_truth</th>\n",
              "      <th>eval_output</th>\n",
              "      <th>eval_decision</th>\n",
              "    </tr>\n",
              "  </thead>\n",
              "  <tbody>\n",
              "    <tr>\n",
              "      <td>- Lehman Brothers\\n- Federal Reserve Bank</td>\n",
              "      <td>Lehman Brothers</td>\n",
              "      <td>{\\n    \"reasoning\": \"ListB contains only one entity, 'Lehman Brothers', which is also present in ListA. The other entity in ListA, 'Federal Reserve Bank', is not in ListB.\",\\n    \"decision\": 0\\n}</td>\n",
              "      <td>0</td>\n",
              "    </tr>\n",
              "    <tr>\n",
              "      <td>American International Group (AIG)</td>\n",
              "      <td>American International Group</td>\n",
              "      <td>{\"reasoning\": \"The entities in listA and listB are variations of the same organization, with the only difference being the inclusion of the abbreviation 'AIG' in listA. Thus, the entities are considered to be the same.\", \"decision\": 1}</td>\n",
              "      <td>1</td>\n",
              "    </tr>\n",
              "    <tr>\n",
              "      <td>- The Federal Reserve\\n- AIG</td>\n",
              "      <td>American International Group</td>\n",
              "      <td>{\"reasoning\": \"ListA contains 'AIG' as an abbreviation, while listB has the full name 'American International Group'. Therefore, they refer to the same entity.\", \"decision\": 1}</td>\n",
              "      <td>1</td>\n",
              "    </tr>\n",
              "    <tr>\n",
              "      <td>Lehman Brothers</td>\n",
              "      <td>Lehman Brothers</td>\n",
              "      <td>{\"reasoning\": \"Both listA and listB contain the same entity 'Lehman Brothers'.\", \"decision\": 1}</td>\n",
              "      <td>1</td>\n",
              "    </tr>\n",
              "    <tr>\n",
              "      <td>Merrill Lynch, Bank of America</td>\n",
              "      <td>Merill Lynch, Bank of America</td>\n",
              "      <td>{\"reasoning\": \"The two lists differ in the spelling of 'Merrill Lynch'. The first spelling in listA is 'Merrill Lynch' while the one in listB is 'Merill Lynch'. This suggests a typographical error in listB. The rest of the entities 'Bank of America' are the same in both lists.\", \"decision\": 0}</td>\n",
              "      <td>0</td>\n",
              "    </tr>\n",
              "    <tr>\n",
              "      <td>- Lehman Brothers\\n- JPMorgan Chase</td>\n",
              "      <td>JP Morgan Chase, Lehman Brothers</td>\n",
              "      <td>{\\n  \"reasoning\": \"The entities in listA are 'Lehman Brothers' and 'JPMorgan Chase', while the entities in listB are 'JP Morgan Chase' and 'Lehman Brothers'. Although there are some similarities between the two lists, the entities are not exactly the same due to the slight difference in naming.\",\\n  \"decision\": 0\\n}</td>\n",
              "      <td>0</td>\n",
              "    </tr>\n",
              "  </tbody>\n",
              "</table>"
            ]
          },
          "metadata": {},
          "execution_count": 21
        }
      ],
      "source": [
        "t.select(t.response, t.ground_truth, t.eval_output, t.eval_decision).show()"
      ]
    },
    {
      "cell_type": "code",
      "source": [],
      "metadata": {
        "id": "CF2dKfXcb86_"
      },
      "id": "CF2dKfXcb86_",
      "execution_count": null,
      "outputs": []
    }
  ],
  "metadata": {
    "kernelspec": {
      "display_name": "Python 3 (ipykernel)",
      "language": "python",
      "name": "python3"
    },
    "language_info": {
      "codemirror_mode": {
        "name": "ipython",
        "version": 3
      },
      "file_extension": ".py",
      "mimetype": "text/x-python",
      "name": "python",
      "nbconvert_exporter": "python",
      "pygments_lexer": "ipython3",
      "version": "3.10.10"
    },
    "colab": {
      "provenance": []
    },
    "widgets": {
      "application/vnd.jupyter.widget-state+json": {
        "56373e2c4c9c42b5820aeff6260d8001": {
          "model_module": "@jupyter-widgets/controls",
          "model_name": "HBoxModel",
          "model_module_version": "1.5.0",
          "state": {
            "_dom_classes": [],
            "_model_module": "@jupyter-widgets/controls",
            "_model_module_version": "1.5.0",
            "_model_name": "HBoxModel",
            "_view_count": null,
            "_view_module": "@jupyter-widgets/controls",
            "_view_module_version": "1.5.0",
            "_view_name": "HBoxView",
            "box_style": "",
            "children": [
              "IPY_MODEL_74a984648f3e4591b555881eaee0729f",
              "IPY_MODEL_d7b062534cdd44629df8f33998db72ab",
              "IPY_MODEL_6b9ebff033814f268cdd26a7d6e2448b"
            ],
            "layout": "IPY_MODEL_92375af2489c4aca8a3990d7c1945fe0"
          }
        },
        "74a984648f3e4591b555881eaee0729f": {
          "model_module": "@jupyter-widgets/controls",
          "model_name": "HTMLModel",
          "model_module_version": "1.5.0",
          "state": {
            "_dom_classes": [],
            "_model_module": "@jupyter-widgets/controls",
            "_model_module_version": "1.5.0",
            "_model_name": "HTMLModel",
            "_view_count": null,
            "_view_module": "@jupyter-widgets/controls",
            "_view_module_version": "1.5.0",
            "_view_name": "HTMLView",
            "description": "",
            "description_tooltip": null,
            "layout": "IPY_MODEL_67e687e15bcd467687f09fd3d71b3400",
            "placeholder": "​",
            "style": "IPY_MODEL_9eb74ce9d96d43adb17550afbfdfee49",
            "value": "modules.json: 100%"
          }
        },
        "d7b062534cdd44629df8f33998db72ab": {
          "model_module": "@jupyter-widgets/controls",
          "model_name": "FloatProgressModel",
          "model_module_version": "1.5.0",
          "state": {
            "_dom_classes": [],
            "_model_module": "@jupyter-widgets/controls",
            "_model_module_version": "1.5.0",
            "_model_name": "FloatProgressModel",
            "_view_count": null,
            "_view_module": "@jupyter-widgets/controls",
            "_view_module_version": "1.5.0",
            "_view_name": "ProgressView",
            "bar_style": "success",
            "description": "",
            "description_tooltip": null,
            "layout": "IPY_MODEL_cb079db34bc94a7fbc4d1a201fded3e5",
            "max": 387,
            "min": 0,
            "orientation": "horizontal",
            "style": "IPY_MODEL_7b827ba2f233470da36750b1e5a75995",
            "value": 387
          }
        },
        "6b9ebff033814f268cdd26a7d6e2448b": {
          "model_module": "@jupyter-widgets/controls",
          "model_name": "HTMLModel",
          "model_module_version": "1.5.0",
          "state": {
            "_dom_classes": [],
            "_model_module": "@jupyter-widgets/controls",
            "_model_module_version": "1.5.0",
            "_model_name": "HTMLModel",
            "_view_count": null,
            "_view_module": "@jupyter-widgets/controls",
            "_view_module_version": "1.5.0",
            "_view_name": "HTMLView",
            "description": "",
            "description_tooltip": null,
            "layout": "IPY_MODEL_77d1a91e4cab4007b9d9f887bf19d401",
            "placeholder": "​",
            "style": "IPY_MODEL_c764aa5652d34a9889c85aacaa6e3c22",
            "value": " 387/387 [00:00&lt;00:00, 5.38kB/s]"
          }
        },
        "92375af2489c4aca8a3990d7c1945fe0": {
          "model_module": "@jupyter-widgets/base",
          "model_name": "LayoutModel",
          "model_module_version": "1.2.0",
          "state": {
            "_model_module": "@jupyter-widgets/base",
            "_model_module_version": "1.2.0",
            "_model_name": "LayoutModel",
            "_view_count": null,
            "_view_module": "@jupyter-widgets/base",
            "_view_module_version": "1.2.0",
            "_view_name": "LayoutView",
            "align_content": null,
            "align_items": null,
            "align_self": null,
            "border": null,
            "bottom": null,
            "display": null,
            "flex": null,
            "flex_flow": null,
            "grid_area": null,
            "grid_auto_columns": null,
            "grid_auto_flow": null,
            "grid_auto_rows": null,
            "grid_column": null,
            "grid_gap": null,
            "grid_row": null,
            "grid_template_areas": null,
            "grid_template_columns": null,
            "grid_template_rows": null,
            "height": null,
            "justify_content": null,
            "justify_items": null,
            "left": null,
            "margin": null,
            "max_height": null,
            "max_width": null,
            "min_height": null,
            "min_width": null,
            "object_fit": null,
            "object_position": null,
            "order": null,
            "overflow": null,
            "overflow_x": null,
            "overflow_y": null,
            "padding": null,
            "right": null,
            "top": null,
            "visibility": null,
            "width": null
          }
        },
        "67e687e15bcd467687f09fd3d71b3400": {
          "model_module": "@jupyter-widgets/base",
          "model_name": "LayoutModel",
          "model_module_version": "1.2.0",
          "state": {
            "_model_module": "@jupyter-widgets/base",
            "_model_module_version": "1.2.0",
            "_model_name": "LayoutModel",
            "_view_count": null,
            "_view_module": "@jupyter-widgets/base",
            "_view_module_version": "1.2.0",
            "_view_name": "LayoutView",
            "align_content": null,
            "align_items": null,
            "align_self": null,
            "border": null,
            "bottom": null,
            "display": null,
            "flex": null,
            "flex_flow": null,
            "grid_area": null,
            "grid_auto_columns": null,
            "grid_auto_flow": null,
            "grid_auto_rows": null,
            "grid_column": null,
            "grid_gap": null,
            "grid_row": null,
            "grid_template_areas": null,
            "grid_template_columns": null,
            "grid_template_rows": null,
            "height": null,
            "justify_content": null,
            "justify_items": null,
            "left": null,
            "margin": null,
            "max_height": null,
            "max_width": null,
            "min_height": null,
            "min_width": null,
            "object_fit": null,
            "object_position": null,
            "order": null,
            "overflow": null,
            "overflow_x": null,
            "overflow_y": null,
            "padding": null,
            "right": null,
            "top": null,
            "visibility": null,
            "width": null
          }
        },
        "9eb74ce9d96d43adb17550afbfdfee49": {
          "model_module": "@jupyter-widgets/controls",
          "model_name": "DescriptionStyleModel",
          "model_module_version": "1.5.0",
          "state": {
            "_model_module": "@jupyter-widgets/controls",
            "_model_module_version": "1.5.0",
            "_model_name": "DescriptionStyleModel",
            "_view_count": null,
            "_view_module": "@jupyter-widgets/base",
            "_view_module_version": "1.2.0",
            "_view_name": "StyleView",
            "description_width": ""
          }
        },
        "cb079db34bc94a7fbc4d1a201fded3e5": {
          "model_module": "@jupyter-widgets/base",
          "model_name": "LayoutModel",
          "model_module_version": "1.2.0",
          "state": {
            "_model_module": "@jupyter-widgets/base",
            "_model_module_version": "1.2.0",
            "_model_name": "LayoutModel",
            "_view_count": null,
            "_view_module": "@jupyter-widgets/base",
            "_view_module_version": "1.2.0",
            "_view_name": "LayoutView",
            "align_content": null,
            "align_items": null,
            "align_self": null,
            "border": null,
            "bottom": null,
            "display": null,
            "flex": null,
            "flex_flow": null,
            "grid_area": null,
            "grid_auto_columns": null,
            "grid_auto_flow": null,
            "grid_auto_rows": null,
            "grid_column": null,
            "grid_gap": null,
            "grid_row": null,
            "grid_template_areas": null,
            "grid_template_columns": null,
            "grid_template_rows": null,
            "height": null,
            "justify_content": null,
            "justify_items": null,
            "left": null,
            "margin": null,
            "max_height": null,
            "max_width": null,
            "min_height": null,
            "min_width": null,
            "object_fit": null,
            "object_position": null,
            "order": null,
            "overflow": null,
            "overflow_x": null,
            "overflow_y": null,
            "padding": null,
            "right": null,
            "top": null,
            "visibility": null,
            "width": null
          }
        },
        "7b827ba2f233470da36750b1e5a75995": {
          "model_module": "@jupyter-widgets/controls",
          "model_name": "ProgressStyleModel",
          "model_module_version": "1.5.0",
          "state": {
            "_model_module": "@jupyter-widgets/controls",
            "_model_module_version": "1.5.0",
            "_model_name": "ProgressStyleModel",
            "_view_count": null,
            "_view_module": "@jupyter-widgets/base",
            "_view_module_version": "1.2.0",
            "_view_name": "StyleView",
            "bar_color": null,
            "description_width": ""
          }
        },
        "77d1a91e4cab4007b9d9f887bf19d401": {
          "model_module": "@jupyter-widgets/base",
          "model_name": "LayoutModel",
          "model_module_version": "1.2.0",
          "state": {
            "_model_module": "@jupyter-widgets/base",
            "_model_module_version": "1.2.0",
            "_model_name": "LayoutModel",
            "_view_count": null,
            "_view_module": "@jupyter-widgets/base",
            "_view_module_version": "1.2.0",
            "_view_name": "LayoutView",
            "align_content": null,
            "align_items": null,
            "align_self": null,
            "border": null,
            "bottom": null,
            "display": null,
            "flex": null,
            "flex_flow": null,
            "grid_area": null,
            "grid_auto_columns": null,
            "grid_auto_flow": null,
            "grid_auto_rows": null,
            "grid_column": null,
            "grid_gap": null,
            "grid_row": null,
            "grid_template_areas": null,
            "grid_template_columns": null,
            "grid_template_rows": null,
            "height": null,
            "justify_content": null,
            "justify_items": null,
            "left": null,
            "margin": null,
            "max_height": null,
            "max_width": null,
            "min_height": null,
            "min_width": null,
            "object_fit": null,
            "object_position": null,
            "order": null,
            "overflow": null,
            "overflow_x": null,
            "overflow_y": null,
            "padding": null,
            "right": null,
            "top": null,
            "visibility": null,
            "width": null
          }
        },
        "c764aa5652d34a9889c85aacaa6e3c22": {
          "model_module": "@jupyter-widgets/controls",
          "model_name": "DescriptionStyleModel",
          "model_module_version": "1.5.0",
          "state": {
            "_model_module": "@jupyter-widgets/controls",
            "_model_module_version": "1.5.0",
            "_model_name": "DescriptionStyleModel",
            "_view_count": null,
            "_view_module": "@jupyter-widgets/base",
            "_view_module_version": "1.2.0",
            "_view_name": "StyleView",
            "description_width": ""
          }
        },
        "bfb4c6a97f3044beb0865a6a0b632cec": {
          "model_module": "@jupyter-widgets/controls",
          "model_name": "HBoxModel",
          "model_module_version": "1.5.0",
          "state": {
            "_dom_classes": [],
            "_model_module": "@jupyter-widgets/controls",
            "_model_module_version": "1.5.0",
            "_model_name": "HBoxModel",
            "_view_count": null,
            "_view_module": "@jupyter-widgets/controls",
            "_view_module_version": "1.5.0",
            "_view_name": "HBoxView",
            "box_style": "",
            "children": [
              "IPY_MODEL_aaed4eafda004ade9d1e1fad6271b7e9",
              "IPY_MODEL_fd939586221e442a9cb4258b4ffb901d",
              "IPY_MODEL_7279d185433144f9840118069e015415"
            ],
            "layout": "IPY_MODEL_cf8a233a4a414cd989019d0c2d537271"
          }
        },
        "aaed4eafda004ade9d1e1fad6271b7e9": {
          "model_module": "@jupyter-widgets/controls",
          "model_name": "HTMLModel",
          "model_module_version": "1.5.0",
          "state": {
            "_dom_classes": [],
            "_model_module": "@jupyter-widgets/controls",
            "_model_module_version": "1.5.0",
            "_model_name": "HTMLModel",
            "_view_count": null,
            "_view_module": "@jupyter-widgets/controls",
            "_view_module_version": "1.5.0",
            "_view_name": "HTMLView",
            "description": "",
            "description_tooltip": null,
            "layout": "IPY_MODEL_d7912c5c68574e13ab06b7bf0a1cea50",
            "placeholder": "​",
            "style": "IPY_MODEL_ca85464c99924ac3a75e389888c76eae",
            "value": "README.md: 100%"
          }
        },
        "fd939586221e442a9cb4258b4ffb901d": {
          "model_module": "@jupyter-widgets/controls",
          "model_name": "FloatProgressModel",
          "model_module_version": "1.5.0",
          "state": {
            "_dom_classes": [],
            "_model_module": "@jupyter-widgets/controls",
            "_model_module_version": "1.5.0",
            "_model_name": "FloatProgressModel",
            "_view_count": null,
            "_view_module": "@jupyter-widgets/controls",
            "_view_module_version": "1.5.0",
            "_view_name": "ProgressView",
            "bar_style": "success",
            "description": "",
            "description_tooltip": null,
            "layout": "IPY_MODEL_2efc35e7a7fd4d308a2e62391c74a94b",
            "max": 67842,
            "min": 0,
            "orientation": "horizontal",
            "style": "IPY_MODEL_5f56b0f065494477bff88d71bcb6a026",
            "value": 67842
          }
        },
        "7279d185433144f9840118069e015415": {
          "model_module": "@jupyter-widgets/controls",
          "model_name": "HTMLModel",
          "model_module_version": "1.5.0",
          "state": {
            "_dom_classes": [],
            "_model_module": "@jupyter-widgets/controls",
            "_model_module_version": "1.5.0",
            "_model_name": "HTMLModel",
            "_view_count": null,
            "_view_module": "@jupyter-widgets/controls",
            "_view_module_version": "1.5.0",
            "_view_name": "HTMLView",
            "description": "",
            "description_tooltip": null,
            "layout": "IPY_MODEL_7b56e051347047b2a09b952b485bfa5c",
            "placeholder": "​",
            "style": "IPY_MODEL_80d7d96185f840a4953822e54e9481be",
            "value": " 67.8k/67.8k [00:00&lt;00:00, 941kB/s]"
          }
        },
        "cf8a233a4a414cd989019d0c2d537271": {
          "model_module": "@jupyter-widgets/base",
          "model_name": "LayoutModel",
          "model_module_version": "1.2.0",
          "state": {
            "_model_module": "@jupyter-widgets/base",
            "_model_module_version": "1.2.0",
            "_model_name": "LayoutModel",
            "_view_count": null,
            "_view_module": "@jupyter-widgets/base",
            "_view_module_version": "1.2.0",
            "_view_name": "LayoutView",
            "align_content": null,
            "align_items": null,
            "align_self": null,
            "border": null,
            "bottom": null,
            "display": null,
            "flex": null,
            "flex_flow": null,
            "grid_area": null,
            "grid_auto_columns": null,
            "grid_auto_flow": null,
            "grid_auto_rows": null,
            "grid_column": null,
            "grid_gap": null,
            "grid_row": null,
            "grid_template_areas": null,
            "grid_template_columns": null,
            "grid_template_rows": null,
            "height": null,
            "justify_content": null,
            "justify_items": null,
            "left": null,
            "margin": null,
            "max_height": null,
            "max_width": null,
            "min_height": null,
            "min_width": null,
            "object_fit": null,
            "object_position": null,
            "order": null,
            "overflow": null,
            "overflow_x": null,
            "overflow_y": null,
            "padding": null,
            "right": null,
            "top": null,
            "visibility": null,
            "width": null
          }
        },
        "d7912c5c68574e13ab06b7bf0a1cea50": {
          "model_module": "@jupyter-widgets/base",
          "model_name": "LayoutModel",
          "model_module_version": "1.2.0",
          "state": {
            "_model_module": "@jupyter-widgets/base",
            "_model_module_version": "1.2.0",
            "_model_name": "LayoutModel",
            "_view_count": null,
            "_view_module": "@jupyter-widgets/base",
            "_view_module_version": "1.2.0",
            "_view_name": "LayoutView",
            "align_content": null,
            "align_items": null,
            "align_self": null,
            "border": null,
            "bottom": null,
            "display": null,
            "flex": null,
            "flex_flow": null,
            "grid_area": null,
            "grid_auto_columns": null,
            "grid_auto_flow": null,
            "grid_auto_rows": null,
            "grid_column": null,
            "grid_gap": null,
            "grid_row": null,
            "grid_template_areas": null,
            "grid_template_columns": null,
            "grid_template_rows": null,
            "height": null,
            "justify_content": null,
            "justify_items": null,
            "left": null,
            "margin": null,
            "max_height": null,
            "max_width": null,
            "min_height": null,
            "min_width": null,
            "object_fit": null,
            "object_position": null,
            "order": null,
            "overflow": null,
            "overflow_x": null,
            "overflow_y": null,
            "padding": null,
            "right": null,
            "top": null,
            "visibility": null,
            "width": null
          }
        },
        "ca85464c99924ac3a75e389888c76eae": {
          "model_module": "@jupyter-widgets/controls",
          "model_name": "DescriptionStyleModel",
          "model_module_version": "1.5.0",
          "state": {
            "_model_module": "@jupyter-widgets/controls",
            "_model_module_version": "1.5.0",
            "_model_name": "DescriptionStyleModel",
            "_view_count": null,
            "_view_module": "@jupyter-widgets/base",
            "_view_module_version": "1.2.0",
            "_view_name": "StyleView",
            "description_width": ""
          }
        },
        "2efc35e7a7fd4d308a2e62391c74a94b": {
          "model_module": "@jupyter-widgets/base",
          "model_name": "LayoutModel",
          "model_module_version": "1.2.0",
          "state": {
            "_model_module": "@jupyter-widgets/base",
            "_model_module_version": "1.2.0",
            "_model_name": "LayoutModel",
            "_view_count": null,
            "_view_module": "@jupyter-widgets/base",
            "_view_module_version": "1.2.0",
            "_view_name": "LayoutView",
            "align_content": null,
            "align_items": null,
            "align_self": null,
            "border": null,
            "bottom": null,
            "display": null,
            "flex": null,
            "flex_flow": null,
            "grid_area": null,
            "grid_auto_columns": null,
            "grid_auto_flow": null,
            "grid_auto_rows": null,
            "grid_column": null,
            "grid_gap": null,
            "grid_row": null,
            "grid_template_areas": null,
            "grid_template_columns": null,
            "grid_template_rows": null,
            "height": null,
            "justify_content": null,
            "justify_items": null,
            "left": null,
            "margin": null,
            "max_height": null,
            "max_width": null,
            "min_height": null,
            "min_width": null,
            "object_fit": null,
            "object_position": null,
            "order": null,
            "overflow": null,
            "overflow_x": null,
            "overflow_y": null,
            "padding": null,
            "right": null,
            "top": null,
            "visibility": null,
            "width": null
          }
        },
        "5f56b0f065494477bff88d71bcb6a026": {
          "model_module": "@jupyter-widgets/controls",
          "model_name": "ProgressStyleModel",
          "model_module_version": "1.5.0",
          "state": {
            "_model_module": "@jupyter-widgets/controls",
            "_model_module_version": "1.5.0",
            "_model_name": "ProgressStyleModel",
            "_view_count": null,
            "_view_module": "@jupyter-widgets/base",
            "_view_module_version": "1.2.0",
            "_view_name": "StyleView",
            "bar_color": null,
            "description_width": ""
          }
        },
        "7b56e051347047b2a09b952b485bfa5c": {
          "model_module": "@jupyter-widgets/base",
          "model_name": "LayoutModel",
          "model_module_version": "1.2.0",
          "state": {
            "_model_module": "@jupyter-widgets/base",
            "_model_module_version": "1.2.0",
            "_model_name": "LayoutModel",
            "_view_count": null,
            "_view_module": "@jupyter-widgets/base",
            "_view_module_version": "1.2.0",
            "_view_name": "LayoutView",
            "align_content": null,
            "align_items": null,
            "align_self": null,
            "border": null,
            "bottom": null,
            "display": null,
            "flex": null,
            "flex_flow": null,
            "grid_area": null,
            "grid_auto_columns": null,
            "grid_auto_flow": null,
            "grid_auto_rows": null,
            "grid_column": null,
            "grid_gap": null,
            "grid_row": null,
            "grid_template_areas": null,
            "grid_template_columns": null,
            "grid_template_rows": null,
            "height": null,
            "justify_content": null,
            "justify_items": null,
            "left": null,
            "margin": null,
            "max_height": null,
            "max_width": null,
            "min_height": null,
            "min_width": null,
            "object_fit": null,
            "object_position": null,
            "order": null,
            "overflow": null,
            "overflow_x": null,
            "overflow_y": null,
            "padding": null,
            "right": null,
            "top": null,
            "visibility": null,
            "width": null
          }
        },
        "80d7d96185f840a4953822e54e9481be": {
          "model_module": "@jupyter-widgets/controls",
          "model_name": "DescriptionStyleModel",
          "model_module_version": "1.5.0",
          "state": {
            "_model_module": "@jupyter-widgets/controls",
            "_model_module_version": "1.5.0",
            "_model_name": "DescriptionStyleModel",
            "_view_count": null,
            "_view_module": "@jupyter-widgets/base",
            "_view_module_version": "1.2.0",
            "_view_name": "StyleView",
            "description_width": ""
          }
        },
        "39bbd9a457e845c4a26d4578a7995014": {
          "model_module": "@jupyter-widgets/controls",
          "model_name": "HBoxModel",
          "model_module_version": "1.5.0",
          "state": {
            "_dom_classes": [],
            "_model_module": "@jupyter-widgets/controls",
            "_model_module_version": "1.5.0",
            "_model_name": "HBoxModel",
            "_view_count": null,
            "_view_module": "@jupyter-widgets/controls",
            "_view_module_version": "1.5.0",
            "_view_name": "HBoxView",
            "box_style": "",
            "children": [
              "IPY_MODEL_b0a9427b7cd546f19bc2dfb03722f807",
              "IPY_MODEL_ebfe1d30cd2f4556918ee65fec86fa45",
              "IPY_MODEL_ca3c4de653394e9ca9b42ac8a800a601"
            ],
            "layout": "IPY_MODEL_a36cb9a59bb34fb48d4571248f158d00"
          }
        },
        "b0a9427b7cd546f19bc2dfb03722f807": {
          "model_module": "@jupyter-widgets/controls",
          "model_name": "HTMLModel",
          "model_module_version": "1.5.0",
          "state": {
            "_dom_classes": [],
            "_model_module": "@jupyter-widgets/controls",
            "_model_module_version": "1.5.0",
            "_model_name": "HTMLModel",
            "_view_count": null,
            "_view_module": "@jupyter-widgets/controls",
            "_view_module_version": "1.5.0",
            "_view_name": "HTMLView",
            "description": "",
            "description_tooltip": null,
            "layout": "IPY_MODEL_2f174776a5b846998e06b1e9dac68baa",
            "placeholder": "​",
            "style": "IPY_MODEL_e5dcf87cb6964ae3aac78a286a7e94c6",
            "value": "sentence_bert_config.json: 100%"
          }
        },
        "ebfe1d30cd2f4556918ee65fec86fa45": {
          "model_module": "@jupyter-widgets/controls",
          "model_name": "FloatProgressModel",
          "model_module_version": "1.5.0",
          "state": {
            "_dom_classes": [],
            "_model_module": "@jupyter-widgets/controls",
            "_model_module_version": "1.5.0",
            "_model_name": "FloatProgressModel",
            "_view_count": null,
            "_view_module": "@jupyter-widgets/controls",
            "_view_module_version": "1.5.0",
            "_view_name": "ProgressView",
            "bar_style": "success",
            "description": "",
            "description_tooltip": null,
            "layout": "IPY_MODEL_788dda2b0d104e98ba633465113d96b0",
            "max": 57,
            "min": 0,
            "orientation": "horizontal",
            "style": "IPY_MODEL_5caae28b068241c0be06a74187c20fcf",
            "value": 57
          }
        },
        "ca3c4de653394e9ca9b42ac8a800a601": {
          "model_module": "@jupyter-widgets/controls",
          "model_name": "HTMLModel",
          "model_module_version": "1.5.0",
          "state": {
            "_dom_classes": [],
            "_model_module": "@jupyter-widgets/controls",
            "_model_module_version": "1.5.0",
            "_model_name": "HTMLModel",
            "_view_count": null,
            "_view_module": "@jupyter-widgets/controls",
            "_view_module_version": "1.5.0",
            "_view_name": "HTMLView",
            "description": "",
            "description_tooltip": null,
            "layout": "IPY_MODEL_ddf9d9f439f14c46b54e7c830825d3f6",
            "placeholder": "​",
            "style": "IPY_MODEL_ff1d538febba432db38bed61140eac88",
            "value": " 57.0/57.0 [00:00&lt;00:00, 526B/s]"
          }
        },
        "a36cb9a59bb34fb48d4571248f158d00": {
          "model_module": "@jupyter-widgets/base",
          "model_name": "LayoutModel",
          "model_module_version": "1.2.0",
          "state": {
            "_model_module": "@jupyter-widgets/base",
            "_model_module_version": "1.2.0",
            "_model_name": "LayoutModel",
            "_view_count": null,
            "_view_module": "@jupyter-widgets/base",
            "_view_module_version": "1.2.0",
            "_view_name": "LayoutView",
            "align_content": null,
            "align_items": null,
            "align_self": null,
            "border": null,
            "bottom": null,
            "display": null,
            "flex": null,
            "flex_flow": null,
            "grid_area": null,
            "grid_auto_columns": null,
            "grid_auto_flow": null,
            "grid_auto_rows": null,
            "grid_column": null,
            "grid_gap": null,
            "grid_row": null,
            "grid_template_areas": null,
            "grid_template_columns": null,
            "grid_template_rows": null,
            "height": null,
            "justify_content": null,
            "justify_items": null,
            "left": null,
            "margin": null,
            "max_height": null,
            "max_width": null,
            "min_height": null,
            "min_width": null,
            "object_fit": null,
            "object_position": null,
            "order": null,
            "overflow": null,
            "overflow_x": null,
            "overflow_y": null,
            "padding": null,
            "right": null,
            "top": null,
            "visibility": null,
            "width": null
          }
        },
        "2f174776a5b846998e06b1e9dac68baa": {
          "model_module": "@jupyter-widgets/base",
          "model_name": "LayoutModel",
          "model_module_version": "1.2.0",
          "state": {
            "_model_module": "@jupyter-widgets/base",
            "_model_module_version": "1.2.0",
            "_model_name": "LayoutModel",
            "_view_count": null,
            "_view_module": "@jupyter-widgets/base",
            "_view_module_version": "1.2.0",
            "_view_name": "LayoutView",
            "align_content": null,
            "align_items": null,
            "align_self": null,
            "border": null,
            "bottom": null,
            "display": null,
            "flex": null,
            "flex_flow": null,
            "grid_area": null,
            "grid_auto_columns": null,
            "grid_auto_flow": null,
            "grid_auto_rows": null,
            "grid_column": null,
            "grid_gap": null,
            "grid_row": null,
            "grid_template_areas": null,
            "grid_template_columns": null,
            "grid_template_rows": null,
            "height": null,
            "justify_content": null,
            "justify_items": null,
            "left": null,
            "margin": null,
            "max_height": null,
            "max_width": null,
            "min_height": null,
            "min_width": null,
            "object_fit": null,
            "object_position": null,
            "order": null,
            "overflow": null,
            "overflow_x": null,
            "overflow_y": null,
            "padding": null,
            "right": null,
            "top": null,
            "visibility": null,
            "width": null
          }
        },
        "e5dcf87cb6964ae3aac78a286a7e94c6": {
          "model_module": "@jupyter-widgets/controls",
          "model_name": "DescriptionStyleModel",
          "model_module_version": "1.5.0",
          "state": {
            "_model_module": "@jupyter-widgets/controls",
            "_model_module_version": "1.5.0",
            "_model_name": "DescriptionStyleModel",
            "_view_count": null,
            "_view_module": "@jupyter-widgets/base",
            "_view_module_version": "1.2.0",
            "_view_name": "StyleView",
            "description_width": ""
          }
        },
        "788dda2b0d104e98ba633465113d96b0": {
          "model_module": "@jupyter-widgets/base",
          "model_name": "LayoutModel",
          "model_module_version": "1.2.0",
          "state": {
            "_model_module": "@jupyter-widgets/base",
            "_model_module_version": "1.2.0",
            "_model_name": "LayoutModel",
            "_view_count": null,
            "_view_module": "@jupyter-widgets/base",
            "_view_module_version": "1.2.0",
            "_view_name": "LayoutView",
            "align_content": null,
            "align_items": null,
            "align_self": null,
            "border": null,
            "bottom": null,
            "display": null,
            "flex": null,
            "flex_flow": null,
            "grid_area": null,
            "grid_auto_columns": null,
            "grid_auto_flow": null,
            "grid_auto_rows": null,
            "grid_column": null,
            "grid_gap": null,
            "grid_row": null,
            "grid_template_areas": null,
            "grid_template_columns": null,
            "grid_template_rows": null,
            "height": null,
            "justify_content": null,
            "justify_items": null,
            "left": null,
            "margin": null,
            "max_height": null,
            "max_width": null,
            "min_height": null,
            "min_width": null,
            "object_fit": null,
            "object_position": null,
            "order": null,
            "overflow": null,
            "overflow_x": null,
            "overflow_y": null,
            "padding": null,
            "right": null,
            "top": null,
            "visibility": null,
            "width": null
          }
        },
        "5caae28b068241c0be06a74187c20fcf": {
          "model_module": "@jupyter-widgets/controls",
          "model_name": "ProgressStyleModel",
          "model_module_version": "1.5.0",
          "state": {
            "_model_module": "@jupyter-widgets/controls",
            "_model_module_version": "1.5.0",
            "_model_name": "ProgressStyleModel",
            "_view_count": null,
            "_view_module": "@jupyter-widgets/base",
            "_view_module_version": "1.2.0",
            "_view_name": "StyleView",
            "bar_color": null,
            "description_width": ""
          }
        },
        "ddf9d9f439f14c46b54e7c830825d3f6": {
          "model_module": "@jupyter-widgets/base",
          "model_name": "LayoutModel",
          "model_module_version": "1.2.0",
          "state": {
            "_model_module": "@jupyter-widgets/base",
            "_model_module_version": "1.2.0",
            "_model_name": "LayoutModel",
            "_view_count": null,
            "_view_module": "@jupyter-widgets/base",
            "_view_module_version": "1.2.0",
            "_view_name": "LayoutView",
            "align_content": null,
            "align_items": null,
            "align_self": null,
            "border": null,
            "bottom": null,
            "display": null,
            "flex": null,
            "flex_flow": null,
            "grid_area": null,
            "grid_auto_columns": null,
            "grid_auto_flow": null,
            "grid_auto_rows": null,
            "grid_column": null,
            "grid_gap": null,
            "grid_row": null,
            "grid_template_areas": null,
            "grid_template_columns": null,
            "grid_template_rows": null,
            "height": null,
            "justify_content": null,
            "justify_items": null,
            "left": null,
            "margin": null,
            "max_height": null,
            "max_width": null,
            "min_height": null,
            "min_width": null,
            "object_fit": null,
            "object_position": null,
            "order": null,
            "overflow": null,
            "overflow_x": null,
            "overflow_y": null,
            "padding": null,
            "right": null,
            "top": null,
            "visibility": null,
            "width": null
          }
        },
        "ff1d538febba432db38bed61140eac88": {
          "model_module": "@jupyter-widgets/controls",
          "model_name": "DescriptionStyleModel",
          "model_module_version": "1.5.0",
          "state": {
            "_model_module": "@jupyter-widgets/controls",
            "_model_module_version": "1.5.0",
            "_model_name": "DescriptionStyleModel",
            "_view_count": null,
            "_view_module": "@jupyter-widgets/base",
            "_view_module_version": "1.2.0",
            "_view_name": "StyleView",
            "description_width": ""
          }
        },
        "af82a77668034f888679257a7c706db4": {
          "model_module": "@jupyter-widgets/controls",
          "model_name": "HBoxModel",
          "model_module_version": "1.5.0",
          "state": {
            "_dom_classes": [],
            "_model_module": "@jupyter-widgets/controls",
            "_model_module_version": "1.5.0",
            "_model_name": "HBoxModel",
            "_view_count": null,
            "_view_module": "@jupyter-widgets/controls",
            "_view_module_version": "1.5.0",
            "_view_name": "HBoxView",
            "box_style": "",
            "children": [
              "IPY_MODEL_9ef7d903111b4322aa657956a86fdc39",
              "IPY_MODEL_7b1c365b7482488a88707c8583ce0438",
              "IPY_MODEL_7910b1ce02b74c0aa2b0544d1ff0cf86"
            ],
            "layout": "IPY_MODEL_c6e101edf2694441a90e11c1211bba59"
          }
        },
        "9ef7d903111b4322aa657956a86fdc39": {
          "model_module": "@jupyter-widgets/controls",
          "model_name": "HTMLModel",
          "model_module_version": "1.5.0",
          "state": {
            "_dom_classes": [],
            "_model_module": "@jupyter-widgets/controls",
            "_model_module_version": "1.5.0",
            "_model_name": "HTMLModel",
            "_view_count": null,
            "_view_module": "@jupyter-widgets/controls",
            "_view_module_version": "1.5.0",
            "_view_name": "HTMLView",
            "description": "",
            "description_tooltip": null,
            "layout": "IPY_MODEL_5d560e05de4c40f39c0cc6bbba18940c",
            "placeholder": "​",
            "style": "IPY_MODEL_f8ca197f25f84c438bd95e27dee606a0",
            "value": "config.json: 100%"
          }
        },
        "7b1c365b7482488a88707c8583ce0438": {
          "model_module": "@jupyter-widgets/controls",
          "model_name": "FloatProgressModel",
          "model_module_version": "1.5.0",
          "state": {
            "_dom_classes": [],
            "_model_module": "@jupyter-widgets/controls",
            "_model_module_version": "1.5.0",
            "_model_name": "FloatProgressModel",
            "_view_count": null,
            "_view_module": "@jupyter-widgets/controls",
            "_view_module_version": "1.5.0",
            "_view_name": "ProgressView",
            "bar_style": "success",
            "description": "",
            "description_tooltip": null,
            "layout": "IPY_MODEL_d9826a7941194195a6a005f68e3ae161",
            "max": 616,
            "min": 0,
            "orientation": "horizontal",
            "style": "IPY_MODEL_c196c0dc904e4b21b5a60bfd77a4ba91",
            "value": 616
          }
        },
        "7910b1ce02b74c0aa2b0544d1ff0cf86": {
          "model_module": "@jupyter-widgets/controls",
          "model_name": "HTMLModel",
          "model_module_version": "1.5.0",
          "state": {
            "_dom_classes": [],
            "_model_module": "@jupyter-widgets/controls",
            "_model_module_version": "1.5.0",
            "_model_name": "HTMLModel",
            "_view_count": null,
            "_view_module": "@jupyter-widgets/controls",
            "_view_module_version": "1.5.0",
            "_view_name": "HTMLView",
            "description": "",
            "description_tooltip": null,
            "layout": "IPY_MODEL_75133083ebd6462f9e9731a0944c6ac0",
            "placeholder": "​",
            "style": "IPY_MODEL_624bf2104e07416aa09d44b90d8bdac8",
            "value": " 616/616 [00:00&lt;00:00, 4.82kB/s]"
          }
        },
        "c6e101edf2694441a90e11c1211bba59": {
          "model_module": "@jupyter-widgets/base",
          "model_name": "LayoutModel",
          "model_module_version": "1.2.0",
          "state": {
            "_model_module": "@jupyter-widgets/base",
            "_model_module_version": "1.2.0",
            "_model_name": "LayoutModel",
            "_view_count": null,
            "_view_module": "@jupyter-widgets/base",
            "_view_module_version": "1.2.0",
            "_view_name": "LayoutView",
            "align_content": null,
            "align_items": null,
            "align_self": null,
            "border": null,
            "bottom": null,
            "display": null,
            "flex": null,
            "flex_flow": null,
            "grid_area": null,
            "grid_auto_columns": null,
            "grid_auto_flow": null,
            "grid_auto_rows": null,
            "grid_column": null,
            "grid_gap": null,
            "grid_row": null,
            "grid_template_areas": null,
            "grid_template_columns": null,
            "grid_template_rows": null,
            "height": null,
            "justify_content": null,
            "justify_items": null,
            "left": null,
            "margin": null,
            "max_height": null,
            "max_width": null,
            "min_height": null,
            "min_width": null,
            "object_fit": null,
            "object_position": null,
            "order": null,
            "overflow": null,
            "overflow_x": null,
            "overflow_y": null,
            "padding": null,
            "right": null,
            "top": null,
            "visibility": null,
            "width": null
          }
        },
        "5d560e05de4c40f39c0cc6bbba18940c": {
          "model_module": "@jupyter-widgets/base",
          "model_name": "LayoutModel",
          "model_module_version": "1.2.0",
          "state": {
            "_model_module": "@jupyter-widgets/base",
            "_model_module_version": "1.2.0",
            "_model_name": "LayoutModel",
            "_view_count": null,
            "_view_module": "@jupyter-widgets/base",
            "_view_module_version": "1.2.0",
            "_view_name": "LayoutView",
            "align_content": null,
            "align_items": null,
            "align_self": null,
            "border": null,
            "bottom": null,
            "display": null,
            "flex": null,
            "flex_flow": null,
            "grid_area": null,
            "grid_auto_columns": null,
            "grid_auto_flow": null,
            "grid_auto_rows": null,
            "grid_column": null,
            "grid_gap": null,
            "grid_row": null,
            "grid_template_areas": null,
            "grid_template_columns": null,
            "grid_template_rows": null,
            "height": null,
            "justify_content": null,
            "justify_items": null,
            "left": null,
            "margin": null,
            "max_height": null,
            "max_width": null,
            "min_height": null,
            "min_width": null,
            "object_fit": null,
            "object_position": null,
            "order": null,
            "overflow": null,
            "overflow_x": null,
            "overflow_y": null,
            "padding": null,
            "right": null,
            "top": null,
            "visibility": null,
            "width": null
          }
        },
        "f8ca197f25f84c438bd95e27dee606a0": {
          "model_module": "@jupyter-widgets/controls",
          "model_name": "DescriptionStyleModel",
          "model_module_version": "1.5.0",
          "state": {
            "_model_module": "@jupyter-widgets/controls",
            "_model_module_version": "1.5.0",
            "_model_name": "DescriptionStyleModel",
            "_view_count": null,
            "_view_module": "@jupyter-widgets/base",
            "_view_module_version": "1.2.0",
            "_view_name": "StyleView",
            "description_width": ""
          }
        },
        "d9826a7941194195a6a005f68e3ae161": {
          "model_module": "@jupyter-widgets/base",
          "model_name": "LayoutModel",
          "model_module_version": "1.2.0",
          "state": {
            "_model_module": "@jupyter-widgets/base",
            "_model_module_version": "1.2.0",
            "_model_name": "LayoutModel",
            "_view_count": null,
            "_view_module": "@jupyter-widgets/base",
            "_view_module_version": "1.2.0",
            "_view_name": "LayoutView",
            "align_content": null,
            "align_items": null,
            "align_self": null,
            "border": null,
            "bottom": null,
            "display": null,
            "flex": null,
            "flex_flow": null,
            "grid_area": null,
            "grid_auto_columns": null,
            "grid_auto_flow": null,
            "grid_auto_rows": null,
            "grid_column": null,
            "grid_gap": null,
            "grid_row": null,
            "grid_template_areas": null,
            "grid_template_columns": null,
            "grid_template_rows": null,
            "height": null,
            "justify_content": null,
            "justify_items": null,
            "left": null,
            "margin": null,
            "max_height": null,
            "max_width": null,
            "min_height": null,
            "min_width": null,
            "object_fit": null,
            "object_position": null,
            "order": null,
            "overflow": null,
            "overflow_x": null,
            "overflow_y": null,
            "padding": null,
            "right": null,
            "top": null,
            "visibility": null,
            "width": null
          }
        },
        "c196c0dc904e4b21b5a60bfd77a4ba91": {
          "model_module": "@jupyter-widgets/controls",
          "model_name": "ProgressStyleModel",
          "model_module_version": "1.5.0",
          "state": {
            "_model_module": "@jupyter-widgets/controls",
            "_model_module_version": "1.5.0",
            "_model_name": "ProgressStyleModel",
            "_view_count": null,
            "_view_module": "@jupyter-widgets/base",
            "_view_module_version": "1.2.0",
            "_view_name": "StyleView",
            "bar_color": null,
            "description_width": ""
          }
        },
        "75133083ebd6462f9e9731a0944c6ac0": {
          "model_module": "@jupyter-widgets/base",
          "model_name": "LayoutModel",
          "model_module_version": "1.2.0",
          "state": {
            "_model_module": "@jupyter-widgets/base",
            "_model_module_version": "1.2.0",
            "_model_name": "LayoutModel",
            "_view_count": null,
            "_view_module": "@jupyter-widgets/base",
            "_view_module_version": "1.2.0",
            "_view_name": "LayoutView",
            "align_content": null,
            "align_items": null,
            "align_self": null,
            "border": null,
            "bottom": null,
            "display": null,
            "flex": null,
            "flex_flow": null,
            "grid_area": null,
            "grid_auto_columns": null,
            "grid_auto_flow": null,
            "grid_auto_rows": null,
            "grid_column": null,
            "grid_gap": null,
            "grid_row": null,
            "grid_template_areas": null,
            "grid_template_columns": null,
            "grid_template_rows": null,
            "height": null,
            "justify_content": null,
            "justify_items": null,
            "left": null,
            "margin": null,
            "max_height": null,
            "max_width": null,
            "min_height": null,
            "min_width": null,
            "object_fit": null,
            "object_position": null,
            "order": null,
            "overflow": null,
            "overflow_x": null,
            "overflow_y": null,
            "padding": null,
            "right": null,
            "top": null,
            "visibility": null,
            "width": null
          }
        },
        "624bf2104e07416aa09d44b90d8bdac8": {
          "model_module": "@jupyter-widgets/controls",
          "model_name": "DescriptionStyleModel",
          "model_module_version": "1.5.0",
          "state": {
            "_model_module": "@jupyter-widgets/controls",
            "_model_module_version": "1.5.0",
            "_model_name": "DescriptionStyleModel",
            "_view_count": null,
            "_view_module": "@jupyter-widgets/base",
            "_view_module_version": "1.2.0",
            "_view_name": "StyleView",
            "description_width": ""
          }
        },
        "56b6bece901640b386a0245fcdedbffa": {
          "model_module": "@jupyter-widgets/controls",
          "model_name": "HBoxModel",
          "model_module_version": "1.5.0",
          "state": {
            "_dom_classes": [],
            "_model_module": "@jupyter-widgets/controls",
            "_model_module_version": "1.5.0",
            "_model_name": "HBoxModel",
            "_view_count": null,
            "_view_module": "@jupyter-widgets/controls",
            "_view_module_version": "1.5.0",
            "_view_name": "HBoxView",
            "box_style": "",
            "children": [
              "IPY_MODEL_83f71d39f098401fadc4414812578247",
              "IPY_MODEL_b66b1829bded43babdc1f935cb0778cb",
              "IPY_MODEL_dbdef7110eb942b9b62d0f3c5a08184d"
            ],
            "layout": "IPY_MODEL_6f9bf7d4c28e43b7a9859d4395e242ac"
          }
        },
        "83f71d39f098401fadc4414812578247": {
          "model_module": "@jupyter-widgets/controls",
          "model_name": "HTMLModel",
          "model_module_version": "1.5.0",
          "state": {
            "_dom_classes": [],
            "_model_module": "@jupyter-widgets/controls",
            "_model_module_version": "1.5.0",
            "_model_name": "HTMLModel",
            "_view_count": null,
            "_view_module": "@jupyter-widgets/controls",
            "_view_module_version": "1.5.0",
            "_view_name": "HTMLView",
            "description": "",
            "description_tooltip": null,
            "layout": "IPY_MODEL_d3f7101a8d9a40bd8c9edb31ffa7db2d",
            "placeholder": "​",
            "style": "IPY_MODEL_a5c405b093084f6a80820f5c9b2b9de7",
            "value": "model.safetensors: 100%"
          }
        },
        "b66b1829bded43babdc1f935cb0778cb": {
          "model_module": "@jupyter-widgets/controls",
          "model_name": "FloatProgressModel",
          "model_module_version": "1.5.0",
          "state": {
            "_dom_classes": [],
            "_model_module": "@jupyter-widgets/controls",
            "_model_module_version": "1.5.0",
            "_model_name": "FloatProgressModel",
            "_view_count": null,
            "_view_module": "@jupyter-widgets/controls",
            "_view_module_version": "1.5.0",
            "_view_name": "ProgressView",
            "bar_style": "success",
            "description": "",
            "description_tooltip": null,
            "layout": "IPY_MODEL_3eb84cbd4db249649a226432ae8dc633",
            "max": 1340616616,
            "min": 0,
            "orientation": "horizontal",
            "style": "IPY_MODEL_85961f9462b245e9b3c0117df914587f",
            "value": 1340616616
          }
        },
        "dbdef7110eb942b9b62d0f3c5a08184d": {
          "model_module": "@jupyter-widgets/controls",
          "model_name": "HTMLModel",
          "model_module_version": "1.5.0",
          "state": {
            "_dom_classes": [],
            "_model_module": "@jupyter-widgets/controls",
            "_model_module_version": "1.5.0",
            "_model_name": "HTMLModel",
            "_view_count": null,
            "_view_module": "@jupyter-widgets/controls",
            "_view_module_version": "1.5.0",
            "_view_name": "HTMLView",
            "description": "",
            "description_tooltip": null,
            "layout": "IPY_MODEL_f0df1bfe17f64faeb5118673b598d79a",
            "placeholder": "​",
            "style": "IPY_MODEL_76ea0be3671a49c882d7f776a18c8585",
            "value": " 1.34G/1.34G [00:18&lt;00:00, 15.2MB/s]"
          }
        },
        "6f9bf7d4c28e43b7a9859d4395e242ac": {
          "model_module": "@jupyter-widgets/base",
          "model_name": "LayoutModel",
          "model_module_version": "1.2.0",
          "state": {
            "_model_module": "@jupyter-widgets/base",
            "_model_module_version": "1.2.0",
            "_model_name": "LayoutModel",
            "_view_count": null,
            "_view_module": "@jupyter-widgets/base",
            "_view_module_version": "1.2.0",
            "_view_name": "LayoutView",
            "align_content": null,
            "align_items": null,
            "align_self": null,
            "border": null,
            "bottom": null,
            "display": null,
            "flex": null,
            "flex_flow": null,
            "grid_area": null,
            "grid_auto_columns": null,
            "grid_auto_flow": null,
            "grid_auto_rows": null,
            "grid_column": null,
            "grid_gap": null,
            "grid_row": null,
            "grid_template_areas": null,
            "grid_template_columns": null,
            "grid_template_rows": null,
            "height": null,
            "justify_content": null,
            "justify_items": null,
            "left": null,
            "margin": null,
            "max_height": null,
            "max_width": null,
            "min_height": null,
            "min_width": null,
            "object_fit": null,
            "object_position": null,
            "order": null,
            "overflow": null,
            "overflow_x": null,
            "overflow_y": null,
            "padding": null,
            "right": null,
            "top": null,
            "visibility": null,
            "width": null
          }
        },
        "d3f7101a8d9a40bd8c9edb31ffa7db2d": {
          "model_module": "@jupyter-widgets/base",
          "model_name": "LayoutModel",
          "model_module_version": "1.2.0",
          "state": {
            "_model_module": "@jupyter-widgets/base",
            "_model_module_version": "1.2.0",
            "_model_name": "LayoutModel",
            "_view_count": null,
            "_view_module": "@jupyter-widgets/base",
            "_view_module_version": "1.2.0",
            "_view_name": "LayoutView",
            "align_content": null,
            "align_items": null,
            "align_self": null,
            "border": null,
            "bottom": null,
            "display": null,
            "flex": null,
            "flex_flow": null,
            "grid_area": null,
            "grid_auto_columns": null,
            "grid_auto_flow": null,
            "grid_auto_rows": null,
            "grid_column": null,
            "grid_gap": null,
            "grid_row": null,
            "grid_template_areas": null,
            "grid_template_columns": null,
            "grid_template_rows": null,
            "height": null,
            "justify_content": null,
            "justify_items": null,
            "left": null,
            "margin": null,
            "max_height": null,
            "max_width": null,
            "min_height": null,
            "min_width": null,
            "object_fit": null,
            "object_position": null,
            "order": null,
            "overflow": null,
            "overflow_x": null,
            "overflow_y": null,
            "padding": null,
            "right": null,
            "top": null,
            "visibility": null,
            "width": null
          }
        },
        "a5c405b093084f6a80820f5c9b2b9de7": {
          "model_module": "@jupyter-widgets/controls",
          "model_name": "DescriptionStyleModel",
          "model_module_version": "1.5.0",
          "state": {
            "_model_module": "@jupyter-widgets/controls",
            "_model_module_version": "1.5.0",
            "_model_name": "DescriptionStyleModel",
            "_view_count": null,
            "_view_module": "@jupyter-widgets/base",
            "_view_module_version": "1.2.0",
            "_view_name": "StyleView",
            "description_width": ""
          }
        },
        "3eb84cbd4db249649a226432ae8dc633": {
          "model_module": "@jupyter-widgets/base",
          "model_name": "LayoutModel",
          "model_module_version": "1.2.0",
          "state": {
            "_model_module": "@jupyter-widgets/base",
            "_model_module_version": "1.2.0",
            "_model_name": "LayoutModel",
            "_view_count": null,
            "_view_module": "@jupyter-widgets/base",
            "_view_module_version": "1.2.0",
            "_view_name": "LayoutView",
            "align_content": null,
            "align_items": null,
            "align_self": null,
            "border": null,
            "bottom": null,
            "display": null,
            "flex": null,
            "flex_flow": null,
            "grid_area": null,
            "grid_auto_columns": null,
            "grid_auto_flow": null,
            "grid_auto_rows": null,
            "grid_column": null,
            "grid_gap": null,
            "grid_row": null,
            "grid_template_areas": null,
            "grid_template_columns": null,
            "grid_template_rows": null,
            "height": null,
            "justify_content": null,
            "justify_items": null,
            "left": null,
            "margin": null,
            "max_height": null,
            "max_width": null,
            "min_height": null,
            "min_width": null,
            "object_fit": null,
            "object_position": null,
            "order": null,
            "overflow": null,
            "overflow_x": null,
            "overflow_y": null,
            "padding": null,
            "right": null,
            "top": null,
            "visibility": null,
            "width": null
          }
        },
        "85961f9462b245e9b3c0117df914587f": {
          "model_module": "@jupyter-widgets/controls",
          "model_name": "ProgressStyleModel",
          "model_module_version": "1.5.0",
          "state": {
            "_model_module": "@jupyter-widgets/controls",
            "_model_module_version": "1.5.0",
            "_model_name": "ProgressStyleModel",
            "_view_count": null,
            "_view_module": "@jupyter-widgets/base",
            "_view_module_version": "1.2.0",
            "_view_name": "StyleView",
            "bar_color": null,
            "description_width": ""
          }
        },
        "f0df1bfe17f64faeb5118673b598d79a": {
          "model_module": "@jupyter-widgets/base",
          "model_name": "LayoutModel",
          "model_module_version": "1.2.0",
          "state": {
            "_model_module": "@jupyter-widgets/base",
            "_model_module_version": "1.2.0",
            "_model_name": "LayoutModel",
            "_view_count": null,
            "_view_module": "@jupyter-widgets/base",
            "_view_module_version": "1.2.0",
            "_view_name": "LayoutView",
            "align_content": null,
            "align_items": null,
            "align_self": null,
            "border": null,
            "bottom": null,
            "display": null,
            "flex": null,
            "flex_flow": null,
            "grid_area": null,
            "grid_auto_columns": null,
            "grid_auto_flow": null,
            "grid_auto_rows": null,
            "grid_column": null,
            "grid_gap": null,
            "grid_row": null,
            "grid_template_areas": null,
            "grid_template_columns": null,
            "grid_template_rows": null,
            "height": null,
            "justify_content": null,
            "justify_items": null,
            "left": null,
            "margin": null,
            "max_height": null,
            "max_width": null,
            "min_height": null,
            "min_width": null,
            "object_fit": null,
            "object_position": null,
            "order": null,
            "overflow": null,
            "overflow_x": null,
            "overflow_y": null,
            "padding": null,
            "right": null,
            "top": null,
            "visibility": null,
            "width": null
          }
        },
        "76ea0be3671a49c882d7f776a18c8585": {
          "model_module": "@jupyter-widgets/controls",
          "model_name": "DescriptionStyleModel",
          "model_module_version": "1.5.0",
          "state": {
            "_model_module": "@jupyter-widgets/controls",
            "_model_module_version": "1.5.0",
            "_model_name": "DescriptionStyleModel",
            "_view_count": null,
            "_view_module": "@jupyter-widgets/base",
            "_view_module_version": "1.2.0",
            "_view_name": "StyleView",
            "description_width": ""
          }
        },
        "ad87c4dd72894eaf90c20d983b1ba6a2": {
          "model_module": "@jupyter-widgets/controls",
          "model_name": "HBoxModel",
          "model_module_version": "1.5.0",
          "state": {
            "_dom_classes": [],
            "_model_module": "@jupyter-widgets/controls",
            "_model_module_version": "1.5.0",
            "_model_name": "HBoxModel",
            "_view_count": null,
            "_view_module": "@jupyter-widgets/controls",
            "_view_module_version": "1.5.0",
            "_view_name": "HBoxView",
            "box_style": "",
            "children": [
              "IPY_MODEL_9fb29e8bbe964e279fa0ce6f8773a684",
              "IPY_MODEL_8003033601474cbeaab27e956ee609e2",
              "IPY_MODEL_88b0dfb3ae6845959c47f1b2a74c38fb"
            ],
            "layout": "IPY_MODEL_e29f6c2ecdd945afb95f3ba803a818f1"
          }
        },
        "9fb29e8bbe964e279fa0ce6f8773a684": {
          "model_module": "@jupyter-widgets/controls",
          "model_name": "HTMLModel",
          "model_module_version": "1.5.0",
          "state": {
            "_dom_classes": [],
            "_model_module": "@jupyter-widgets/controls",
            "_model_module_version": "1.5.0",
            "_model_name": "HTMLModel",
            "_view_count": null,
            "_view_module": "@jupyter-widgets/controls",
            "_view_module_version": "1.5.0",
            "_view_name": "HTMLView",
            "description": "",
            "description_tooltip": null,
            "layout": "IPY_MODEL_7f57b772b7a148f89fb98aedb8c687b2",
            "placeholder": "​",
            "style": "IPY_MODEL_c16bc00e24aa42beba6711abaaed7b2e",
            "value": "tokenizer_config.json: 100%"
          }
        },
        "8003033601474cbeaab27e956ee609e2": {
          "model_module": "@jupyter-widgets/controls",
          "model_name": "FloatProgressModel",
          "model_module_version": "1.5.0",
          "state": {
            "_dom_classes": [],
            "_model_module": "@jupyter-widgets/controls",
            "_model_module_version": "1.5.0",
            "_model_name": "FloatProgressModel",
            "_view_count": null,
            "_view_module": "@jupyter-widgets/controls",
            "_view_module_version": "1.5.0",
            "_view_name": "ProgressView",
            "bar_style": "success",
            "description": "",
            "description_tooltip": null,
            "layout": "IPY_MODEL_679e4b21d43f4124b59e2e902a2252c4",
            "max": 314,
            "min": 0,
            "orientation": "horizontal",
            "style": "IPY_MODEL_eac85cfe85fd4f8f80680ba7b5f78624",
            "value": 314
          }
        },
        "88b0dfb3ae6845959c47f1b2a74c38fb": {
          "model_module": "@jupyter-widgets/controls",
          "model_name": "HTMLModel",
          "model_module_version": "1.5.0",
          "state": {
            "_dom_classes": [],
            "_model_module": "@jupyter-widgets/controls",
            "_model_module_version": "1.5.0",
            "_model_name": "HTMLModel",
            "_view_count": null,
            "_view_module": "@jupyter-widgets/controls",
            "_view_module_version": "1.5.0",
            "_view_name": "HTMLView",
            "description": "",
            "description_tooltip": null,
            "layout": "IPY_MODEL_8fa394a6bc1d47589d93a90f84d857f4",
            "placeholder": "​",
            "style": "IPY_MODEL_93eb66a0a6bf4950b9cbea178ab03012",
            "value": " 314/314 [00:00&lt;00:00, 12.6kB/s]"
          }
        },
        "e29f6c2ecdd945afb95f3ba803a818f1": {
          "model_module": "@jupyter-widgets/base",
          "model_name": "LayoutModel",
          "model_module_version": "1.2.0",
          "state": {
            "_model_module": "@jupyter-widgets/base",
            "_model_module_version": "1.2.0",
            "_model_name": "LayoutModel",
            "_view_count": null,
            "_view_module": "@jupyter-widgets/base",
            "_view_module_version": "1.2.0",
            "_view_name": "LayoutView",
            "align_content": null,
            "align_items": null,
            "align_self": null,
            "border": null,
            "bottom": null,
            "display": null,
            "flex": null,
            "flex_flow": null,
            "grid_area": null,
            "grid_auto_columns": null,
            "grid_auto_flow": null,
            "grid_auto_rows": null,
            "grid_column": null,
            "grid_gap": null,
            "grid_row": null,
            "grid_template_areas": null,
            "grid_template_columns": null,
            "grid_template_rows": null,
            "height": null,
            "justify_content": null,
            "justify_items": null,
            "left": null,
            "margin": null,
            "max_height": null,
            "max_width": null,
            "min_height": null,
            "min_width": null,
            "object_fit": null,
            "object_position": null,
            "order": null,
            "overflow": null,
            "overflow_x": null,
            "overflow_y": null,
            "padding": null,
            "right": null,
            "top": null,
            "visibility": null,
            "width": null
          }
        },
        "7f57b772b7a148f89fb98aedb8c687b2": {
          "model_module": "@jupyter-widgets/base",
          "model_name": "LayoutModel",
          "model_module_version": "1.2.0",
          "state": {
            "_model_module": "@jupyter-widgets/base",
            "_model_module_version": "1.2.0",
            "_model_name": "LayoutModel",
            "_view_count": null,
            "_view_module": "@jupyter-widgets/base",
            "_view_module_version": "1.2.0",
            "_view_name": "LayoutView",
            "align_content": null,
            "align_items": null,
            "align_self": null,
            "border": null,
            "bottom": null,
            "display": null,
            "flex": null,
            "flex_flow": null,
            "grid_area": null,
            "grid_auto_columns": null,
            "grid_auto_flow": null,
            "grid_auto_rows": null,
            "grid_column": null,
            "grid_gap": null,
            "grid_row": null,
            "grid_template_areas": null,
            "grid_template_columns": null,
            "grid_template_rows": null,
            "height": null,
            "justify_content": null,
            "justify_items": null,
            "left": null,
            "margin": null,
            "max_height": null,
            "max_width": null,
            "min_height": null,
            "min_width": null,
            "object_fit": null,
            "object_position": null,
            "order": null,
            "overflow": null,
            "overflow_x": null,
            "overflow_y": null,
            "padding": null,
            "right": null,
            "top": null,
            "visibility": null,
            "width": null
          }
        },
        "c16bc00e24aa42beba6711abaaed7b2e": {
          "model_module": "@jupyter-widgets/controls",
          "model_name": "DescriptionStyleModel",
          "model_module_version": "1.5.0",
          "state": {
            "_model_module": "@jupyter-widgets/controls",
            "_model_module_version": "1.5.0",
            "_model_name": "DescriptionStyleModel",
            "_view_count": null,
            "_view_module": "@jupyter-widgets/base",
            "_view_module_version": "1.2.0",
            "_view_name": "StyleView",
            "description_width": ""
          }
        },
        "679e4b21d43f4124b59e2e902a2252c4": {
          "model_module": "@jupyter-widgets/base",
          "model_name": "LayoutModel",
          "model_module_version": "1.2.0",
          "state": {
            "_model_module": "@jupyter-widgets/base",
            "_model_module_version": "1.2.0",
            "_model_name": "LayoutModel",
            "_view_count": null,
            "_view_module": "@jupyter-widgets/base",
            "_view_module_version": "1.2.0",
            "_view_name": "LayoutView",
            "align_content": null,
            "align_items": null,
            "align_self": null,
            "border": null,
            "bottom": null,
            "display": null,
            "flex": null,
            "flex_flow": null,
            "grid_area": null,
            "grid_auto_columns": null,
            "grid_auto_flow": null,
            "grid_auto_rows": null,
            "grid_column": null,
            "grid_gap": null,
            "grid_row": null,
            "grid_template_areas": null,
            "grid_template_columns": null,
            "grid_template_rows": null,
            "height": null,
            "justify_content": null,
            "justify_items": null,
            "left": null,
            "margin": null,
            "max_height": null,
            "max_width": null,
            "min_height": null,
            "min_width": null,
            "object_fit": null,
            "object_position": null,
            "order": null,
            "overflow": null,
            "overflow_x": null,
            "overflow_y": null,
            "padding": null,
            "right": null,
            "top": null,
            "visibility": null,
            "width": null
          }
        },
        "eac85cfe85fd4f8f80680ba7b5f78624": {
          "model_module": "@jupyter-widgets/controls",
          "model_name": "ProgressStyleModel",
          "model_module_version": "1.5.0",
          "state": {
            "_model_module": "@jupyter-widgets/controls",
            "_model_module_version": "1.5.0",
            "_model_name": "ProgressStyleModel",
            "_view_count": null,
            "_view_module": "@jupyter-widgets/base",
            "_view_module_version": "1.2.0",
            "_view_name": "StyleView",
            "bar_color": null,
            "description_width": ""
          }
        },
        "8fa394a6bc1d47589d93a90f84d857f4": {
          "model_module": "@jupyter-widgets/base",
          "model_name": "LayoutModel",
          "model_module_version": "1.2.0",
          "state": {
            "_model_module": "@jupyter-widgets/base",
            "_model_module_version": "1.2.0",
            "_model_name": "LayoutModel",
            "_view_count": null,
            "_view_module": "@jupyter-widgets/base",
            "_view_module_version": "1.2.0",
            "_view_name": "LayoutView",
            "align_content": null,
            "align_items": null,
            "align_self": null,
            "border": null,
            "bottom": null,
            "display": null,
            "flex": null,
            "flex_flow": null,
            "grid_area": null,
            "grid_auto_columns": null,
            "grid_auto_flow": null,
            "grid_auto_rows": null,
            "grid_column": null,
            "grid_gap": null,
            "grid_row": null,
            "grid_template_areas": null,
            "grid_template_columns": null,
            "grid_template_rows": null,
            "height": null,
            "justify_content": null,
            "justify_items": null,
            "left": null,
            "margin": null,
            "max_height": null,
            "max_width": null,
            "min_height": null,
            "min_width": null,
            "object_fit": null,
            "object_position": null,
            "order": null,
            "overflow": null,
            "overflow_x": null,
            "overflow_y": null,
            "padding": null,
            "right": null,
            "top": null,
            "visibility": null,
            "width": null
          }
        },
        "93eb66a0a6bf4950b9cbea178ab03012": {
          "model_module": "@jupyter-widgets/controls",
          "model_name": "DescriptionStyleModel",
          "model_module_version": "1.5.0",
          "state": {
            "_model_module": "@jupyter-widgets/controls",
            "_model_module_version": "1.5.0",
            "_model_name": "DescriptionStyleModel",
            "_view_count": null,
            "_view_module": "@jupyter-widgets/base",
            "_view_module_version": "1.2.0",
            "_view_name": "StyleView",
            "description_width": ""
          }
        },
        "5282251e46c8480eae662114c900d5ff": {
          "model_module": "@jupyter-widgets/controls",
          "model_name": "HBoxModel",
          "model_module_version": "1.5.0",
          "state": {
            "_dom_classes": [],
            "_model_module": "@jupyter-widgets/controls",
            "_model_module_version": "1.5.0",
            "_model_name": "HBoxModel",
            "_view_count": null,
            "_view_module": "@jupyter-widgets/controls",
            "_view_module_version": "1.5.0",
            "_view_name": "HBoxView",
            "box_style": "",
            "children": [
              "IPY_MODEL_c64a8d03873d4b1aaa93736efc13630f",
              "IPY_MODEL_9efb6f7a51cb4b728b085a1233961087",
              "IPY_MODEL_e69b24afb7ab43eeb98df49a12a465d8"
            ],
            "layout": "IPY_MODEL_4fdd9367281b4700b65290661157add7"
          }
        },
        "c64a8d03873d4b1aaa93736efc13630f": {
          "model_module": "@jupyter-widgets/controls",
          "model_name": "HTMLModel",
          "model_module_version": "1.5.0",
          "state": {
            "_dom_classes": [],
            "_model_module": "@jupyter-widgets/controls",
            "_model_module_version": "1.5.0",
            "_model_name": "HTMLModel",
            "_view_count": null,
            "_view_module": "@jupyter-widgets/controls",
            "_view_module_version": "1.5.0",
            "_view_name": "HTMLView",
            "description": "",
            "description_tooltip": null,
            "layout": "IPY_MODEL_fd6dfb9f5a7b4dcd8adc989665a14614",
            "placeholder": "​",
            "style": "IPY_MODEL_0be4b03156094d329de5cd7ae108bb1a",
            "value": "vocab.txt: 100%"
          }
        },
        "9efb6f7a51cb4b728b085a1233961087": {
          "model_module": "@jupyter-widgets/controls",
          "model_name": "FloatProgressModel",
          "model_module_version": "1.5.0",
          "state": {
            "_dom_classes": [],
            "_model_module": "@jupyter-widgets/controls",
            "_model_module_version": "1.5.0",
            "_model_name": "FloatProgressModel",
            "_view_count": null,
            "_view_module": "@jupyter-widgets/controls",
            "_view_module_version": "1.5.0",
            "_view_name": "ProgressView",
            "bar_style": "success",
            "description": "",
            "description_tooltip": null,
            "layout": "IPY_MODEL_ecc3c006dc6844c589d1ffcc8d36a19e",
            "max": 231508,
            "min": 0,
            "orientation": "horizontal",
            "style": "IPY_MODEL_46c66857f20b4a62b53f24eab0600549",
            "value": 231508
          }
        },
        "e69b24afb7ab43eeb98df49a12a465d8": {
          "model_module": "@jupyter-widgets/controls",
          "model_name": "HTMLModel",
          "model_module_version": "1.5.0",
          "state": {
            "_dom_classes": [],
            "_model_module": "@jupyter-widgets/controls",
            "_model_module_version": "1.5.0",
            "_model_name": "HTMLModel",
            "_view_count": null,
            "_view_module": "@jupyter-widgets/controls",
            "_view_module_version": "1.5.0",
            "_view_name": "HTMLView",
            "description": "",
            "description_tooltip": null,
            "layout": "IPY_MODEL_ef888b2667c542e0b8903af351f3c4d9",
            "placeholder": "​",
            "style": "IPY_MODEL_dcf847996bb14b7b96b722c82c801b0b",
            "value": " 232k/232k [00:00&lt;00:00, 9.62MB/s]"
          }
        },
        "4fdd9367281b4700b65290661157add7": {
          "model_module": "@jupyter-widgets/base",
          "model_name": "LayoutModel",
          "model_module_version": "1.2.0",
          "state": {
            "_model_module": "@jupyter-widgets/base",
            "_model_module_version": "1.2.0",
            "_model_name": "LayoutModel",
            "_view_count": null,
            "_view_module": "@jupyter-widgets/base",
            "_view_module_version": "1.2.0",
            "_view_name": "LayoutView",
            "align_content": null,
            "align_items": null,
            "align_self": null,
            "border": null,
            "bottom": null,
            "display": null,
            "flex": null,
            "flex_flow": null,
            "grid_area": null,
            "grid_auto_columns": null,
            "grid_auto_flow": null,
            "grid_auto_rows": null,
            "grid_column": null,
            "grid_gap": null,
            "grid_row": null,
            "grid_template_areas": null,
            "grid_template_columns": null,
            "grid_template_rows": null,
            "height": null,
            "justify_content": null,
            "justify_items": null,
            "left": null,
            "margin": null,
            "max_height": null,
            "max_width": null,
            "min_height": null,
            "min_width": null,
            "object_fit": null,
            "object_position": null,
            "order": null,
            "overflow": null,
            "overflow_x": null,
            "overflow_y": null,
            "padding": null,
            "right": null,
            "top": null,
            "visibility": null,
            "width": null
          }
        },
        "fd6dfb9f5a7b4dcd8adc989665a14614": {
          "model_module": "@jupyter-widgets/base",
          "model_name": "LayoutModel",
          "model_module_version": "1.2.0",
          "state": {
            "_model_module": "@jupyter-widgets/base",
            "_model_module_version": "1.2.0",
            "_model_name": "LayoutModel",
            "_view_count": null,
            "_view_module": "@jupyter-widgets/base",
            "_view_module_version": "1.2.0",
            "_view_name": "LayoutView",
            "align_content": null,
            "align_items": null,
            "align_self": null,
            "border": null,
            "bottom": null,
            "display": null,
            "flex": null,
            "flex_flow": null,
            "grid_area": null,
            "grid_auto_columns": null,
            "grid_auto_flow": null,
            "grid_auto_rows": null,
            "grid_column": null,
            "grid_gap": null,
            "grid_row": null,
            "grid_template_areas": null,
            "grid_template_columns": null,
            "grid_template_rows": null,
            "height": null,
            "justify_content": null,
            "justify_items": null,
            "left": null,
            "margin": null,
            "max_height": null,
            "max_width": null,
            "min_height": null,
            "min_width": null,
            "object_fit": null,
            "object_position": null,
            "order": null,
            "overflow": null,
            "overflow_x": null,
            "overflow_y": null,
            "padding": null,
            "right": null,
            "top": null,
            "visibility": null,
            "width": null
          }
        },
        "0be4b03156094d329de5cd7ae108bb1a": {
          "model_module": "@jupyter-widgets/controls",
          "model_name": "DescriptionStyleModel",
          "model_module_version": "1.5.0",
          "state": {
            "_model_module": "@jupyter-widgets/controls",
            "_model_module_version": "1.5.0",
            "_model_name": "DescriptionStyleModel",
            "_view_count": null,
            "_view_module": "@jupyter-widgets/base",
            "_view_module_version": "1.2.0",
            "_view_name": "StyleView",
            "description_width": ""
          }
        },
        "ecc3c006dc6844c589d1ffcc8d36a19e": {
          "model_module": "@jupyter-widgets/base",
          "model_name": "LayoutModel",
          "model_module_version": "1.2.0",
          "state": {
            "_model_module": "@jupyter-widgets/base",
            "_model_module_version": "1.2.0",
            "_model_name": "LayoutModel",
            "_view_count": null,
            "_view_module": "@jupyter-widgets/base",
            "_view_module_version": "1.2.0",
            "_view_name": "LayoutView",
            "align_content": null,
            "align_items": null,
            "align_self": null,
            "border": null,
            "bottom": null,
            "display": null,
            "flex": null,
            "flex_flow": null,
            "grid_area": null,
            "grid_auto_columns": null,
            "grid_auto_flow": null,
            "grid_auto_rows": null,
            "grid_column": null,
            "grid_gap": null,
            "grid_row": null,
            "grid_template_areas": null,
            "grid_template_columns": null,
            "grid_template_rows": null,
            "height": null,
            "justify_content": null,
            "justify_items": null,
            "left": null,
            "margin": null,
            "max_height": null,
            "max_width": null,
            "min_height": null,
            "min_width": null,
            "object_fit": null,
            "object_position": null,
            "order": null,
            "overflow": null,
            "overflow_x": null,
            "overflow_y": null,
            "padding": null,
            "right": null,
            "top": null,
            "visibility": null,
            "width": null
          }
        },
        "46c66857f20b4a62b53f24eab0600549": {
          "model_module": "@jupyter-widgets/controls",
          "model_name": "ProgressStyleModel",
          "model_module_version": "1.5.0",
          "state": {
            "_model_module": "@jupyter-widgets/controls",
            "_model_module_version": "1.5.0",
            "_model_name": "ProgressStyleModel",
            "_view_count": null,
            "_view_module": "@jupyter-widgets/base",
            "_view_module_version": "1.2.0",
            "_view_name": "StyleView",
            "bar_color": null,
            "description_width": ""
          }
        },
        "ef888b2667c542e0b8903af351f3c4d9": {
          "model_module": "@jupyter-widgets/base",
          "model_name": "LayoutModel",
          "model_module_version": "1.2.0",
          "state": {
            "_model_module": "@jupyter-widgets/base",
            "_model_module_version": "1.2.0",
            "_model_name": "LayoutModel",
            "_view_count": null,
            "_view_module": "@jupyter-widgets/base",
            "_view_module_version": "1.2.0",
            "_view_name": "LayoutView",
            "align_content": null,
            "align_items": null,
            "align_self": null,
            "border": null,
            "bottom": null,
            "display": null,
            "flex": null,
            "flex_flow": null,
            "grid_area": null,
            "grid_auto_columns": null,
            "grid_auto_flow": null,
            "grid_auto_rows": null,
            "grid_column": null,
            "grid_gap": null,
            "grid_row": null,
            "grid_template_areas": null,
            "grid_template_columns": null,
            "grid_template_rows": null,
            "height": null,
            "justify_content": null,
            "justify_items": null,
            "left": null,
            "margin": null,
            "max_height": null,
            "max_width": null,
            "min_height": null,
            "min_width": null,
            "object_fit": null,
            "object_position": null,
            "order": null,
            "overflow": null,
            "overflow_x": null,
            "overflow_y": null,
            "padding": null,
            "right": null,
            "top": null,
            "visibility": null,
            "width": null
          }
        },
        "dcf847996bb14b7b96b722c82c801b0b": {
          "model_module": "@jupyter-widgets/controls",
          "model_name": "DescriptionStyleModel",
          "model_module_version": "1.5.0",
          "state": {
            "_model_module": "@jupyter-widgets/controls",
            "_model_module_version": "1.5.0",
            "_model_name": "DescriptionStyleModel",
            "_view_count": null,
            "_view_module": "@jupyter-widgets/base",
            "_view_module_version": "1.2.0",
            "_view_name": "StyleView",
            "description_width": ""
          }
        },
        "62686c86e1ce4582bd6d8fcad8feb9a7": {
          "model_module": "@jupyter-widgets/controls",
          "model_name": "HBoxModel",
          "model_module_version": "1.5.0",
          "state": {
            "_dom_classes": [],
            "_model_module": "@jupyter-widgets/controls",
            "_model_module_version": "1.5.0",
            "_model_name": "HBoxModel",
            "_view_count": null,
            "_view_module": "@jupyter-widgets/controls",
            "_view_module_version": "1.5.0",
            "_view_name": "HBoxView",
            "box_style": "",
            "children": [
              "IPY_MODEL_a0449319bb3644f6963d5dfcda602a80",
              "IPY_MODEL_b72cfe947dd24de39e569ea8af1d1a67",
              "IPY_MODEL_463854ed98c54d498f2027ede22d96bf"
            ],
            "layout": "IPY_MODEL_d26079c2811544d0bb194993b23acb2d"
          }
        },
        "a0449319bb3644f6963d5dfcda602a80": {
          "model_module": "@jupyter-widgets/controls",
          "model_name": "HTMLModel",
          "model_module_version": "1.5.0",
          "state": {
            "_dom_classes": [],
            "_model_module": "@jupyter-widgets/controls",
            "_model_module_version": "1.5.0",
            "_model_name": "HTMLModel",
            "_view_count": null,
            "_view_module": "@jupyter-widgets/controls",
            "_view_module_version": "1.5.0",
            "_view_name": "HTMLView",
            "description": "",
            "description_tooltip": null,
            "layout": "IPY_MODEL_42f33f113e5540ad95e3d707bdb64331",
            "placeholder": "​",
            "style": "IPY_MODEL_b847761b59a340c19ad710db4f5fde6f",
            "value": "tokenizer.json: 100%"
          }
        },
        "b72cfe947dd24de39e569ea8af1d1a67": {
          "model_module": "@jupyter-widgets/controls",
          "model_name": "FloatProgressModel",
          "model_module_version": "1.5.0",
          "state": {
            "_dom_classes": [],
            "_model_module": "@jupyter-widgets/controls",
            "_model_module_version": "1.5.0",
            "_model_name": "FloatProgressModel",
            "_view_count": null,
            "_view_module": "@jupyter-widgets/controls",
            "_view_module_version": "1.5.0",
            "_view_name": "ProgressView",
            "bar_style": "success",
            "description": "",
            "description_tooltip": null,
            "layout": "IPY_MODEL_748dc5f33a134282a8f6b624507a3182",
            "max": 711396,
            "min": 0,
            "orientation": "horizontal",
            "style": "IPY_MODEL_169a58f4d9d64a73a21bab99593a191a",
            "value": 711396
          }
        },
        "463854ed98c54d498f2027ede22d96bf": {
          "model_module": "@jupyter-widgets/controls",
          "model_name": "HTMLModel",
          "model_module_version": "1.5.0",
          "state": {
            "_dom_classes": [],
            "_model_module": "@jupyter-widgets/controls",
            "_model_module_version": "1.5.0",
            "_model_name": "HTMLModel",
            "_view_count": null,
            "_view_module": "@jupyter-widgets/controls",
            "_view_module_version": "1.5.0",
            "_view_name": "HTMLView",
            "description": "",
            "description_tooltip": null,
            "layout": "IPY_MODEL_6d64847263954bb9825f88da23374f79",
            "placeholder": "​",
            "style": "IPY_MODEL_33369a532f7d4fea900a0df9130331e5",
            "value": " 711k/711k [00:00&lt;00:00, 7.60MB/s]"
          }
        },
        "d26079c2811544d0bb194993b23acb2d": {
          "model_module": "@jupyter-widgets/base",
          "model_name": "LayoutModel",
          "model_module_version": "1.2.0",
          "state": {
            "_model_module": "@jupyter-widgets/base",
            "_model_module_version": "1.2.0",
            "_model_name": "LayoutModel",
            "_view_count": null,
            "_view_module": "@jupyter-widgets/base",
            "_view_module_version": "1.2.0",
            "_view_name": "LayoutView",
            "align_content": null,
            "align_items": null,
            "align_self": null,
            "border": null,
            "bottom": null,
            "display": null,
            "flex": null,
            "flex_flow": null,
            "grid_area": null,
            "grid_auto_columns": null,
            "grid_auto_flow": null,
            "grid_auto_rows": null,
            "grid_column": null,
            "grid_gap": null,
            "grid_row": null,
            "grid_template_areas": null,
            "grid_template_columns": null,
            "grid_template_rows": null,
            "height": null,
            "justify_content": null,
            "justify_items": null,
            "left": null,
            "margin": null,
            "max_height": null,
            "max_width": null,
            "min_height": null,
            "min_width": null,
            "object_fit": null,
            "object_position": null,
            "order": null,
            "overflow": null,
            "overflow_x": null,
            "overflow_y": null,
            "padding": null,
            "right": null,
            "top": null,
            "visibility": null,
            "width": null
          }
        },
        "42f33f113e5540ad95e3d707bdb64331": {
          "model_module": "@jupyter-widgets/base",
          "model_name": "LayoutModel",
          "model_module_version": "1.2.0",
          "state": {
            "_model_module": "@jupyter-widgets/base",
            "_model_module_version": "1.2.0",
            "_model_name": "LayoutModel",
            "_view_count": null,
            "_view_module": "@jupyter-widgets/base",
            "_view_module_version": "1.2.0",
            "_view_name": "LayoutView",
            "align_content": null,
            "align_items": null,
            "align_self": null,
            "border": null,
            "bottom": null,
            "display": null,
            "flex": null,
            "flex_flow": null,
            "grid_area": null,
            "grid_auto_columns": null,
            "grid_auto_flow": null,
            "grid_auto_rows": null,
            "grid_column": null,
            "grid_gap": null,
            "grid_row": null,
            "grid_template_areas": null,
            "grid_template_columns": null,
            "grid_template_rows": null,
            "height": null,
            "justify_content": null,
            "justify_items": null,
            "left": null,
            "margin": null,
            "max_height": null,
            "max_width": null,
            "min_height": null,
            "min_width": null,
            "object_fit": null,
            "object_position": null,
            "order": null,
            "overflow": null,
            "overflow_x": null,
            "overflow_y": null,
            "padding": null,
            "right": null,
            "top": null,
            "visibility": null,
            "width": null
          }
        },
        "b847761b59a340c19ad710db4f5fde6f": {
          "model_module": "@jupyter-widgets/controls",
          "model_name": "DescriptionStyleModel",
          "model_module_version": "1.5.0",
          "state": {
            "_model_module": "@jupyter-widgets/controls",
            "_model_module_version": "1.5.0",
            "_model_name": "DescriptionStyleModel",
            "_view_count": null,
            "_view_module": "@jupyter-widgets/base",
            "_view_module_version": "1.2.0",
            "_view_name": "StyleView",
            "description_width": ""
          }
        },
        "748dc5f33a134282a8f6b624507a3182": {
          "model_module": "@jupyter-widgets/base",
          "model_name": "LayoutModel",
          "model_module_version": "1.2.0",
          "state": {
            "_model_module": "@jupyter-widgets/base",
            "_model_module_version": "1.2.0",
            "_model_name": "LayoutModel",
            "_view_count": null,
            "_view_module": "@jupyter-widgets/base",
            "_view_module_version": "1.2.0",
            "_view_name": "LayoutView",
            "align_content": null,
            "align_items": null,
            "align_self": null,
            "border": null,
            "bottom": null,
            "display": null,
            "flex": null,
            "flex_flow": null,
            "grid_area": null,
            "grid_auto_columns": null,
            "grid_auto_flow": null,
            "grid_auto_rows": null,
            "grid_column": null,
            "grid_gap": null,
            "grid_row": null,
            "grid_template_areas": null,
            "grid_template_columns": null,
            "grid_template_rows": null,
            "height": null,
            "justify_content": null,
            "justify_items": null,
            "left": null,
            "margin": null,
            "max_height": null,
            "max_width": null,
            "min_height": null,
            "min_width": null,
            "object_fit": null,
            "object_position": null,
            "order": null,
            "overflow": null,
            "overflow_x": null,
            "overflow_y": null,
            "padding": null,
            "right": null,
            "top": null,
            "visibility": null,
            "width": null
          }
        },
        "169a58f4d9d64a73a21bab99593a191a": {
          "model_module": "@jupyter-widgets/controls",
          "model_name": "ProgressStyleModel",
          "model_module_version": "1.5.0",
          "state": {
            "_model_module": "@jupyter-widgets/controls",
            "_model_module_version": "1.5.0",
            "_model_name": "ProgressStyleModel",
            "_view_count": null,
            "_view_module": "@jupyter-widgets/base",
            "_view_module_version": "1.2.0",
            "_view_name": "StyleView",
            "bar_color": null,
            "description_width": ""
          }
        },
        "6d64847263954bb9825f88da23374f79": {
          "model_module": "@jupyter-widgets/base",
          "model_name": "LayoutModel",
          "model_module_version": "1.2.0",
          "state": {
            "_model_module": "@jupyter-widgets/base",
            "_model_module_version": "1.2.0",
            "_model_name": "LayoutModel",
            "_view_count": null,
            "_view_module": "@jupyter-widgets/base",
            "_view_module_version": "1.2.0",
            "_view_name": "LayoutView",
            "align_content": null,
            "align_items": null,
            "align_self": null,
            "border": null,
            "bottom": null,
            "display": null,
            "flex": null,
            "flex_flow": null,
            "grid_area": null,
            "grid_auto_columns": null,
            "grid_auto_flow": null,
            "grid_auto_rows": null,
            "grid_column": null,
            "grid_gap": null,
            "grid_row": null,
            "grid_template_areas": null,
            "grid_template_columns": null,
            "grid_template_rows": null,
            "height": null,
            "justify_content": null,
            "justify_items": null,
            "left": null,
            "margin": null,
            "max_height": null,
            "max_width": null,
            "min_height": null,
            "min_width": null,
            "object_fit": null,
            "object_position": null,
            "order": null,
            "overflow": null,
            "overflow_x": null,
            "overflow_y": null,
            "padding": null,
            "right": null,
            "top": null,
            "visibility": null,
            "width": null
          }
        },
        "33369a532f7d4fea900a0df9130331e5": {
          "model_module": "@jupyter-widgets/controls",
          "model_name": "DescriptionStyleModel",
          "model_module_version": "1.5.0",
          "state": {
            "_model_module": "@jupyter-widgets/controls",
            "_model_module_version": "1.5.0",
            "_model_name": "DescriptionStyleModel",
            "_view_count": null,
            "_view_module": "@jupyter-widgets/base",
            "_view_module_version": "1.2.0",
            "_view_name": "StyleView",
            "description_width": ""
          }
        },
        "bcb3f44c4fd9494aab3f22c49589dd78": {
          "model_module": "@jupyter-widgets/controls",
          "model_name": "HBoxModel",
          "model_module_version": "1.5.0",
          "state": {
            "_dom_classes": [],
            "_model_module": "@jupyter-widgets/controls",
            "_model_module_version": "1.5.0",
            "_model_name": "HBoxModel",
            "_view_count": null,
            "_view_module": "@jupyter-widgets/controls",
            "_view_module_version": "1.5.0",
            "_view_name": "HBoxView",
            "box_style": "",
            "children": [
              "IPY_MODEL_4ef8b2fc10eb4e0686fc43e05c28de31",
              "IPY_MODEL_11f57d574fe24298b5d954b1eeeb733a",
              "IPY_MODEL_7a2e1029e5664eb48a154e27207b7dae"
            ],
            "layout": "IPY_MODEL_23e45797d3da4cb3aa430932d1790f04"
          }
        },
        "4ef8b2fc10eb4e0686fc43e05c28de31": {
          "model_module": "@jupyter-widgets/controls",
          "model_name": "HTMLModel",
          "model_module_version": "1.5.0",
          "state": {
            "_dom_classes": [],
            "_model_module": "@jupyter-widgets/controls",
            "_model_module_version": "1.5.0",
            "_model_name": "HTMLModel",
            "_view_count": null,
            "_view_module": "@jupyter-widgets/controls",
            "_view_module_version": "1.5.0",
            "_view_name": "HTMLView",
            "description": "",
            "description_tooltip": null,
            "layout": "IPY_MODEL_9787469f60014fde8ca8cd91c3c75d91",
            "placeholder": "​",
            "style": "IPY_MODEL_26b0fc8652a3446a9cb004f3f987530b",
            "value": "special_tokens_map.json: 100%"
          }
        },
        "11f57d574fe24298b5d954b1eeeb733a": {
          "model_module": "@jupyter-widgets/controls",
          "model_name": "FloatProgressModel",
          "model_module_version": "1.5.0",
          "state": {
            "_dom_classes": [],
            "_model_module": "@jupyter-widgets/controls",
            "_model_module_version": "1.5.0",
            "_model_name": "FloatProgressModel",
            "_view_count": null,
            "_view_module": "@jupyter-widgets/controls",
            "_view_module_version": "1.5.0",
            "_view_name": "ProgressView",
            "bar_style": "success",
            "description": "",
            "description_tooltip": null,
            "layout": "IPY_MODEL_8284df41f8f34b66b80aac1c4f525e8b",
            "max": 125,
            "min": 0,
            "orientation": "horizontal",
            "style": "IPY_MODEL_9e02c4cdd37d402f85c58a0b3953d072",
            "value": 125
          }
        },
        "7a2e1029e5664eb48a154e27207b7dae": {
          "model_module": "@jupyter-widgets/controls",
          "model_name": "HTMLModel",
          "model_module_version": "1.5.0",
          "state": {
            "_dom_classes": [],
            "_model_module": "@jupyter-widgets/controls",
            "_model_module_version": "1.5.0",
            "_model_name": "HTMLModel",
            "_view_count": null,
            "_view_module": "@jupyter-widgets/controls",
            "_view_module_version": "1.5.0",
            "_view_name": "HTMLView",
            "description": "",
            "description_tooltip": null,
            "layout": "IPY_MODEL_c29366cd943b4424bf5541bda2f231e3",
            "placeholder": "​",
            "style": "IPY_MODEL_fd300ee73b39408ba1a07a5632e85cf9",
            "value": " 125/125 [00:00&lt;00:00, 6.25kB/s]"
          }
        },
        "23e45797d3da4cb3aa430932d1790f04": {
          "model_module": "@jupyter-widgets/base",
          "model_name": "LayoutModel",
          "model_module_version": "1.2.0",
          "state": {
            "_model_module": "@jupyter-widgets/base",
            "_model_module_version": "1.2.0",
            "_model_name": "LayoutModel",
            "_view_count": null,
            "_view_module": "@jupyter-widgets/base",
            "_view_module_version": "1.2.0",
            "_view_name": "LayoutView",
            "align_content": null,
            "align_items": null,
            "align_self": null,
            "border": null,
            "bottom": null,
            "display": null,
            "flex": null,
            "flex_flow": null,
            "grid_area": null,
            "grid_auto_columns": null,
            "grid_auto_flow": null,
            "grid_auto_rows": null,
            "grid_column": null,
            "grid_gap": null,
            "grid_row": null,
            "grid_template_areas": null,
            "grid_template_columns": null,
            "grid_template_rows": null,
            "height": null,
            "justify_content": null,
            "justify_items": null,
            "left": null,
            "margin": null,
            "max_height": null,
            "max_width": null,
            "min_height": null,
            "min_width": null,
            "object_fit": null,
            "object_position": null,
            "order": null,
            "overflow": null,
            "overflow_x": null,
            "overflow_y": null,
            "padding": null,
            "right": null,
            "top": null,
            "visibility": null,
            "width": null
          }
        },
        "9787469f60014fde8ca8cd91c3c75d91": {
          "model_module": "@jupyter-widgets/base",
          "model_name": "LayoutModel",
          "model_module_version": "1.2.0",
          "state": {
            "_model_module": "@jupyter-widgets/base",
            "_model_module_version": "1.2.0",
            "_model_name": "LayoutModel",
            "_view_count": null,
            "_view_module": "@jupyter-widgets/base",
            "_view_module_version": "1.2.0",
            "_view_name": "LayoutView",
            "align_content": null,
            "align_items": null,
            "align_self": null,
            "border": null,
            "bottom": null,
            "display": null,
            "flex": null,
            "flex_flow": null,
            "grid_area": null,
            "grid_auto_columns": null,
            "grid_auto_flow": null,
            "grid_auto_rows": null,
            "grid_column": null,
            "grid_gap": null,
            "grid_row": null,
            "grid_template_areas": null,
            "grid_template_columns": null,
            "grid_template_rows": null,
            "height": null,
            "justify_content": null,
            "justify_items": null,
            "left": null,
            "margin": null,
            "max_height": null,
            "max_width": null,
            "min_height": null,
            "min_width": null,
            "object_fit": null,
            "object_position": null,
            "order": null,
            "overflow": null,
            "overflow_x": null,
            "overflow_y": null,
            "padding": null,
            "right": null,
            "top": null,
            "visibility": null,
            "width": null
          }
        },
        "26b0fc8652a3446a9cb004f3f987530b": {
          "model_module": "@jupyter-widgets/controls",
          "model_name": "DescriptionStyleModel",
          "model_module_version": "1.5.0",
          "state": {
            "_model_module": "@jupyter-widgets/controls",
            "_model_module_version": "1.5.0",
            "_model_name": "DescriptionStyleModel",
            "_view_count": null,
            "_view_module": "@jupyter-widgets/base",
            "_view_module_version": "1.2.0",
            "_view_name": "StyleView",
            "description_width": ""
          }
        },
        "8284df41f8f34b66b80aac1c4f525e8b": {
          "model_module": "@jupyter-widgets/base",
          "model_name": "LayoutModel",
          "model_module_version": "1.2.0",
          "state": {
            "_model_module": "@jupyter-widgets/base",
            "_model_module_version": "1.2.0",
            "_model_name": "LayoutModel",
            "_view_count": null,
            "_view_module": "@jupyter-widgets/base",
            "_view_module_version": "1.2.0",
            "_view_name": "LayoutView",
            "align_content": null,
            "align_items": null,
            "align_self": null,
            "border": null,
            "bottom": null,
            "display": null,
            "flex": null,
            "flex_flow": null,
            "grid_area": null,
            "grid_auto_columns": null,
            "grid_auto_flow": null,
            "grid_auto_rows": null,
            "grid_column": null,
            "grid_gap": null,
            "grid_row": null,
            "grid_template_areas": null,
            "grid_template_columns": null,
            "grid_template_rows": null,
            "height": null,
            "justify_content": null,
            "justify_items": null,
            "left": null,
            "margin": null,
            "max_height": null,
            "max_width": null,
            "min_height": null,
            "min_width": null,
            "object_fit": null,
            "object_position": null,
            "order": null,
            "overflow": null,
            "overflow_x": null,
            "overflow_y": null,
            "padding": null,
            "right": null,
            "top": null,
            "visibility": null,
            "width": null
          }
        },
        "9e02c4cdd37d402f85c58a0b3953d072": {
          "model_module": "@jupyter-widgets/controls",
          "model_name": "ProgressStyleModel",
          "model_module_version": "1.5.0",
          "state": {
            "_model_module": "@jupyter-widgets/controls",
            "_model_module_version": "1.5.0",
            "_model_name": "ProgressStyleModel",
            "_view_count": null,
            "_view_module": "@jupyter-widgets/base",
            "_view_module_version": "1.2.0",
            "_view_name": "StyleView",
            "bar_color": null,
            "description_width": ""
          }
        },
        "c29366cd943b4424bf5541bda2f231e3": {
          "model_module": "@jupyter-widgets/base",
          "model_name": "LayoutModel",
          "model_module_version": "1.2.0",
          "state": {
            "_model_module": "@jupyter-widgets/base",
            "_model_module_version": "1.2.0",
            "_model_name": "LayoutModel",
            "_view_count": null,
            "_view_module": "@jupyter-widgets/base",
            "_view_module_version": "1.2.0",
            "_view_name": "LayoutView",
            "align_content": null,
            "align_items": null,
            "align_self": null,
            "border": null,
            "bottom": null,
            "display": null,
            "flex": null,
            "flex_flow": null,
            "grid_area": null,
            "grid_auto_columns": null,
            "grid_auto_flow": null,
            "grid_auto_rows": null,
            "grid_column": null,
            "grid_gap": null,
            "grid_row": null,
            "grid_template_areas": null,
            "grid_template_columns": null,
            "grid_template_rows": null,
            "height": null,
            "justify_content": null,
            "justify_items": null,
            "left": null,
            "margin": null,
            "max_height": null,
            "max_width": null,
            "min_height": null,
            "min_width": null,
            "object_fit": null,
            "object_position": null,
            "order": null,
            "overflow": null,
            "overflow_x": null,
            "overflow_y": null,
            "padding": null,
            "right": null,
            "top": null,
            "visibility": null,
            "width": null
          }
        },
        "fd300ee73b39408ba1a07a5632e85cf9": {
          "model_module": "@jupyter-widgets/controls",
          "model_name": "DescriptionStyleModel",
          "model_module_version": "1.5.0",
          "state": {
            "_model_module": "@jupyter-widgets/controls",
            "_model_module_version": "1.5.0",
            "_model_name": "DescriptionStyleModel",
            "_view_count": null,
            "_view_module": "@jupyter-widgets/base",
            "_view_module_version": "1.2.0",
            "_view_name": "StyleView",
            "description_width": ""
          }
        },
        "b664f0c92a0840df952e8ae669696ef7": {
          "model_module": "@jupyter-widgets/controls",
          "model_name": "HBoxModel",
          "model_module_version": "1.5.0",
          "state": {
            "_dom_classes": [],
            "_model_module": "@jupyter-widgets/controls",
            "_model_module_version": "1.5.0",
            "_model_name": "HBoxModel",
            "_view_count": null,
            "_view_module": "@jupyter-widgets/controls",
            "_view_module_version": "1.5.0",
            "_view_name": "HBoxView",
            "box_style": "",
            "children": [
              "IPY_MODEL_9daa9eaecd9047218c0562f3572ec06f",
              "IPY_MODEL_c7028239acf04d479b79f7b3a620e5b4",
              "IPY_MODEL_94bf83978a8b43c48cfcffd8aecd08af"
            ],
            "layout": "IPY_MODEL_45f441b9cfec4c439de9dca1ad584def"
          }
        },
        "9daa9eaecd9047218c0562f3572ec06f": {
          "model_module": "@jupyter-widgets/controls",
          "model_name": "HTMLModel",
          "model_module_version": "1.5.0",
          "state": {
            "_dom_classes": [],
            "_model_module": "@jupyter-widgets/controls",
            "_model_module_version": "1.5.0",
            "_model_name": "HTMLModel",
            "_view_count": null,
            "_view_module": "@jupyter-widgets/controls",
            "_view_module_version": "1.5.0",
            "_view_name": "HTMLView",
            "description": "",
            "description_tooltip": null,
            "layout": "IPY_MODEL_c41c618e42d64bb58a165e877856878d",
            "placeholder": "​",
            "style": "IPY_MODEL_f0b837dd56e64c0893a3ed73756b7374",
            "value": "1_Pooling/config.json: 100%"
          }
        },
        "c7028239acf04d479b79f7b3a620e5b4": {
          "model_module": "@jupyter-widgets/controls",
          "model_name": "FloatProgressModel",
          "model_module_version": "1.5.0",
          "state": {
            "_dom_classes": [],
            "_model_module": "@jupyter-widgets/controls",
            "_model_module_version": "1.5.0",
            "_model_name": "FloatProgressModel",
            "_view_count": null,
            "_view_module": "@jupyter-widgets/controls",
            "_view_module_version": "1.5.0",
            "_view_name": "ProgressView",
            "bar_style": "success",
            "description": "",
            "description_tooltip": null,
            "layout": "IPY_MODEL_3576c1bbf20543aa9aa346ba67d50174",
            "max": 201,
            "min": 0,
            "orientation": "horizontal",
            "style": "IPY_MODEL_d545324e15014ba588f553fcebea51b3",
            "value": 201
          }
        },
        "94bf83978a8b43c48cfcffd8aecd08af": {
          "model_module": "@jupyter-widgets/controls",
          "model_name": "HTMLModel",
          "model_module_version": "1.5.0",
          "state": {
            "_dom_classes": [],
            "_model_module": "@jupyter-widgets/controls",
            "_model_module_version": "1.5.0",
            "_model_name": "HTMLModel",
            "_view_count": null,
            "_view_module": "@jupyter-widgets/controls",
            "_view_module_version": "1.5.0",
            "_view_name": "HTMLView",
            "description": "",
            "description_tooltip": null,
            "layout": "IPY_MODEL_c1a27be0c8d84d7fa947e24d5efafff3",
            "placeholder": "​",
            "style": "IPY_MODEL_6fdb1dcb98ef4223ad40c998d1c66ae0",
            "value": " 201/201 [00:00&lt;00:00, 6.12kB/s]"
          }
        },
        "45f441b9cfec4c439de9dca1ad584def": {
          "model_module": "@jupyter-widgets/base",
          "model_name": "LayoutModel",
          "model_module_version": "1.2.0",
          "state": {
            "_model_module": "@jupyter-widgets/base",
            "_model_module_version": "1.2.0",
            "_model_name": "LayoutModel",
            "_view_count": null,
            "_view_module": "@jupyter-widgets/base",
            "_view_module_version": "1.2.0",
            "_view_name": "LayoutView",
            "align_content": null,
            "align_items": null,
            "align_self": null,
            "border": null,
            "bottom": null,
            "display": null,
            "flex": null,
            "flex_flow": null,
            "grid_area": null,
            "grid_auto_columns": null,
            "grid_auto_flow": null,
            "grid_auto_rows": null,
            "grid_column": null,
            "grid_gap": null,
            "grid_row": null,
            "grid_template_areas": null,
            "grid_template_columns": null,
            "grid_template_rows": null,
            "height": null,
            "justify_content": null,
            "justify_items": null,
            "left": null,
            "margin": null,
            "max_height": null,
            "max_width": null,
            "min_height": null,
            "min_width": null,
            "object_fit": null,
            "object_position": null,
            "order": null,
            "overflow": null,
            "overflow_x": null,
            "overflow_y": null,
            "padding": null,
            "right": null,
            "top": null,
            "visibility": null,
            "width": null
          }
        },
        "c41c618e42d64bb58a165e877856878d": {
          "model_module": "@jupyter-widgets/base",
          "model_name": "LayoutModel",
          "model_module_version": "1.2.0",
          "state": {
            "_model_module": "@jupyter-widgets/base",
            "_model_module_version": "1.2.0",
            "_model_name": "LayoutModel",
            "_view_count": null,
            "_view_module": "@jupyter-widgets/base",
            "_view_module_version": "1.2.0",
            "_view_name": "LayoutView",
            "align_content": null,
            "align_items": null,
            "align_self": null,
            "border": null,
            "bottom": null,
            "display": null,
            "flex": null,
            "flex_flow": null,
            "grid_area": null,
            "grid_auto_columns": null,
            "grid_auto_flow": null,
            "grid_auto_rows": null,
            "grid_column": null,
            "grid_gap": null,
            "grid_row": null,
            "grid_template_areas": null,
            "grid_template_columns": null,
            "grid_template_rows": null,
            "height": null,
            "justify_content": null,
            "justify_items": null,
            "left": null,
            "margin": null,
            "max_height": null,
            "max_width": null,
            "min_height": null,
            "min_width": null,
            "object_fit": null,
            "object_position": null,
            "order": null,
            "overflow": null,
            "overflow_x": null,
            "overflow_y": null,
            "padding": null,
            "right": null,
            "top": null,
            "visibility": null,
            "width": null
          }
        },
        "f0b837dd56e64c0893a3ed73756b7374": {
          "model_module": "@jupyter-widgets/controls",
          "model_name": "DescriptionStyleModel",
          "model_module_version": "1.5.0",
          "state": {
            "_model_module": "@jupyter-widgets/controls",
            "_model_module_version": "1.5.0",
            "_model_name": "DescriptionStyleModel",
            "_view_count": null,
            "_view_module": "@jupyter-widgets/base",
            "_view_module_version": "1.2.0",
            "_view_name": "StyleView",
            "description_width": ""
          }
        },
        "3576c1bbf20543aa9aa346ba67d50174": {
          "model_module": "@jupyter-widgets/base",
          "model_name": "LayoutModel",
          "model_module_version": "1.2.0",
          "state": {
            "_model_module": "@jupyter-widgets/base",
            "_model_module_version": "1.2.0",
            "_model_name": "LayoutModel",
            "_view_count": null,
            "_view_module": "@jupyter-widgets/base",
            "_view_module_version": "1.2.0",
            "_view_name": "LayoutView",
            "align_content": null,
            "align_items": null,
            "align_self": null,
            "border": null,
            "bottom": null,
            "display": null,
            "flex": null,
            "flex_flow": null,
            "grid_area": null,
            "grid_auto_columns": null,
            "grid_auto_flow": null,
            "grid_auto_rows": null,
            "grid_column": null,
            "grid_gap": null,
            "grid_row": null,
            "grid_template_areas": null,
            "grid_template_columns": null,
            "grid_template_rows": null,
            "height": null,
            "justify_content": null,
            "justify_items": null,
            "left": null,
            "margin": null,
            "max_height": null,
            "max_width": null,
            "min_height": null,
            "min_width": null,
            "object_fit": null,
            "object_position": null,
            "order": null,
            "overflow": null,
            "overflow_x": null,
            "overflow_y": null,
            "padding": null,
            "right": null,
            "top": null,
            "visibility": null,
            "width": null
          }
        },
        "d545324e15014ba588f553fcebea51b3": {
          "model_module": "@jupyter-widgets/controls",
          "model_name": "ProgressStyleModel",
          "model_module_version": "1.5.0",
          "state": {
            "_model_module": "@jupyter-widgets/controls",
            "_model_module_version": "1.5.0",
            "_model_name": "ProgressStyleModel",
            "_view_count": null,
            "_view_module": "@jupyter-widgets/base",
            "_view_module_version": "1.2.0",
            "_view_name": "StyleView",
            "bar_color": null,
            "description_width": ""
          }
        },
        "c1a27be0c8d84d7fa947e24d5efafff3": {
          "model_module": "@jupyter-widgets/base",
          "model_name": "LayoutModel",
          "model_module_version": "1.2.0",
          "state": {
            "_model_module": "@jupyter-widgets/base",
            "_model_module_version": "1.2.0",
            "_model_name": "LayoutModel",
            "_view_count": null,
            "_view_module": "@jupyter-widgets/base",
            "_view_module_version": "1.2.0",
            "_view_name": "LayoutView",
            "align_content": null,
            "align_items": null,
            "align_self": null,
            "border": null,
            "bottom": null,
            "display": null,
            "flex": null,
            "flex_flow": null,
            "grid_area": null,
            "grid_auto_columns": null,
            "grid_auto_flow": null,
            "grid_auto_rows": null,
            "grid_column": null,
            "grid_gap": null,
            "grid_row": null,
            "grid_template_areas": null,
            "grid_template_columns": null,
            "grid_template_rows": null,
            "height": null,
            "justify_content": null,
            "justify_items": null,
            "left": null,
            "margin": null,
            "max_height": null,
            "max_width": null,
            "min_height": null,
            "min_width": null,
            "object_fit": null,
            "object_position": null,
            "order": null,
            "overflow": null,
            "overflow_x": null,
            "overflow_y": null,
            "padding": null,
            "right": null,
            "top": null,
            "visibility": null,
            "width": null
          }
        },
        "6fdb1dcb98ef4223ad40c998d1c66ae0": {
          "model_module": "@jupyter-widgets/controls",
          "model_name": "DescriptionStyleModel",
          "model_module_version": "1.5.0",
          "state": {
            "_model_module": "@jupyter-widgets/controls",
            "_model_module_version": "1.5.0",
            "_model_name": "DescriptionStyleModel",
            "_view_count": null,
            "_view_module": "@jupyter-widgets/base",
            "_view_module_version": "1.2.0",
            "_view_name": "StyleView",
            "description_width": ""
          }
        }
      }
    }
  },
  "nbformat": 4,
  "nbformat_minor": 5
}